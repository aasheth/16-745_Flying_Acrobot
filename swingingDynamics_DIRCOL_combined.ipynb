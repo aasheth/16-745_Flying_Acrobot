{
 "cells": [
  {
   "cell_type": "code",
   "execution_count": 19,
   "id": "209fc7b1-832b-4902-9c6c-ca20a7152468",
   "metadata": {},
   "outputs": [
    {
     "name": "stderr",
     "output_type": "stream",
     "text": [
      "\u001b[32m\u001b[1m  Activating\u001b[22m\u001b[39m environment at `C:\\Users\\ameys\\Desktop\\Spring '24\\16-745_OptimalControlAndRL\\16-745_Flying_Acrobot\\Project.toml`\n"
     ]
    }
   ],
   "source": [
    "import Pkg\n",
    "Pkg.activate(@__DIR__)\n",
    "Pkg.instantiate()\n",
    "import MathOptInterface as MOI\n",
    "import Ipopt \n",
    "import FiniteDiff\n",
    "import ForwardDiff\n",
    "import Convex as cvx \n",
    "import ECOS\n",
    "using LinearAlgebra\n",
    "using Plots\n",
    "using Random\n",
    "using JLD2\n",
    "using Test\n",
    "import MeshCat as mc\n",
    "using MeshCat"
   ]
  },
  {
   "cell_type": "code",
   "execution_count": 20,
   "id": "9288ecfe-18fd-486b-b41e-59d605eeb170",
   "metadata": {},
   "outputs": [
    {
     "data": {
      "text/plain": [
       "animate_cartpole (generic function with 1 method)"
      ]
     },
     "execution_count": 20,
     "metadata": {},
     "output_type": "execute_result"
    }
   ],
   "source": [
    "include(joinpath(@__DIR__, \"utils\",\"fmincon.jl\"))\n",
    "include(joinpath(@__DIR__, \"utils\",\"cartpole_animation.jl\"))"
   ]
  },
  {
   "cell_type": "code",
   "execution_count": 21,
   "id": "e7593aa6-e6e8-4df1-b2da-e08b7f8dcb3d",
   "metadata": {},
   "outputs": [
    {
     "data": {
      "text/plain": [
       "hermite_simpson (generic function with 1 method)"
      ]
     },
     "execution_count": 21,
     "metadata": {},
     "output_type": "execute_result"
    }
   ],
   "source": [
    "#copied from RobotZoo src\n",
    "function swinging_dynamics(params, x, u)\n",
    "    g = 9.81\n",
    "    m1,m2 = [1.,1.]\n",
    "    l1,l2 = [1.,1.]\n",
    "    J1,J2 = [1.,1.]\n",
    "    θ1,    θ2    = x[3], x[4]\n",
    "    θ1dot, θ2dot = x[7], x[8]\n",
    "    s1,c1 = sincos(θ1)\n",
    "    s2,c2 = sincos(θ2)\n",
    "    c12 = cos(θ1 + θ2)\n",
    "\n",
    "    # mass matrix\n",
    "    m11 = m1*l1^2 + J1 + m2*(l1^2 + l2^2 + 2*l1*l2*c2) + J2\n",
    "    m12 = m2*(l2^2 + l1*l2*c2 + J2)\n",
    "    m22 = l2^2*m2 + J2\n",
    "    M = [m11 m12; m12 m22]\n",
    "\n",
    "    # bias term\n",
    "    tmp = l1*l2*m2*s2\n",
    "    b1 = -(2 * θ1dot * θ2dot + θ2dot^2)*tmp\n",
    "    b2 = tmp * θ1dot^2\n",
    "    B = [b1, b2]\n",
    "\n",
    "    # friction\n",
    "    c = 1.0\n",
    "    C = [c*θ1dot, c*θ2dot]\n",
    "\n",
    "    # gravity term\n",
    "    g1 = ((m1 + m2)*l2*c1 + m2*l2*c12) * g\n",
    "    g2 = m2*l2*c12*g\n",
    "    G = [g1, g2]\n",
    "\n",
    "    # equations of motion\n",
    "    τ = [0, u[1]]\n",
    "    θddot = M\\(τ - B - G - C)\n",
    "    return [0, 0, θ1dot, θ2dot, 0, 0, θddot[1], θddot[2]]\n",
    "end\n",
    "\n",
    "\n",
    "function f(params, q)\n",
    "    #= \n",
    "    this function returns a new state vector [x1, y1, x2, y2, θ1, θ2], good for calculating M(q)\n",
    "    x1, y1 = coordinates of C.O.M. of link 1\n",
    "    x2, y2 = coordinates of C.O.M. of link 2\n",
    "    θ1, θ2 = angle between axis of link and x-axis for links 1 and 2\n",
    "    =#\n",
    "    l1, l2 = params.l1, params.l2\n",
    "    x, y, θ1, θ2 = q[1], q[2], q[3], q[4]\n",
    "    s1,c1 = sincos(θ1)\n",
    "    s2,c2 = sincos(θ2)\n",
    "    s12, c12 = sincos(θ1 + θ2)\n",
    "    return [x + l1/2*c1, y + l1/2*s1, x + l1*c1 + l2/2*c12, y + l1*s1 + l2/2*s12, θ1, θ2] \n",
    "end\n",
    "\n",
    "function Mq(params, q)\n",
    "    # returns the M(q) matrix used for Euler Lagrange equation\n",
    "    m1,m2,I1,I2 = params.m1,params.m2,params.I1,params.I2\n",
    "    M = diagm([m1,m1,m2,m2,I1,I2])\n",
    "    δfδq = ForwardDiff.jacobian(dq -> f(params, dq), q)\n",
    "    Mq = δfδq'*M*δfδq\n",
    "    return Mq\n",
    "end\n",
    "\n",
    "function V(params, q)\n",
    "    # returns the P.E. of the two-link system, used for calculting the B term in Euler Lagrange equation\n",
    "    g = 9.81\n",
    "    m1,m2,l1,l2 = params.m1,params.m2,params.l1, params.l2\n",
    "    x, y, θ1, θ2 = q[1], q[2], q[3], q[4]\n",
    "    s1,c1 = sincos(θ1)\n",
    "    s2,c2 = sincos(θ2)\n",
    "    s12, c12 = sincos(θ1 + θ2)\n",
    "    V = m1*g*(y + l1/2*s1) + m2*g*(y + l1*s1 + l2/2*s12)\n",
    "    return V\n",
    "end\n",
    "\n",
    "function flight_dynamics(params, x, u)\n",
    "    #=\n",
    "    dynamics of the two-link system while air-borne\n",
    "    calculates qddot using Euler Lagrange equation\n",
    "    returns ẋ\n",
    "    =#\n",
    "    nx = params.nx\n",
    "    q = [x[i] for i = 1:4]\n",
    "    q̇ = [x[i] for i = 5:8]\n",
    "    \n",
    "    # mass matrix and its derivative wrt q\n",
    "    M_q = Mq(params, q)\n",
    "    δMqδq = ForwardDiff.jacobian(dq -> vec(Mq(params, dq)), q)\n",
    "\n",
    "    # N, C, τ terms\n",
    "    N = ForwardDiff.gradient(dq -> V(params, dq), q)\n",
    "    #size(kron(q̇', I(4)))\n",
    "    #size(δMqδq)\n",
    "    C = 1/2*(kron(q̇', I(4))*δMqδq*q̇)\n",
    "    τ = [0, 0, 0, u[1]]\n",
    "\n",
    "    #equations of motion\n",
    "    qddot = M_q \\ (τ - N - C)\n",
    "    return [q̇; qddot]\n",
    "end\n",
    "\n",
    "function hermite_simpson(params::NamedTuple, dynamics::Function, x1::Vector, x2::Vector, u, dt::Real)::Vector\n",
    "    # TODO: input hermite simpson implicit integrator residual \n",
    "    x_k_half = 0.5*(x1+x2) + (dt/8)*(dynamics(params, x1, u) - dynamics(params, x2, u))\n",
    "    return x1 + (dt/6)*(dynamics(params, x1, u) + 4*dynamics(params, x_k_half, u) + \n",
    "        dynamics(params, x2, u)) - x2\n",
    "end"
   ]
  },
  {
   "cell_type": "code",
   "execution_count": 35,
   "id": "9495f48b-00ce-4bca-8b5e-206357dec9fd",
   "metadata": {},
   "outputs": [
    {
     "data": {
      "text/plain": [
       "swinging_equality_constraint (generic function with 1 method)"
      ]
     },
     "execution_count": 35,
     "metadata": {},
     "output_type": "execute_result"
    }
   ],
   "source": [
    "function create_idx(nx,nu,N)\n",
    "    # This function creates some useful indexing tools for Z \n",
    "    # x_i = Z[idx.x[i]]\n",
    "    # u_i = Z[idx.u[i]]\n",
    "    \n",
    "    # our Z vector is [x0, u0, x1, u1, …, xN]\n",
    "    nz = (N-1) * nu + (N) * nx # length of Z \n",
    "    x = [(i - 1) * (nx + nu) .+ (1 : nx) for i = 1:N]\n",
    "    u = [(i - 1) * (nx + nu) .+ ((nx + 1):(nx + nu)) for i = 1:(N - 1)]\n",
    "    \n",
    "    # constraint indexing for the (N-1) dynamics constraints when stacked up\n",
    "    c = [(i - 1) * (nx) .+ (1 : nx) for i = 1:(N - 1)]\n",
    "    nc = (N - 1) * nx # (N-1)*nx \n",
    "    \n",
    "    return (nx=nx,nu=nu,N=N,nz=nz,nc=nc,x= x,u = u,c = c)\n",
    "end\n",
    "\n",
    "function swinging_cost(params::NamedTuple, Z::Vector)::Real\n",
    "    idx, N, xg, N1 = params.idx, params.N, params.xg, params.N1\n",
    "    Q, R, Qf = params.Q, params.R, params.Qf\n",
    "    \n",
    "    # TODO: input cartpole LQR cost \n",
    "    \n",
    "    J = 0 \n",
    "    for i = 1:(N1-1)\n",
    "        xi = Z[idx.x[i]]\n",
    "        ui = Z[idx.u[i]]\n",
    "        J += 1/2*(ui'*R*ui)\n",
    "    end\n",
    "\n",
    "    # dont forget terminal cost\n",
    "    # xn = Z[idx.x[N]]\n",
    "    # J += 1/2*(xn - xg)'*Qf*(xn - xg)    \n",
    "    \n",
    "    return J \n",
    "end\n",
    "\n",
    "function swinging_dynamics_constraints(params::NamedTuple, Z::Vector)::Vector\n",
    "    idx, N, dt, N1 = params.idx, params.N, params.dt, params.N1\n",
    "    \n",
    "    # TODO: create dynamics constraints using hermite simpson \n",
    "    \n",
    "    # create c in a ForwardDiff friendly way (check HW0)\n",
    "    c = zeros(eltype(Z), idx.nc)\n",
    "    \n",
    "    for i = 1:(N-1)\n",
    "        xi = Z[idx.x[i]]\n",
    "        ui = Z[idx.u[i]] \n",
    "        xip1 = Z[idx.x[i+1]]\n",
    "        \n",
    "        # TODO: hermite simpson \n",
    "        c[idx.c[i]] = hermite_simpson(params, swinging_dynamics, xi, xip1, ui, dt)\n",
    "    end\n",
    "\n",
    "    for i = N:N1-1\n",
    "        xi = Z[idx.x[i]]\n",
    "        ui = Z[idx.u[i]] \n",
    "        xip1 = Z[idx.x[i+1]]\n",
    "        \n",
    "        # TODO: hermite simpson \n",
    "        c[idx.c[i]] = hermite_simpson(params, flight_dynamics, xi, xip1, ui, dt)\n",
    "    end\n",
    "        \n",
    "    return c \n",
    "end\n",
    "\n",
    "function swinging_equality_constraint(params::NamedTuple, Z::Vector)::Vector\n",
    "    N, idx, xic, xg = params.N, params.idx, params.xic, params.xg \n",
    "    \n",
    "    # TODO: return all of the equality constraints \n",
    "    equality_constraints = [Z[idx.x[1]] - xic;  \n",
    "        swinging_dynamics_constraints(params, Z)]\n",
    "    \n",
    "    return equality_constraints # 10 is an arbitrary number \n",
    "end"
   ]
  },
  {
   "cell_type": "code",
   "execution_count": 23,
   "id": "3b42c03b-9813-43d3-bff5-d3259e2df2a8",
   "metadata": {},
   "outputs": [
    {
     "data": {
      "text/plain": [
       "0.8403801886015861"
      ]
     },
     "execution_count": 23,
     "metadata": {},
     "output_type": "execute_result"
    }
   ],
   "source": [
    "d = 2 # distance between bars\n",
    "v = (d*9.81/(2*sin(pi/3)*cos(pi/3)))^0.5\n",
    "t = d/(v*cos(pi/3))"
   ]
  },
  {
   "cell_type": "code",
   "execution_count": 36,
   "id": "65b2d4a0-8089-4fce-aa50-a3eff23e6401",
   "metadata": {},
   "outputs": [
    {
     "data": {
      "text/plain": [
       "solve_flight (generic function with 1 method)"
      ]
     },
     "execution_count": 36,
     "metadata": {},
     "output_type": "execute_result"
    }
   ],
   "source": [
    "function solve_flight(;verbose = true)\n",
    "    d = 2 # distance between bars\n",
    "    v = (d*9.81/(2*sin(pi/3)*cos(pi/3)))^0.5\n",
    "    t = d/(v*cos(pi/3))\n",
    "    \n",
    "    nx = 8\n",
    "    nu = 1\n",
    "    dt = 0.05\n",
    "    tf = 5\n",
    "    t_vec = 0:dt:tf \n",
    "    N = length(0:dt:tf-1)\n",
    "    N1 = length(t_vec)\n",
    "\n",
    "    #LQR cost\n",
    "    Q = Diagonal([1.0*ones(2); 0.1*ones(2)]);\n",
    "    R = 0.01;\n",
    "    Qf = Array(10*I(nx));\n",
    "\n",
    "    # indexing \n",
    "    idx = create_idx(nx,nu,N1)\n",
    "    \n",
    "    # initial and goal states \n",
    "    xic = [0, 0, 0, 0, 0, 0, 0, 0]\n",
    "    xg = [2, 0, -pi/3, pi/3, v*cos(pi/3), -v*sin(pi/3), 0, 0]\n",
    "\n",
    "    #load everything useful into params\n",
    "    params = (Q = Q, R = R, Qf = Qf, xic = xic, xg = xg, dt = dt, N = N, N1 = N1, idx = idx, nx = nx, m1 = 1, m2 = 1, I1 = 1, I2 = 1, l1 = 1, l2 = 1)\n",
    "\n",
    "    # TODO: primal bounds \n",
    "    x_l = -Inf*ones(idx.nz)\n",
    "    x_u = Inf*ones(idx.nz)\n",
    "\n",
    "    for i = 1:N-1\n",
    "        x_l[idx.u[i]] .= -100\n",
    "        x_u[idx.u[i]] .= 100\n",
    "    end\n",
    "\n",
    "    # inequality constraint bounds (this is what we do when we have no inequality constraints)\n",
    "    c_l = [0]\n",
    "    c_u = [0.1]\n",
    "    \n",
    "    function inequality_constraint(params, Z)\n",
    "        xf = Z[idx.x[N1]][1:2]\n",
    "        \n",
    "        return [norm(xf - [2, 0])]\n",
    "    end\n",
    "\n",
    "    # initial guess \n",
    "    z0 = 0.001*randn(idx.nz)\n",
    "\n",
    "    diff_type = :auto\n",
    "\n",
    "    Z = fmincon(swinging_cost, swinging_equality_constraint, inequality_constraint,\n",
    "                x_l,x_u,c_l,c_u,z0,params, diff_type;\n",
    "                tol = 1e-3, c_tol = 1e-3, max_iters = 10_000, verbose = verbose)\n",
    "    \n",
    "    # pull the X and U solutions out of Z \n",
    "    X = [Z[idx.x[i]] for i = 1:N]\n",
    "    U = [Z[idx.u[i]] for i = 1:(N-1)]\n",
    "    \n",
    "    return X, U, t_vec, params \n",
    "end"
   ]
  },
  {
   "cell_type": "code",
   "execution_count": 10,
   "id": "4d6eb611-530d-405f-9cc0-506ce12bff9e",
   "metadata": {},
   "outputs": [],
   "source": [
    "#@testset \"cartpole swingup\" begin \n",
    "    \n",
    "#=X, U, t_vec = solve_swingup(verbose=true)\n",
    "\n",
    "\n",
    "# --------------testing------------------\n",
    "@test isapprox(X[1],[-pi/2, 0, 0, 0], atol = 1e-4)\n",
    "@test isapprox(X[end], [-pi/4, pi/2, 0, 0], atol = 1e-4)\n",
    "Xm = hcat(X...)\n",
    "Um = hcat(U...)\n",
    "\n",
    "# --------------plotting-----------------\n",
    "display(plot(t_vec, Xm', label = [\"p\" \"θ\" \"ṗ\" \"θ̇\"], xlabel = \"time (s)\", title = \"State Trajectory\"))\n",
    "display(plot(t_vec[1:end-1],Um',label=\"\",xlabel = \"time (s)\", ylabel = \"u\",title = \"Controls\"))\n",
    "\n",
    "# meshcat animation\n",
    "display(animate_cartpole(X, 0.05))\n",
    "    \n",
    "#end+=#"
   ]
  },
  {
   "cell_type": "code",
   "execution_count": null,
   "id": "37f540cc-49ea-4367-8ddc-8c72ddd894e2",
   "metadata": {},
   "outputs": [
    {
     "name": "stdout",
     "output_type": "stream",
     "text": [
      "---------checking dimensions of everything----------\n",
      "---------all dimensions good------------------------\n",
      "---------diff type set to :auto (ForwardDiff.jl)----\n",
      "---------testing objective gradient-----------------\n",
      "---------testing constraint Jacobian----------------\n",
      "---------successfully compiled both derivatives-----"
     ]
    }
   ],
   "source": [
    "#@testset \"cartpole swingup\" begin \n",
    "\n",
    "X, U, t_vec = solve_flight(verbose=true)"
   ]
  },
  {
   "cell_type": "code",
   "execution_count": 13,
   "id": "4e5d4383-7f31-4d8d-a468-bf846ffa29dd",
   "metadata": {},
   "outputs": [
    {
     "data": {
      "image/svg+xml": [
       "<?xml version=\"1.0\" encoding=\"utf-8\"?>\n",
       "<svg xmlns=\"http://www.w3.org/2000/svg\" xmlns:xlink=\"http://www.w3.org/1999/xlink\" width=\"600\" height=\"400\" viewBox=\"0 0 2400 1600\">\n",
       "<defs>\n",
       "  <clipPath id=\"clip760\">\n",
       "    <rect x=\"0\" y=\"0\" width=\"2400\" height=\"1600\"/>\n",
       "  </clipPath>\n",
       "</defs>\n",
       "<path clip-path=\"url(#clip760)\" d=\"M0 1600 L2400 1600 L2400 0 L0 0  Z\" fill=\"#ffffff\" fill-rule=\"evenodd\" fill-opacity=\"1\"/>\n",
       "<defs>\n",
       "  <clipPath id=\"clip761\">\n",
       "    <rect x=\"480\" y=\"0\" width=\"1681\" height=\"1600\"/>\n",
       "  </clipPath>\n",
       "</defs>\n",
       "<path clip-path=\"url(#clip760)\" d=\"M147.478 1486.45 L2352.76 1486.45 L2352.76 47.2441 L147.478 47.2441  Z\" fill=\"#ffffff\" fill-rule=\"evenodd\" fill-opacity=\"1\"/>\n",
       "<defs>\n",
       "  <clipPath id=\"clip762\">\n",
       "    <rect x=\"147\" y=\"47\" width=\"2206\" height=\"1440\"/>\n",
       "  </clipPath>\n",
       "</defs>\n",
       "<polyline clip-path=\"url(#clip762)\" style=\"stroke:#000000; stroke-linecap:round; stroke-linejoin:round; stroke-width:2; stroke-opacity:0.1; fill:none\" points=\"209.891,1486.45 209.891,47.2441 \"/>\n",
       "<polyline clip-path=\"url(#clip762)\" style=\"stroke:#000000; stroke-linecap:round; stroke-linejoin:round; stroke-width:2; stroke-opacity:0.1; fill:none\" points=\"699.409,1486.45 699.409,47.2441 \"/>\n",
       "<polyline clip-path=\"url(#clip762)\" style=\"stroke:#000000; stroke-linecap:round; stroke-linejoin:round; stroke-width:2; stroke-opacity:0.1; fill:none\" points=\"1188.93,1486.45 1188.93,47.2441 \"/>\n",
       "<polyline clip-path=\"url(#clip762)\" style=\"stroke:#000000; stroke-linecap:round; stroke-linejoin:round; stroke-width:2; stroke-opacity:0.1; fill:none\" points=\"1678.45,1486.45 1678.45,47.2441 \"/>\n",
       "<polyline clip-path=\"url(#clip762)\" style=\"stroke:#000000; stroke-linecap:round; stroke-linejoin:round; stroke-width:2; stroke-opacity:0.1; fill:none\" points=\"2167.96,1486.45 2167.96,47.2441 \"/>\n",
       "<polyline clip-path=\"url(#clip760)\" style=\"stroke:#000000; stroke-linecap:round; stroke-linejoin:round; stroke-width:4; stroke-opacity:1; fill:none\" points=\"147.478,1486.45 2352.76,1486.45 \"/>\n",
       "<polyline clip-path=\"url(#clip760)\" style=\"stroke:#000000; stroke-linecap:round; stroke-linejoin:round; stroke-width:4; stroke-opacity:1; fill:none\" points=\"209.891,1486.45 209.891,1467.55 \"/>\n",
       "<polyline clip-path=\"url(#clip760)\" style=\"stroke:#000000; stroke-linecap:round; stroke-linejoin:round; stroke-width:4; stroke-opacity:1; fill:none\" points=\"699.409,1486.45 699.409,1467.55 \"/>\n",
       "<polyline clip-path=\"url(#clip760)\" style=\"stroke:#000000; stroke-linecap:round; stroke-linejoin:round; stroke-width:4; stroke-opacity:1; fill:none\" points=\"1188.93,1486.45 1188.93,1467.55 \"/>\n",
       "<polyline clip-path=\"url(#clip760)\" style=\"stroke:#000000; stroke-linecap:round; stroke-linejoin:round; stroke-width:4; stroke-opacity:1; fill:none\" points=\"1678.45,1486.45 1678.45,1467.55 \"/>\n",
       "<polyline clip-path=\"url(#clip760)\" style=\"stroke:#000000; stroke-linecap:round; stroke-linejoin:round; stroke-width:4; stroke-opacity:1; fill:none\" points=\"2167.96,1486.45 2167.96,1467.55 \"/>\n",
       "<path clip-path=\"url(#clip760)\" d=\"M187.276 1517.37 Q183.665 1517.37 181.836 1520.93 Q180.03 1524.47 180.03 1531.6 Q180.03 1538.71 181.836 1542.27 Q183.665 1545.82 187.276 1545.82 Q190.91 1545.82 192.716 1542.27 Q194.544 1538.71 194.544 1531.6 Q194.544 1524.47 192.716 1520.93 Q190.91 1517.37 187.276 1517.37 M187.276 1513.66 Q193.086 1513.66 196.142 1518.27 Q199.22 1522.85 199.22 1531.6 Q199.22 1540.33 196.142 1544.94 Q193.086 1549.52 187.276 1549.52 Q181.466 1549.52 178.387 1544.94 Q175.331 1540.33 175.331 1531.6 Q175.331 1522.85 178.387 1518.27 Q181.466 1513.66 187.276 1513.66 Z\" fill=\"#000000\" fill-rule=\"nonzero\" fill-opacity=\"1\" /><path clip-path=\"url(#clip760)\" d=\"M207.438 1542.97 L212.322 1542.97 L212.322 1548.85 L207.438 1548.85 L207.438 1542.97 Z\" fill=\"#000000\" fill-rule=\"nonzero\" fill-opacity=\"1\" /><path clip-path=\"url(#clip760)\" d=\"M232.507 1517.37 Q228.896 1517.37 227.067 1520.93 Q225.262 1524.47 225.262 1531.6 Q225.262 1538.71 227.067 1542.27 Q228.896 1545.82 232.507 1545.82 Q236.141 1545.82 237.947 1542.27 Q239.776 1538.71 239.776 1531.6 Q239.776 1524.47 237.947 1520.93 Q236.141 1517.37 232.507 1517.37 M232.507 1513.66 Q238.317 1513.66 241.373 1518.27 Q244.451 1522.85 244.451 1531.6 Q244.451 1540.33 241.373 1544.94 Q238.317 1549.52 232.507 1549.52 Q226.697 1549.52 223.618 1544.94 Q220.563 1540.33 220.563 1531.6 Q220.563 1522.85 223.618 1518.27 Q226.697 1513.66 232.507 1513.66 Z\" fill=\"#000000\" fill-rule=\"nonzero\" fill-opacity=\"1\" /><path clip-path=\"url(#clip760)\" d=\"M677.592 1517.37 Q673.981 1517.37 672.153 1520.93 Q670.347 1524.47 670.347 1531.6 Q670.347 1538.71 672.153 1542.27 Q673.981 1545.82 677.592 1545.82 Q681.227 1545.82 683.032 1542.27 Q684.861 1538.71 684.861 1531.6 Q684.861 1524.47 683.032 1520.93 Q681.227 1517.37 677.592 1517.37 M677.592 1513.66 Q683.402 1513.66 686.458 1518.27 Q689.537 1522.85 689.537 1531.6 Q689.537 1540.33 686.458 1544.94 Q683.402 1549.52 677.592 1549.52 Q671.782 1549.52 668.703 1544.94 Q665.648 1540.33 665.648 1531.6 Q665.648 1522.85 668.703 1518.27 Q671.782 1513.66 677.592 1513.66 Z\" fill=\"#000000\" fill-rule=\"nonzero\" fill-opacity=\"1\" /><path clip-path=\"url(#clip760)\" d=\"M697.754 1542.97 L702.638 1542.97 L702.638 1548.85 L697.754 1548.85 L697.754 1542.97 Z\" fill=\"#000000\" fill-rule=\"nonzero\" fill-opacity=\"1\" /><path clip-path=\"url(#clip760)\" d=\"M716.851 1544.91 L733.171 1544.91 L733.171 1548.85 L711.226 1548.85 L711.226 1544.91 Q713.888 1542.16 718.472 1537.53 Q723.078 1532.88 724.259 1531.53 Q726.504 1529.01 727.384 1527.27 Q728.286 1525.51 728.286 1523.82 Q728.286 1521.07 726.342 1519.33 Q724.421 1517.6 721.319 1517.6 Q719.12 1517.6 716.666 1518.36 Q714.236 1519.13 711.458 1520.68 L711.458 1515.95 Q714.282 1514.82 716.736 1514.24 Q719.189 1513.66 721.226 1513.66 Q726.597 1513.66 729.791 1516.35 Q732.986 1519.03 732.986 1523.52 Q732.986 1525.65 732.175 1527.57 Q731.388 1529.47 729.282 1532.07 Q728.703 1532.74 725.601 1535.95 Q722.499 1539.15 716.851 1544.91 Z\" fill=\"#000000\" fill-rule=\"nonzero\" fill-opacity=\"1\" /><path clip-path=\"url(#clip760)\" d=\"M1166.07 1517.37 Q1162.46 1517.37 1160.63 1520.93 Q1158.82 1524.47 1158.82 1531.6 Q1158.82 1538.71 1160.63 1542.27 Q1162.46 1545.82 1166.07 1545.82 Q1169.7 1545.82 1171.51 1542.27 Q1173.34 1538.71 1173.34 1531.6 Q1173.34 1524.47 1171.51 1520.93 Q1169.7 1517.37 1166.07 1517.37 M1166.07 1513.66 Q1171.88 1513.66 1174.93 1518.27 Q1178.01 1522.85 1178.01 1531.6 Q1178.01 1540.33 1174.93 1544.94 Q1171.88 1549.52 1166.07 1549.52 Q1160.26 1549.52 1157.18 1544.94 Q1154.12 1540.33 1154.12 1531.6 Q1154.12 1522.85 1157.18 1518.27 Q1160.26 1513.66 1166.07 1513.66 Z\" fill=\"#000000\" fill-rule=\"nonzero\" fill-opacity=\"1\" /><path clip-path=\"url(#clip760)\" d=\"M1186.23 1542.97 L1191.11 1542.97 L1191.11 1548.85 L1186.23 1548.85 L1186.23 1542.97 Z\" fill=\"#000000\" fill-rule=\"nonzero\" fill-opacity=\"1\" /><path clip-path=\"url(#clip760)\" d=\"M1214.15 1518.36 L1202.34 1536.81 L1214.15 1536.81 L1214.15 1518.36 M1212.92 1514.29 L1218.8 1514.29 L1218.8 1536.81 L1223.73 1536.81 L1223.73 1540.7 L1218.8 1540.7 L1218.8 1548.85 L1214.15 1548.85 L1214.15 1540.7 L1198.55 1540.7 L1198.55 1536.19 L1212.92 1514.29 Z\" fill=\"#000000\" fill-rule=\"nonzero\" fill-opacity=\"1\" /><path clip-path=\"url(#clip760)\" d=\"M1655.75 1517.37 Q1652.14 1517.37 1650.31 1520.93 Q1648.5 1524.47 1648.5 1531.6 Q1648.5 1538.71 1650.31 1542.27 Q1652.14 1545.82 1655.75 1545.82 Q1659.38 1545.82 1661.19 1542.27 Q1663.02 1538.71 1663.02 1531.6 Q1663.02 1524.47 1661.19 1520.93 Q1659.38 1517.37 1655.75 1517.37 M1655.75 1513.66 Q1661.56 1513.66 1664.61 1518.27 Q1667.69 1522.85 1667.69 1531.6 Q1667.69 1540.33 1664.61 1544.94 Q1661.56 1549.52 1655.75 1549.52 Q1649.94 1549.52 1646.86 1544.94 Q1643.8 1540.33 1643.8 1531.6 Q1643.8 1522.85 1646.86 1518.27 Q1649.94 1513.66 1655.75 1513.66 Z\" fill=\"#000000\" fill-rule=\"nonzero\" fill-opacity=\"1\" /><path clip-path=\"url(#clip760)\" d=\"M1675.91 1542.97 L1680.79 1542.97 L1680.79 1548.85 L1675.91 1548.85 L1675.91 1542.97 Z\" fill=\"#000000\" fill-rule=\"nonzero\" fill-opacity=\"1\" /><path clip-path=\"url(#clip760)\" d=\"M1701.56 1529.7 Q1698.41 1529.7 1696.56 1531.86 Q1694.73 1534.01 1694.73 1537.76 Q1694.73 1541.49 1696.56 1543.66 Q1698.41 1545.82 1701.56 1545.82 Q1704.71 1545.82 1706.54 1543.66 Q1708.39 1541.49 1708.39 1537.76 Q1708.39 1534.01 1706.54 1531.86 Q1704.71 1529.7 1701.56 1529.7 M1710.84 1515.05 L1710.84 1519.31 Q1709.08 1518.48 1707.28 1518.04 Q1705.49 1517.6 1703.73 1517.6 Q1699.1 1517.6 1696.65 1520.72 Q1694.22 1523.85 1693.87 1530.17 Q1695.24 1528.15 1697.3 1527.09 Q1699.36 1526 1701.84 1526 Q1707.04 1526 1710.05 1529.17 Q1713.09 1532.32 1713.09 1537.76 Q1713.09 1543.08 1709.94 1546.3 Q1706.79 1549.52 1701.56 1549.52 Q1695.56 1549.52 1692.39 1544.94 Q1689.22 1540.33 1689.22 1531.6 Q1689.22 1523.41 1693.11 1518.55 Q1697 1513.66 1703.55 1513.66 Q1705.31 1513.66 1707.09 1514.01 Q1708.9 1514.36 1710.84 1515.05 Z\" fill=\"#000000\" fill-rule=\"nonzero\" fill-opacity=\"1\" /><path clip-path=\"url(#clip760)\" d=\"M2145.39 1517.37 Q2141.78 1517.37 2139.95 1520.93 Q2138.15 1524.47 2138.15 1531.6 Q2138.15 1538.71 2139.95 1542.27 Q2141.78 1545.82 2145.39 1545.82 Q2149.03 1545.82 2150.83 1542.27 Q2152.66 1538.71 2152.66 1531.6 Q2152.66 1524.47 2150.83 1520.93 Q2149.03 1517.37 2145.39 1517.37 M2145.39 1513.66 Q2151.2 1513.66 2154.26 1518.27 Q2157.34 1522.85 2157.34 1531.6 Q2157.34 1540.33 2154.26 1544.94 Q2151.2 1549.52 2145.39 1549.52 Q2139.58 1549.52 2136.5 1544.94 Q2133.45 1540.33 2133.45 1531.6 Q2133.45 1522.85 2136.5 1518.27 Q2139.58 1513.66 2145.39 1513.66 Z\" fill=\"#000000\" fill-rule=\"nonzero\" fill-opacity=\"1\" /><path clip-path=\"url(#clip760)\" d=\"M2165.56 1542.97 L2170.44 1542.97 L2170.44 1548.85 L2165.56 1548.85 L2165.56 1542.97 Z\" fill=\"#000000\" fill-rule=\"nonzero\" fill-opacity=\"1\" /><path clip-path=\"url(#clip760)\" d=\"M2190.62 1532.44 Q2187.29 1532.44 2185.37 1534.22 Q2183.47 1536 2183.47 1539.13 Q2183.47 1542.25 2185.37 1544.03 Q2187.29 1545.82 2190.62 1545.82 Q2193.96 1545.82 2195.88 1544.03 Q2197.8 1542.23 2197.8 1539.13 Q2197.8 1536 2195.88 1534.22 Q2193.98 1532.44 2190.62 1532.44 M2185.95 1530.45 Q2182.94 1529.7 2181.25 1527.64 Q2179.58 1525.58 2179.58 1522.62 Q2179.58 1518.48 2182.52 1516.07 Q2185.49 1513.66 2190.62 1513.66 Q2195.79 1513.66 2198.73 1516.07 Q2201.67 1518.48 2201.67 1522.62 Q2201.67 1525.58 2199.98 1527.64 Q2198.31 1529.7 2195.32 1530.45 Q2198.7 1531.23 2200.58 1533.52 Q2202.48 1535.82 2202.48 1539.13 Q2202.48 1544.15 2199.4 1546.83 Q2196.34 1549.52 2190.62 1549.52 Q2184.91 1549.52 2181.83 1546.83 Q2178.77 1544.15 2178.77 1539.13 Q2178.77 1535.82 2180.67 1533.52 Q2182.57 1531.23 2185.95 1530.45 M2184.24 1523.06 Q2184.24 1525.75 2185.9 1527.25 Q2187.59 1528.76 2190.62 1528.76 Q2193.63 1528.76 2195.32 1527.25 Q2197.04 1525.75 2197.04 1523.06 Q2197.04 1520.38 2195.32 1518.87 Q2193.63 1517.37 2190.62 1517.37 Q2187.59 1517.37 2185.9 1518.87 Q2184.24 1520.38 2184.24 1523.06 Z\" fill=\"#000000\" fill-rule=\"nonzero\" fill-opacity=\"1\" /><polyline clip-path=\"url(#clip762)\" style=\"stroke:#000000; stroke-linecap:round; stroke-linejoin:round; stroke-width:2; stroke-opacity:0.1; fill:none\" points=\"147.478,1381.53 2352.76,1381.53 \"/>\n",
       "<polyline clip-path=\"url(#clip762)\" style=\"stroke:#000000; stroke-linecap:round; stroke-linejoin:round; stroke-width:2; stroke-opacity:0.1; fill:none\" points=\"147.478,950.344 2352.76,950.344 \"/>\n",
       "<polyline clip-path=\"url(#clip762)\" style=\"stroke:#000000; stroke-linecap:round; stroke-linejoin:round; stroke-width:2; stroke-opacity:0.1; fill:none\" points=\"147.478,519.16 2352.76,519.16 \"/>\n",
       "<polyline clip-path=\"url(#clip762)\" style=\"stroke:#000000; stroke-linecap:round; stroke-linejoin:round; stroke-width:2; stroke-opacity:0.1; fill:none\" points=\"147.478,87.9763 2352.76,87.9763 \"/>\n",
       "<polyline clip-path=\"url(#clip760)\" style=\"stroke:#000000; stroke-linecap:round; stroke-linejoin:round; stroke-width:4; stroke-opacity:1; fill:none\" points=\"147.478,1486.45 147.478,47.2441 \"/>\n",
       "<polyline clip-path=\"url(#clip760)\" style=\"stroke:#000000; stroke-linecap:round; stroke-linejoin:round; stroke-width:4; stroke-opacity:1; fill:none\" points=\"147.478,1381.53 166.376,1381.53 \"/>\n",
       "<polyline clip-path=\"url(#clip760)\" style=\"stroke:#000000; stroke-linecap:round; stroke-linejoin:round; stroke-width:4; stroke-opacity:1; fill:none\" points=\"147.478,950.344 166.376,950.344 \"/>\n",
       "<polyline clip-path=\"url(#clip760)\" style=\"stroke:#000000; stroke-linecap:round; stroke-linejoin:round; stroke-width:4; stroke-opacity:1; fill:none\" points=\"147.478,519.16 166.376,519.16 \"/>\n",
       "<polyline clip-path=\"url(#clip760)\" style=\"stroke:#000000; stroke-linecap:round; stroke-linejoin:round; stroke-width:4; stroke-opacity:1; fill:none\" points=\"147.478,87.9763 166.376,87.9763 \"/>\n",
       "<path clip-path=\"url(#clip760)\" d=\"M50.9921 1381.98 L80.6679 1381.98 L80.6679 1385.91 L50.9921 1385.91 L50.9921 1381.98 Z\" fill=\"#000000\" fill-rule=\"nonzero\" fill-opacity=\"1\" /><path clip-path=\"url(#clip760)\" d=\"M91.5706 1394.87 L99.2095 1394.87 L99.2095 1368.51 L90.8993 1370.17 L90.8993 1365.91 L99.1632 1364.25 L103.839 1364.25 L103.839 1394.87 L111.478 1394.87 L111.478 1398.81 L91.5706 1398.81 L91.5706 1394.87 Z\" fill=\"#000000\" fill-rule=\"nonzero\" fill-opacity=\"1\" /><path clip-path=\"url(#clip760)\" d=\"M99.5335 936.143 Q95.9224 936.143 94.0937 939.708 Q92.2882 943.249 92.2882 950.379 Q92.2882 957.485 94.0937 961.05 Q95.9224 964.592 99.5335 964.592 Q103.168 964.592 104.973 961.05 Q106.802 957.485 106.802 950.379 Q106.802 943.249 104.973 939.708 Q103.168 936.143 99.5335 936.143 M99.5335 932.439 Q105.344 932.439 108.399 937.045 Q111.478 941.629 111.478 950.379 Q111.478 959.106 108.399 963.712 Q105.344 968.295 99.5335 968.295 Q93.7234 968.295 90.6447 963.712 Q87.5892 959.106 87.5892 950.379 Q87.5892 941.629 90.6447 937.045 Q93.7234 932.439 99.5335 932.439 Z\" fill=\"#000000\" fill-rule=\"nonzero\" fill-opacity=\"1\" /><path clip-path=\"url(#clip760)\" d=\"M91.5706 532.505 L99.2095 532.505 L99.2095 506.139 L90.8993 507.806 L90.8993 503.547 L99.1632 501.88 L103.839 501.88 L103.839 532.505 L111.478 532.505 L111.478 536.44 L91.5706 536.44 L91.5706 532.505 Z\" fill=\"#000000\" fill-rule=\"nonzero\" fill-opacity=\"1\" /><path clip-path=\"url(#clip760)\" d=\"M95.1586 101.321 L111.478 101.321 L111.478 105.256 L89.5336 105.256 L89.5336 101.321 Q92.1956 98.5665 96.7789 93.9369 Q101.385 89.2841 102.566 87.9416 Q104.811 85.4184 105.691 83.6823 Q106.594 81.9231 106.594 80.2333 Q106.594 77.4786 104.649 75.7425 Q102.728 74.0064 99.6261 74.0064 Q97.4271 74.0064 94.9734 74.7703 Q92.5428 75.5342 89.7651 77.0851 L89.7651 72.3629 Q92.5891 71.2287 95.0428 70.65 Q97.4965 70.0713 99.5335 70.0713 Q104.904 70.0713 108.098 72.7565 Q111.293 75.4416 111.293 79.9323 Q111.293 82.062 110.483 83.9832 Q109.696 85.8814 107.589 88.474 Q107.01 89.1453 103.909 92.3628 Q100.807 95.5573 95.1586 101.321 Z\" fill=\"#000000\" fill-rule=\"nonzero\" fill-opacity=\"1\" /><polyline clip-path=\"url(#clip762)\" style=\"stroke:#009af9; stroke-linecap:round; stroke-linejoin:round; stroke-width:4; stroke-opacity:1; fill:none\" points=\"209.891,950.344 332.271,898.134 454.65,845.969 577.03,794.824 699.409,743.335 821.789,686.737 944.168,626.195 1066.55,569.501 1188.93,518.531 1311.31,469.297 1433.69,420.115 1556.07,371.533 1678.45,323.48 1800.82,276.089 1923.2,229.264 2045.58,183.714 2167.96,137.509 2290.34,87.9763 \"/>\n",
       "<polyline clip-path=\"url(#clip762)\" style=\"stroke:#e26f46; stroke-linecap:round; stroke-linejoin:round; stroke-width:4; stroke-opacity:1; fill:none\" points=\"209.891,951.141 332.271,868.519 454.65,796.41 577.03,734.217 699.409,682.647 821.789,644.451 944.168,619.448 1066.55,602.463 1188.93,591.559 1311.31,589.973 1433.69,599.266 1556.07,618.815 1678.45,648.256 1800.82,686.87 1923.2,734.635 2045.58,791.994 2167.96,862.253 2290.34,947.226 \"/>\n",
       "<polyline clip-path=\"url(#clip762)\" style=\"stroke:#3da44d; stroke-linecap:round; stroke-linejoin:round; stroke-width:4; stroke-opacity:1; fill:none\" points=\"209.891,1289 332.271,1289.12 454.65,1289.16 577.03,1288.74 699.409,1288.59 821.789,1290.65 944.168,1445.62 1066.55,1445.72 1188.93,1442.93 1311.31,1439.46 1433.69,1436.04 1556.07,1432.32 1678.45,1428.26 1800.82,1423.63 1923.2,1418.32 2045.58,1411.35 2167.96,1404.52 2290.34,1401.88 \"/>\n",
       "<path clip-path=\"url(#clip760)\" d=\"M220.987 302.578 L494.524 302.578 L494.524 95.2176 L220.987 95.2176  Z\" fill=\"#ffffff\" fill-rule=\"evenodd\" fill-opacity=\"1\"/>\n",
       "<polyline clip-path=\"url(#clip760)\" style=\"stroke:#000000; stroke-linecap:round; stroke-linejoin:round; stroke-width:4; stroke-opacity:1; fill:none\" points=\"220.987,302.578 494.524,302.578 494.524,95.2176 220.987,95.2176 220.987,302.578 \"/>\n",
       "<polyline clip-path=\"url(#clip760)\" style=\"stroke:#009af9; stroke-linecap:round; stroke-linejoin:round; stroke-width:4; stroke-opacity:1; fill:none\" points=\"245.49,147.058 392.509,147.058 \"/>\n",
       "<path clip-path=\"url(#clip760)\" d=\"M430.854 166.745 Q429.049 171.375 427.336 172.787 Q425.623 174.199 422.753 174.199 L419.35 174.199 L419.35 170.634 L421.85 170.634 Q423.609 170.634 424.581 169.8 Q425.554 168.967 426.734 165.865 L427.498 163.921 L417.012 138.412 L421.526 138.412 L429.628 158.689 L437.729 138.412 L442.243 138.412 L430.854 166.745 Z\" fill=\"#000000\" fill-rule=\"nonzero\" fill-opacity=\"1\" /><path clip-path=\"url(#clip760)\" d=\"M449.535 160.402 L457.174 160.402 L457.174 134.037 L448.864 135.703 L448.864 131.444 L457.127 129.778 L461.803 129.778 L461.803 160.402 L469.442 160.402 L469.442 164.338 L449.535 164.338 L449.535 160.402 Z\" fill=\"#000000\" fill-rule=\"nonzero\" fill-opacity=\"1\" /><polyline clip-path=\"url(#clip760)\" style=\"stroke:#e26f46; stroke-linecap:round; stroke-linejoin:round; stroke-width:4; stroke-opacity:1; fill:none\" points=\"245.49,198.898 392.509,198.898 \"/>\n",
       "<path clip-path=\"url(#clip760)\" d=\"M430.854 218.585 Q429.049 223.215 427.336 224.627 Q425.623 226.039 422.753 226.039 L419.35 226.039 L419.35 222.474 L421.85 222.474 Q423.609 222.474 424.581 221.64 Q425.554 220.807 426.734 217.705 L427.498 215.761 L417.012 190.252 L421.526 190.252 L429.628 210.529 L437.729 190.252 L442.243 190.252 L430.854 218.585 Z\" fill=\"#000000\" fill-rule=\"nonzero\" fill-opacity=\"1\" /><path clip-path=\"url(#clip760)\" d=\"M452.752 212.242 L469.072 212.242 L469.072 216.178 L447.127 216.178 L447.127 212.242 Q449.789 209.488 454.373 204.858 Q458.979 200.205 460.16 198.863 Q462.405 196.34 463.285 194.604 Q464.188 192.844 464.188 191.155 Q464.188 188.4 462.243 186.664 Q460.322 184.928 457.22 184.928 Q455.021 184.928 452.567 185.692 Q450.137 186.455 447.359 188.006 L447.359 183.284 Q450.183 182.15 452.637 181.571 Q455.09 180.993 457.127 180.993 Q462.498 180.993 465.692 183.678 Q468.887 186.363 468.887 190.854 Q468.887 192.983 468.076 194.905 Q467.289 196.803 465.183 199.395 Q464.604 200.067 461.502 203.284 Q458.401 206.479 452.752 212.242 Z\" fill=\"#000000\" fill-rule=\"nonzero\" fill-opacity=\"1\" /><polyline clip-path=\"url(#clip760)\" style=\"stroke:#3da44d; stroke-linecap:round; stroke-linejoin:round; stroke-width:4; stroke-opacity:1; fill:none\" points=\"245.49,250.738 392.509,250.738 \"/>\n",
       "<path clip-path=\"url(#clip760)\" d=\"M430.854 270.425 Q429.049 275.055 427.336 276.467 Q425.623 277.879 422.753 277.879 L419.35 277.879 L419.35 274.314 L421.85 274.314 Q423.609 274.314 424.581 273.48 Q425.554 272.647 426.734 269.545 L427.498 267.601 L417.012 242.092 L421.526 242.092 L429.628 262.369 L437.729 242.092 L442.243 242.092 L430.854 270.425 Z\" fill=\"#000000\" fill-rule=\"nonzero\" fill-opacity=\"1\" /><path clip-path=\"url(#clip760)\" d=\"M462.891 249.383 Q466.248 250.101 468.123 252.369 Q470.021 254.638 470.021 257.971 Q470.021 263.087 466.502 265.888 Q462.984 268.689 456.502 268.689 Q454.327 268.689 452.012 268.249 Q449.72 267.832 447.266 266.976 L447.266 262.462 Q449.211 263.596 451.526 264.175 Q453.84 264.754 456.364 264.754 Q460.762 264.754 463.053 263.018 Q465.368 261.281 465.368 257.971 Q465.368 254.916 463.215 253.203 Q461.086 251.467 457.266 251.467 L453.239 251.467 L453.239 247.624 L457.451 247.624 Q460.901 247.624 462.729 246.258 Q464.558 244.87 464.558 242.277 Q464.558 239.615 462.66 238.203 Q460.785 236.768 457.266 236.768 Q455.345 236.768 453.146 237.184 Q450.947 237.601 448.308 238.481 L448.308 234.314 Q450.97 233.573 453.285 233.203 Q455.623 232.833 457.683 232.833 Q463.007 232.833 466.109 235.263 Q469.211 237.67 469.211 241.791 Q469.211 244.661 467.567 246.652 Q465.924 248.62 462.891 249.383 Z\" fill=\"#000000\" fill-rule=\"nonzero\" fill-opacity=\"1\" /></svg>\n"
      ]
     },
     "metadata": {},
     "output_type": "display_data"
    }
   ],
   "source": [
    "N = length(t_vec)\n",
    "Xm = [[X[i][1], X[i][2], X[i][3]] for i = 1:N]\n",
    "Xm = hcat(Xm...)\n",
    "Um = hcat(U...)\n",
    "display(plot(t_vec, Xm'))"
   ]
  },
  {
   "cell_type": "code",
   "execution_count": 14,
   "id": "d50f2bca-cbc0-4959-9a49-77ccf467abc2",
   "metadata": {},
   "outputs": [
    {
     "data": {
      "text/plain": [
       "update_acro_pose! (generic function with 1 method)"
      ]
     },
     "execution_count": 14,
     "metadata": {},
     "output_type": "execute_result"
    }
   ],
   "source": [
    "# Acrobot (doublependulum)\n",
    "using Colors\n",
    "function build_acrobot!(vis, color=colorant\"blue\", thick=0.05)\n",
    "    l1,l2 = [1.,1.]\n",
    "    hinge = MeshCat.Cylinder(MeshCat.Point3f(-0.05,0,0), MeshCat.Point3f(0.05,0,0), 0.05f0)\n",
    "    dim1  = MeshCat.Vec(thick, thick, l1)\n",
    "    link1 = MeshCat.HyperRectangle(MeshCat.Vec(-thick/2,-thick/2,0),dim1)\n",
    "    dim2  = MeshCat.Vec(thick, thick, l2)\n",
    "    link2 = MeshCat.HyperRectangle(MeshCat.Vec(-thick/2,-thick/2,0),dim2)\n",
    "    mat1 = MeshPhongMaterial(color=colorant\"grey\")\n",
    "    mat2 = MeshPhongMaterial(color=color)\n",
    "    setobject!(vis[\"base\"], hinge, mat1)\n",
    "    setobject!(vis[\"link1\"], link1, mat2) \n",
    "    setobject!(vis[\"link1\",\"joint\"], hinge, mat1) \n",
    "    setobject!(vis[\"link1\",\"link2\"], link2, mat2) \n",
    "    settransform!(vis[\"link1\",\"link2\"], MeshCat.Translation(0,0,l1))\n",
    "    settransform!(vis[\"link1\",\"joint\"], MeshCat.Translation(0,0,l1))\n",
    "end\n",
    "\n",
    "function RotX(alpha)\n",
    "    c, s = cos(alpha), sin(alpha)\n",
    "    [1 0 0; 0 c -s; 0 s  c]\n",
    "end\n",
    "function update_acro_pose!(vis, x)\n",
    "    l1, l2 = [1, 1.]\n",
    "    settransform!(vis[\"robot\",\"link1\"], MeshCat.LinearMap(RotX(x[1]-pi/2)))\n",
    "    settransform!(vis[\"robot\",\"link1\",\"link2\"], MeshCat.compose(MeshCat.Translation(0,0,l1), MeshCat.LinearMap(RotX(x[2]))))\n",
    "end"
   ]
  },
  {
   "cell_type": "code",
   "execution_count": 16,
   "id": "61c3ab44-b8ce-4925-98cd-0dd693398560",
   "metadata": {},
   "outputs": [
    {
     "name": "stderr",
     "output_type": "stream",
     "text": [
      "\u001b[36m\u001b[1m[ \u001b[22m\u001b[39m\u001b[36m\u001b[1mInfo: \u001b[22m\u001b[39mListening on: 127.0.0.1:8703, thread id: 1\n",
      "\u001b[36m\u001b[1m┌ \u001b[22m\u001b[39m\u001b[36m\u001b[1mInfo: \u001b[22m\u001b[39mMeshCat server started. You can open the visualizer by visiting the following URL in your browser:\n",
      "\u001b[36m\u001b[1m└ \u001b[22m\u001b[39mhttp://127.0.0.1:8703\n"
     ]
    },
    {
     "data": {
      "text/html": [
       "    <div style=\"height: 500px; width: 100%; overflow-x: auto; overflow-y: hidden; resize: both\">\n",
       "    <iframe src=\"http://127.0.0.1:8703\" style=\"width: 100%; height: 100%; border: none\"></iframe>\n",
       "    </div>\n"
      ],
      "text/plain": [
       "MeshCat.DisplayedVisualizer(MeshCat.CoreVisualizer(MeshCat.SceneTrees.SceneNode(nothing, nothing, Dict{String, Vector{UInt8}}(), UInt8[0x83, 0xa7, 0x6f, 0x70, 0x74, 0x69, 0x6f, 0x6e, 0x73, 0x82  …  0x5f, 0x61, 0x6e, 0x69, 0x6d, 0x61, 0x74, 0x69, 0x6f, 0x6e], Dict{String, MeshCat.SceneTrees.SceneNode}(\"meshcat\" => MeshCat.SceneTrees.SceneNode(nothing, nothing, Dict{String, Vector{UInt8}}(), nothing, Dict{String, MeshCat.SceneTrees.SceneNode}(\"robot\" => MeshCat.SceneTrees.SceneNode(nothing, nothing, Dict{String, Vector{UInt8}}(), nothing, Dict{String, MeshCat.SceneTrees.SceneNode}(\"base\" => MeshCat.SceneTrees.SceneNode(UInt8[0x83, 0xa6, 0x6f, 0x62, 0x6a, 0x65, 0x63, 0x74, 0x84, 0xaa  …  0x72, 0x6f, 0x62, 0x6f, 0x74, 0x2f, 0x62, 0x61, 0x73, 0x65], nothing, Dict{String, Vector{UInt8}}(), nothing, Dict{String, MeshCat.SceneTrees.SceneNode}()), \"link1\" => MeshCat.SceneTrees.SceneNode(UInt8[0x83, 0xa6, 0x6f, 0x62, 0x6a, 0x65, 0x63, 0x74, 0x84, 0xaa  …  0x6f, 0x62, 0x6f, 0x74, 0x2f, 0x6c, 0x69, 0x6e, 0x6b, 0x31], nothing, Dict{String, Vector{UInt8}}(), nothing, Dict{String, MeshCat.SceneTrees.SceneNode}(\"joint\" => MeshCat.SceneTrees.SceneNode(UInt8[0x83, 0xa6, 0x6f, 0x62, 0x6a, 0x65, 0x63, 0x74, 0x84, 0xaa  …  0x69, 0x6e, 0x6b, 0x31, 0x2f, 0x6a, 0x6f, 0x69, 0x6e, 0x74], UInt8[0x83, 0xa6, 0x6d, 0x61, 0x74, 0x72, 0x69, 0x78, 0xc7, 0x40  …  0x69, 0x6e, 0x6b, 0x31, 0x2f, 0x6a, 0x6f, 0x69, 0x6e, 0x74], Dict{String, Vector{UInt8}}(), nothing, Dict{String, MeshCat.SceneTrees.SceneNode}()), \"link2\" => MeshCat.SceneTrees.SceneNode(UInt8[0x83, 0xa6, 0x6f, 0x62, 0x6a, 0x65, 0x63, 0x74, 0x84, 0xaa  …  0x69, 0x6e, 0x6b, 0x31, 0x2f, 0x6c, 0x69, 0x6e, 0x6b, 0x32], UInt8[0x83, 0xa6, 0x6d, 0x61, 0x74, 0x72, 0x69, 0x78, 0xc7, 0x40  …  0x69, 0x6e, 0x6b, 0x31, 0x2f, 0x6c, 0x69, 0x6e, 0x6b, 0x32], Dict{String, Vector{UInt8}}(), nothing, Dict{String, MeshCat.SceneTrees.SceneNode}()))))))))), Set{HTTP.WebSockets.WebSocket}(), ip\"127.0.0.1\", 8703))"
      ]
     },
     "execution_count": 16,
     "metadata": {},
     "output_type": "execute_result"
    }
   ],
   "source": [
    "dt = 0.05\n",
    "N = 11\n",
    "vis = Visualizer()\n",
    "build_acrobot!(vis[\"robot\"])\n",
    "anim = MeshCat.Animation(floor(Int, 1 / dt))\n",
    "\n",
    "for k = 1:N\n",
    "    MeshCat.atframe(anim, k) do\n",
    "        update_acro_pose!(vis, X[k][3:4])\n",
    "        \n",
    "    end\n",
    "end\n",
    "MeshCat.setanimation!(vis, anim)\n",
    "render(vis)"
   ]
  }
 ],
 "metadata": {
  "kernelspec": {
   "display_name": "Julia 1.6.7",
   "language": "julia",
   "name": "julia-1.6"
  },
  "language_info": {
   "file_extension": ".jl",
   "mimetype": "application/julia",
   "name": "julia",
   "version": "1.6.7"
  }
 },
 "nbformat": 4,
 "nbformat_minor": 5
}
