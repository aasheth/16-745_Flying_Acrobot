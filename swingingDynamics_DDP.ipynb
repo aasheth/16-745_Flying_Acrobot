{
 "cells": [
  {
   "cell_type": "code",
   "execution_count": 29,
   "id": "1c293d7d-9ee3-43b2-919b-b1e21081b1e3",
   "metadata": {},
   "outputs": [
    {
     "name": "stderr",
     "output_type": "stream",
     "text": [
      "\u001b[32m\u001b[1m  Activating\u001b[22m\u001b[39m environment at `C:\\Users\\ameys\\Desktop\\Spring '24\\16-745_OptimalControlAndRL\\16-745_Flying_Acrobot\\Project.toml`\n",
      "\u001b[32m\u001b[1mPrecompiling\u001b[22m\u001b[39m project...\n",
      "\u001b[33m  ✓ \u001b[39m\u001b[90mGPUArraysCore\u001b[39m\n",
      "\u001b[32m  ✓ \u001b[39mNBInclude\n",
      "\u001b[32m  ✓ \u001b[39m\u001b[90mASL_jll\u001b[39m\n",
      "\u001b[32m  ✓ \u001b[39m\u001b[90mMETIS_jll\u001b[39m\n",
      "\u001b[32m  ✓ \u001b[39m\u001b[90mOpenBLAS32_jll\u001b[39m\n",
      "\u001b[33m  ✓ \u001b[39m\u001b[90mOpenSSL\u001b[39m\n",
      "\u001b[32m  ✓ \u001b[39m\u001b[90mMUMPS_seq_jll\u001b[39m\n",
      "\u001b[33m  ✓ \u001b[39m\u001b[90mStatsBase\u001b[39m\n",
      "\u001b[33m  ✓ \u001b[39m\u001b[90mStructArrays\u001b[39m\n",
      "\u001b[33m  ✓ \u001b[39m\u001b[90mFFMPEG_jll\u001b[39m\n",
      "\u001b[32m  ✓ \u001b[39m\u001b[90mIpopt_jll\u001b[39m\n",
      "\u001b[33m  ✓ \u001b[39m\u001b[90mFFMPEG\u001b[39m\n",
      "\u001b[33m  ✓ \u001b[39m\u001b[90mHTTP\u001b[39m\n",
      "\u001b[33m  ✓ \u001b[39m\u001b[90mGR_jll\u001b[39m\n",
      "\u001b[33m  ✓ \u001b[39m\u001b[90mGeometryBasics\u001b[39m\n",
      "\u001b[33m  ✓ \u001b[39m\u001b[90mGR\u001b[39m\n",
      "\u001b[33m  ✓ \u001b[39mMeshCat\n",
      "\u001b[32m  ✓ \u001b[39mMathOptInterface\n",
      "\u001b[32m  ✓ \u001b[39mECOS\n",
      "\u001b[33m  ✓ \u001b[39mPlots\n",
      "\u001b[32m  ✓ \u001b[39mConvex\n",
      "\u001b[32m  ✓ \u001b[39mIpopt\n",
      "  22 dependencies successfully precompiled in 188 seconds (179 already precompiled)\n",
      "  \u001b[33m12\u001b[39m dependencies precompiled but different versions are currently loaded. Restart julia to access the new versions\n"
     ]
    }
   ],
   "source": [
    "import Pkg\n",
    "Pkg.activate(@__DIR__)\n",
    "Pkg.instantiate()\n",
    "using LinearAlgebra\n",
    "using Plots\n",
    "using ForwardDiff\n",
    "using MeshCat"
   ]
  },
  {
   "cell_type": "code",
   "execution_count": 30,
   "id": "bea055a3-8ea6-499a-9e39-6eb9012623c7",
   "metadata": {},
   "outputs": [
    {
     "data": {
      "text/plain": [
       "dynamics_rk4 (generic function with 1 method)"
      ]
     },
     "execution_count": 30,
     "metadata": {},
     "output_type": "execute_result"
    }
   ],
   "source": [
    "#copied from RobotZoo src\n",
    "function acrobot_dynamics(x, u)\n",
    "    g = 9.81\n",
    "    m1,m2 = [1.,1.]\n",
    "    l1,l2 = [1.,1.]\n",
    "    J1,J2 = [1.,1.]\n",
    "    θ1,    θ2    = x[1], x[2]\n",
    "    θ1dot, θ2dot = x[3], x[4]\n",
    "    s1,c1 = sincos(θ1)\n",
    "    s2,c2 = sincos(θ2)\n",
    "    c12 = cos(θ1 + θ2)\n",
    "\n",
    "    # mass matrix\n",
    "    m11 = m1*l1^2 + J1 + m2*(l1^2 + l2^2 + 2*l1*l2*c2) + J2\n",
    "    m12 = m2*(l2^2 + l1*l2*c2 + J2)\n",
    "    m22 = l2^2*m2 + J2\n",
    "    M = [m11 m12; m12 m22]\n",
    "\n",
    "    # bias term\n",
    "    tmp = l1*l2*m2*s2\n",
    "    b1 = -(2 * θ1dot * θ2dot + θ2dot^2)*tmp\n",
    "    b2 = tmp * θ1dot^2\n",
    "    B = [b1, b2]\n",
    "\n",
    "    # friction\n",
    "    c = 1.0\n",
    "    C = [c*θ1dot, c*θ2dot]\n",
    "\n",
    "    # gravity term\n",
    "    g1 = ((m1 + m2)*l2*c1 + m2*l2*c12) * g\n",
    "    g2 = m2*l2*c12*g\n",
    "    G = [g1, g2]\n",
    "\n",
    "    # equations of motion\n",
    "    τ = [0, u[1]]\n",
    "    θddot = M\\(τ - B - G - C)\n",
    "    return [θ1dot, θ2dot, θddot[1], θddot[2]]\n",
    "end\n",
    "\n",
    "function dynamics_rk4(x,u)\n",
    "    #RK4 integration with zero-order hold on u\n",
    "    f1 = acrobot_dynamics(x, u)\n",
    "    f2 = acrobot_dynamics(x + 0.5*h*f1, u)\n",
    "    f3 = acrobot_dynamics(x + 0.5*h*f2, u)\n",
    "    f4 = acrobot_dynamics(x + h*f3, u)\n",
    "    return x + (h/6.0)*(f1 + 2*f2 + 2*f3 + f4)\n",
    "end"
   ]
  },
  {
   "cell_type": "code",
   "execution_count": 31,
   "id": "f2efeb36-8b0b-4303-ab02-171f97e210f0",
   "metadata": {},
   "outputs": [
    {
     "data": {
      "text/plain": [
       "dfdu (generic function with 1 method)"
      ]
     },
     "execution_count": 31,
     "metadata": {},
     "output_type": "execute_result"
    }
   ],
   "source": [
    "function dfdx(x,u)\n",
    "    ForwardDiff.jacobian(dx->dynamics_rk4(dx,u),x)\n",
    "end\n",
    "\n",
    "function dfdu(x,u)\n",
    "    ForwardDiff.derivative(du->dynamics_rk4(x,du),u)\n",
    "end"
   ]
  },
  {
   "cell_type": "code",
   "execution_count": 32,
   "id": "9e69bb6b-d084-47ae-bf01-6400981d8e49",
   "metadata": {},
   "outputs": [],
   "source": [
    "h = 0.05 # time step \n",
    "Nx = 4     # number of state\n",
    "Nu = 1     # number of controls\n",
    "Tfinal = 10.0 # final time\n",
    "Nt = Int(Tfinal/h)+1    # number of time steps\n",
    "thist = Array(range(0,h*(Nt-1), step=h));"
   ]
  },
  {
   "cell_type": "code",
   "execution_count": 33,
   "id": "f5eba4b6-6486-471a-ab9d-0d2c5c7b4099",
   "metadata": {},
   "outputs": [],
   "source": [
    "# Cost weights\n",
    "Q = Diagonal([1.0*ones(2); 0.1*ones(2)]);\n",
    "R = 0.01;\n",
    "Qn = Array(100.0*I(Nx));"
   ]
  },
  {
   "cell_type": "code",
   "execution_count": 34,
   "id": "ebf5f724-587d-434e-8a1f-ed809e9f4592",
   "metadata": {},
   "outputs": [
    {
     "data": {
      "text/plain": [
       "cost (generic function with 1 method)"
      ]
     },
     "execution_count": 34,
     "metadata": {},
     "output_type": "execute_result"
    }
   ],
   "source": [
    "# cost formulation\n",
    "function stage_cost(x,u)\n",
    "    return 0.5*((x-xgoal)'*Q*(x-xgoal)) + 0.5*R*u*u\n",
    "end\n",
    "\n",
    "function terminal_cost(x)\n",
    "    return 0.5*(x-xgoal)'*Qn*(x-xgoal)\n",
    "end\n",
    "\n",
    "function cost(xtraj,utraj)\n",
    "    J = 0.0\n",
    "    for k = 1:(Nt-1)\n",
    "        J += stage_cost(xtraj[:,k],utraj[k])\n",
    "    end\n",
    "    J += terminal_cost(xtraj[:,Nt])\n",
    "    return J\n",
    "end"
   ]
  },
  {
   "cell_type": "code",
   "execution_count": 35,
   "id": "50d5e29b-a582-498f-a497-fb1b1767f1bf",
   "metadata": {},
   "outputs": [
    {
     "data": {
      "text/plain": [
       "465.3382708238227"
      ]
     },
     "execution_count": 35,
     "metadata": {},
     "output_type": "execute_result"
    }
   ],
   "source": [
    "#Initial guess\n",
    "x0 = [-pi/2; 0; 0; 0]\n",
    "xgoal = [-pi/4; pi/2; 0; 0]\n",
    "xtraj = kron(ones(1,Nt), x0)\n",
    "utraj = randn(Nt-1);\n",
    "\n",
    "#Initial Rollout\n",
    "for k = 1:(Nt-1)\n",
    "    xtraj[:,k+1] .= dynamics_rk4(xtraj[:,k],utraj[k])\n",
    "end\n",
    "J = cost(xtraj,utraj)"
   ]
  },
  {
   "cell_type": "code",
   "execution_count": 36,
   "id": "ffcf4374-e00c-4146-93c8-24e3c1af1908",
   "metadata": {},
   "outputs": [
    {
     "name": "stdout",
     "output_type": "stream",
     "text": [
      "iter     J           ΔJ        |d|         α       \n",
      "---------------------------------------------------\n",
      "  1    4.653e+02   3.92e+02   3.70e+01  1.0000  \n",
      " 11    2.441e+02   3.10e-02   3.53e-01  1.0000  \n",
      " 21    2.440e+02   4.45e-03   1.31e-01  1.0000  \n",
      " 31    2.440e+02   9.76e-04   6.10e-02  1.0000  \n",
      " 41    2.440e+02   2.40e-04   3.02e-02  1.0000  \n",
      " 51    2.440e+02   6.18e-05   1.53e-02  1.0000  \n",
      " 61    2.440e+02   1.62e-05   7.85e-03  1.0000  \n",
      " 71    2.440e+02   4.29e-06   4.04e-03  1.0000  \n",
      " 81    2.440e+02   1.14e-06   2.08e-03  1.0000  \n",
      " 91    2.440e+02   3.03e-07   1.07e-03  1.0000  \n"
     ]
    }
   ],
   "source": [
    "#DDP Algorithm\n",
    "using Printf\n",
    "p = zeros(Nx,Nt)\n",
    "P = zeros(Nx,Nx,Nt)\n",
    "d = ones(Nt-1)\n",
    "K = zeros(Nu,Nx,Nt-1)\n",
    "ΔJ = 0.0\n",
    "\n",
    "xn = zeros(Nx,Nt)\n",
    "un = zeros(Nt-1)\n",
    "\n",
    "gx = zeros(Nx)\n",
    "gu = 0.0\n",
    "Gxx = zeros(Nx,Nx)\n",
    "Guu = 0.0\n",
    "Gxu = zeros(Nx)\n",
    "Gux = zeros(Nx)\n",
    "\n",
    "iter = 0\n",
    "while maximum(abs.(d[:])) > 1e-3\n",
    "    iter += 1\n",
    "    \n",
    "    p = zeros(Nx,Nt)\n",
    "    P = zeros(Nx,Nx,Nt)\n",
    "    d = ones(Nt-1)\n",
    "    K = zeros(Nu,Nx,Nt-1)\n",
    "    ΔJ = 0.0\n",
    "\n",
    "    p[:,Nt] = Qn*(xtraj[:,Nt]-xgoal)\n",
    "    P[:,:,Nt] = Qn\n",
    "    \n",
    "    #Backward Pass\n",
    "    for k = (Nt-1):-1:1\n",
    "        #Calculate derivatives\n",
    "        q = Q*(xtraj[:,k]-xgoal)\n",
    "        r = R*utraj[k]\n",
    "    \n",
    "        A = dfdx(xtraj[:,k], utraj[k]) #ForwardDiff.jacobian(dx->dynamics_rk4(dx,utraj[k]),xtraj[:,k])\n",
    "        B = dfdu(xtraj[:,k], utraj[k]) #ForwardDiff.derivative(du->dynamics_rk4(xtraj[:,k],du),utraj[k])\n",
    "    \n",
    "        gx = q + A'*p[:,k+1]\n",
    "        gu = r + B'*p[:,k+1]\n",
    "    \n",
    "        Gxx = Q + A'*P[:,:,k+1]*A \n",
    "        Guu = R + B'*P[:,:,k+1]*B \n",
    "        Gxu = A'*P[:,:,k+1]*B \n",
    "        Gux = B'*P[:,:,k+1]*A\n",
    "        \n",
    "        d[k] = Guu\\gu\n",
    "        K[:,:,k] = Guu\\Gux\n",
    "    \n",
    "\n",
    "        p[:,k] = gx - K[:,:,k]'*gu + K[:,:,k]'*Guu*d[k] - Gxu*d[k]\n",
    "        P[:,:,k] = Gxx + K[:,:,k]'*Guu*K[:,:,k] - Gxu*K[:,:,k] - K[:,:,k]'*Gux\n",
    "    \n",
    "        ΔJ += gu'*d[k]\n",
    "    end\n",
    "\n",
    "    #Forward rollout with line search\n",
    "    xn[:,1] = xtraj[:,1]\n",
    "    α = 1.0\n",
    "    for k = 1:(Nt-1)\n",
    "        un[k] = utraj[k] - α*d[k] - dot(K[:,:,k],xn[:,k]-xtraj[:,k])\n",
    "        xn[:,k+1] .= dynamics_rk4(xn[:,k],un[k])\n",
    "    end\n",
    "    Jn = cost(xn,un)\n",
    "    \n",
    "    while isnan(Jn) || Jn > (J - 1e-2*α*ΔJ)\n",
    "        α = 0.5*α\n",
    "        for k = 1:(Nt-1)\n",
    "            un[k] = utraj[k] - α*d[k] - dot(K[:,:,k],xn[:,k]-xtraj[:,k])\n",
    "            xn[:,k+1] = dynamics_rk4(xn[:,k],un[k])\n",
    "        end\n",
    "        Jn = cost(xn,un)\n",
    "    end\n",
    "    \n",
    "    # logging\n",
    "    if rem(iter - 1, 100) == 0\n",
    "        @printf \"iter     J           ΔJ        |d|         α       \\n\"\n",
    "        @printf \"---------------------------------------------------\\n\"\n",
    "    end\n",
    "    if rem(iter - 1, 10) == 0 \n",
    "        @printf(\"%3d   %10.3e  %9.2e  %9.2e  %6.4f  \\n\",\n",
    "              iter, J, ΔJ, maximum(abs.(d[:])), α)\n",
    "    end\n",
    "    \n",
    "    J = Jn\n",
    "    xtraj .= xn\n",
    "    utraj .= un\n",
    "end"
   ]
  },
  {
   "cell_type": "code",
   "execution_count": 37,
   "id": "697fbd08-d925-4da7-8f43-55b50af350a3",
   "metadata": {},
   "outputs": [
    {
     "data": {
      "image/svg+xml": [
       "<?xml version=\"1.0\" encoding=\"utf-8\"?>\n",
       "<svg xmlns=\"http://www.w3.org/2000/svg\" xmlns:xlink=\"http://www.w3.org/1999/xlink\" width=\"600\" height=\"400\" viewBox=\"0 0 2400 1600\">\n",
       "<defs>\n",
       "  <clipPath id=\"clip780\">\n",
       "    <rect x=\"0\" y=\"0\" width=\"2400\" height=\"1600\"/>\n",
       "  </clipPath>\n",
       "</defs>\n",
       "<path clip-path=\"url(#clip780)\" d=\"M0 1600 L2400 1600 L2400 0 L0 0  Z\" fill=\"#ffffff\" fill-rule=\"evenodd\" fill-opacity=\"1\"/>\n",
       "<defs>\n",
       "  <clipPath id=\"clip781\">\n",
       "    <rect x=\"480\" y=\"0\" width=\"1681\" height=\"1600\"/>\n",
       "  </clipPath>\n",
       "</defs>\n",
       "<path clip-path=\"url(#clip780)\" d=\"M147.478 1486.45 L2352.76 1486.45 L2352.76 47.2441 L147.478 47.2441  Z\" fill=\"#ffffff\" fill-rule=\"evenodd\" fill-opacity=\"1\"/>\n",
       "<defs>\n",
       "  <clipPath id=\"clip782\">\n",
       "    <rect x=\"147\" y=\"47\" width=\"2206\" height=\"1440\"/>\n",
       "  </clipPath>\n",
       "</defs>\n",
       "<polyline clip-path=\"url(#clip782)\" style=\"stroke:#000000; stroke-linecap:round; stroke-linejoin:round; stroke-width:2; stroke-opacity:0.1; fill:none\" points=\"209.891,1486.45 209.891,47.2441 \"/>\n",
       "<polyline clip-path=\"url(#clip782)\" style=\"stroke:#000000; stroke-linecap:round; stroke-linejoin:round; stroke-width:2; stroke-opacity:0.1; fill:none\" points=\"730.004,1486.45 730.004,47.2441 \"/>\n",
       "<polyline clip-path=\"url(#clip782)\" style=\"stroke:#000000; stroke-linecap:round; stroke-linejoin:round; stroke-width:2; stroke-opacity:0.1; fill:none\" points=\"1250.12,1486.45 1250.12,47.2441 \"/>\n",
       "<polyline clip-path=\"url(#clip782)\" style=\"stroke:#000000; stroke-linecap:round; stroke-linejoin:round; stroke-width:2; stroke-opacity:0.1; fill:none\" points=\"1770.23,1486.45 1770.23,47.2441 \"/>\n",
       "<polyline clip-path=\"url(#clip782)\" style=\"stroke:#000000; stroke-linecap:round; stroke-linejoin:round; stroke-width:2; stroke-opacity:0.1; fill:none\" points=\"2290.34,1486.45 2290.34,47.2441 \"/>\n",
       "<polyline clip-path=\"url(#clip780)\" style=\"stroke:#000000; stroke-linecap:round; stroke-linejoin:round; stroke-width:4; stroke-opacity:1; fill:none\" points=\"147.478,1486.45 2352.76,1486.45 \"/>\n",
       "<polyline clip-path=\"url(#clip780)\" style=\"stroke:#000000; stroke-linecap:round; stroke-linejoin:round; stroke-width:4; stroke-opacity:1; fill:none\" points=\"209.891,1486.45 209.891,1467.55 \"/>\n",
       "<polyline clip-path=\"url(#clip780)\" style=\"stroke:#000000; stroke-linecap:round; stroke-linejoin:round; stroke-width:4; stroke-opacity:1; fill:none\" points=\"730.004,1486.45 730.004,1467.55 \"/>\n",
       "<polyline clip-path=\"url(#clip780)\" style=\"stroke:#000000; stroke-linecap:round; stroke-linejoin:round; stroke-width:4; stroke-opacity:1; fill:none\" points=\"1250.12,1486.45 1250.12,1467.55 \"/>\n",
       "<polyline clip-path=\"url(#clip780)\" style=\"stroke:#000000; stroke-linecap:round; stroke-linejoin:round; stroke-width:4; stroke-opacity:1; fill:none\" points=\"1770.23,1486.45 1770.23,1467.55 \"/>\n",
       "<polyline clip-path=\"url(#clip780)\" style=\"stroke:#000000; stroke-linecap:round; stroke-linejoin:round; stroke-width:4; stroke-opacity:1; fill:none\" points=\"2290.34,1486.45 2290.34,1467.55 \"/>\n",
       "<path clip-path=\"url(#clip780)\" d=\"M187.276 1517.37 Q183.665 1517.37 181.836 1520.93 Q180.03 1524.47 180.03 1531.6 Q180.03 1538.71 181.836 1542.27 Q183.665 1545.82 187.276 1545.82 Q190.91 1545.82 192.716 1542.27 Q194.544 1538.71 194.544 1531.6 Q194.544 1524.47 192.716 1520.93 Q190.91 1517.37 187.276 1517.37 M187.276 1513.66 Q193.086 1513.66 196.142 1518.27 Q199.22 1522.85 199.22 1531.6 Q199.22 1540.33 196.142 1544.94 Q193.086 1549.52 187.276 1549.52 Q181.466 1549.52 178.387 1544.94 Q175.331 1540.33 175.331 1531.6 Q175.331 1522.85 178.387 1518.27 Q181.466 1513.66 187.276 1513.66 Z\" fill=\"#000000\" fill-rule=\"nonzero\" fill-opacity=\"1\" /><path clip-path=\"url(#clip780)\" d=\"M207.438 1542.97 L212.322 1542.97 L212.322 1548.85 L207.438 1548.85 L207.438 1542.97 Z\" fill=\"#000000\" fill-rule=\"nonzero\" fill-opacity=\"1\" /><path clip-path=\"url(#clip780)\" d=\"M232.507 1517.37 Q228.896 1517.37 227.067 1520.93 Q225.262 1524.47 225.262 1531.6 Q225.262 1538.71 227.067 1542.27 Q228.896 1545.82 232.507 1545.82 Q236.141 1545.82 237.947 1542.27 Q239.776 1538.71 239.776 1531.6 Q239.776 1524.47 237.947 1520.93 Q236.141 1517.37 232.507 1517.37 M232.507 1513.66 Q238.317 1513.66 241.373 1518.27 Q244.451 1522.85 244.451 1531.6 Q244.451 1540.33 241.373 1544.94 Q238.317 1549.52 232.507 1549.52 Q226.697 1549.52 223.618 1544.94 Q220.563 1540.33 220.563 1531.6 Q220.563 1522.85 223.618 1518.27 Q226.697 1513.66 232.507 1513.66 Z\" fill=\"#000000\" fill-rule=\"nonzero\" fill-opacity=\"1\" /><path clip-path=\"url(#clip780)\" d=\"M701.74 1544.91 L718.06 1544.91 L718.06 1548.85 L696.115 1548.85 L696.115 1544.91 Q698.777 1542.16 703.361 1537.53 Q707.967 1532.88 709.148 1531.53 Q711.393 1529.01 712.273 1527.27 Q713.176 1525.51 713.176 1523.82 Q713.176 1521.07 711.231 1519.33 Q709.31 1517.6 706.208 1517.6 Q704.009 1517.6 701.555 1518.36 Q699.125 1519.13 696.347 1520.68 L696.347 1515.95 Q699.171 1514.82 701.625 1514.24 Q704.078 1513.66 706.115 1513.66 Q711.486 1513.66 714.68 1516.35 Q717.875 1519.03 717.875 1523.52 Q717.875 1525.65 717.064 1527.57 Q716.277 1529.47 714.171 1532.07 Q713.592 1532.74 710.49 1535.95 Q707.389 1539.15 701.74 1544.91 Z\" fill=\"#000000\" fill-rule=\"nonzero\" fill-opacity=\"1\" /><path clip-path=\"url(#clip780)\" d=\"M727.875 1542.97 L732.759 1542.97 L732.759 1548.85 L727.875 1548.85 L727.875 1542.97 Z\" fill=\"#000000\" fill-rule=\"nonzero\" fill-opacity=\"1\" /><path clip-path=\"url(#clip780)\" d=\"M742.99 1514.29 L761.347 1514.29 L761.347 1518.22 L747.273 1518.22 L747.273 1526.7 Q748.291 1526.35 749.31 1526.19 Q750.328 1526 751.347 1526 Q757.134 1526 760.513 1529.17 Q763.893 1532.34 763.893 1537.76 Q763.893 1543.34 760.421 1546.44 Q756.948 1549.52 750.629 1549.52 Q748.453 1549.52 746.185 1549.15 Q743.939 1548.78 741.532 1548.04 L741.532 1543.34 Q743.615 1544.47 745.837 1545.03 Q748.06 1545.58 750.536 1545.58 Q754.541 1545.58 756.879 1543.48 Q759.217 1541.37 759.217 1537.76 Q759.217 1534.15 756.879 1532.04 Q754.541 1529.94 750.536 1529.94 Q748.661 1529.94 746.786 1530.35 Q744.935 1530.77 742.99 1531.65 L742.99 1514.29 Z\" fill=\"#000000\" fill-rule=\"nonzero\" fill-opacity=\"1\" /><path clip-path=\"url(#clip780)\" d=\"M1217.28 1514.29 L1235.64 1514.29 L1235.64 1518.22 L1221.56 1518.22 L1221.56 1526.7 Q1222.58 1526.35 1223.6 1526.19 Q1224.62 1526 1225.64 1526 Q1231.42 1526 1234.8 1529.17 Q1238.18 1532.34 1238.18 1537.76 Q1238.18 1543.34 1234.71 1546.44 Q1231.24 1549.52 1224.92 1549.52 Q1222.74 1549.52 1220.48 1549.15 Q1218.23 1548.78 1215.82 1548.04 L1215.82 1543.34 Q1217.91 1544.47 1220.13 1545.03 Q1222.35 1545.58 1224.83 1545.58 Q1228.83 1545.58 1231.17 1543.48 Q1233.51 1541.37 1233.51 1537.76 Q1233.51 1534.15 1231.17 1532.04 Q1228.83 1529.94 1224.83 1529.94 Q1222.95 1529.94 1221.08 1530.35 Q1219.23 1530.77 1217.28 1531.65 L1217.28 1514.29 Z\" fill=\"#000000\" fill-rule=\"nonzero\" fill-opacity=\"1\" /><path clip-path=\"url(#clip780)\" d=\"M1247.4 1542.97 L1252.28 1542.97 L1252.28 1548.85 L1247.4 1548.85 L1247.4 1542.97 Z\" fill=\"#000000\" fill-rule=\"nonzero\" fill-opacity=\"1\" /><path clip-path=\"url(#clip780)\" d=\"M1272.47 1517.37 Q1268.86 1517.37 1267.03 1520.93 Q1265.22 1524.47 1265.22 1531.6 Q1265.22 1538.71 1267.03 1542.27 Q1268.86 1545.82 1272.47 1545.82 Q1276.1 1545.82 1277.91 1542.27 Q1279.73 1538.71 1279.73 1531.6 Q1279.73 1524.47 1277.91 1520.93 Q1276.1 1517.37 1272.47 1517.37 M1272.47 1513.66 Q1278.28 1513.66 1281.33 1518.27 Q1284.41 1522.85 1284.41 1531.6 Q1284.41 1540.33 1281.33 1544.94 Q1278.28 1549.52 1272.47 1549.52 Q1266.66 1549.52 1263.58 1544.94 Q1260.52 1540.33 1260.52 1531.6 Q1260.52 1522.85 1263.58 1518.27 Q1266.66 1513.66 1272.47 1513.66 Z\" fill=\"#000000\" fill-rule=\"nonzero\" fill-opacity=\"1\" /><path clip-path=\"url(#clip780)\" d=\"M1736.55 1514.29 L1758.77 1514.29 L1758.77 1516.28 L1746.23 1548.85 L1741.34 1548.85 L1753.15 1518.22 L1736.55 1518.22 L1736.55 1514.29 Z\" fill=\"#000000\" fill-rule=\"nonzero\" fill-opacity=\"1\" /><path clip-path=\"url(#clip780)\" d=\"M1767.89 1542.97 L1772.78 1542.97 L1772.78 1548.85 L1767.89 1548.85 L1767.89 1542.97 Z\" fill=\"#000000\" fill-rule=\"nonzero\" fill-opacity=\"1\" /><path clip-path=\"url(#clip780)\" d=\"M1783.01 1514.29 L1801.36 1514.29 L1801.36 1518.22 L1787.29 1518.22 L1787.29 1526.7 Q1788.31 1526.35 1789.33 1526.19 Q1790.35 1526 1791.36 1526 Q1797.15 1526 1800.53 1529.17 Q1803.91 1532.34 1803.91 1537.76 Q1803.91 1543.34 1800.44 1546.44 Q1796.97 1549.52 1790.65 1549.52 Q1788.47 1549.52 1786.2 1549.15 Q1783.96 1548.78 1781.55 1548.04 L1781.55 1543.34 Q1783.63 1544.47 1785.85 1545.03 Q1788.08 1545.58 1790.55 1545.58 Q1794.56 1545.58 1796.9 1543.48 Q1799.23 1541.37 1799.23 1537.76 Q1799.23 1534.15 1796.9 1532.04 Q1794.56 1529.94 1790.55 1529.94 Q1788.68 1529.94 1786.8 1530.35 Q1784.95 1530.77 1783.01 1531.65 L1783.01 1514.29 Z\" fill=\"#000000\" fill-rule=\"nonzero\" fill-opacity=\"1\" /><path clip-path=\"url(#clip780)\" d=\"M2242.41 1544.91 L2250.05 1544.91 L2250.05 1518.55 L2241.74 1520.21 L2241.74 1515.95 L2250.01 1514.29 L2254.68 1514.29 L2254.68 1544.91 L2262.32 1544.91 L2262.32 1548.85 L2242.41 1548.85 L2242.41 1544.91 Z\" fill=\"#000000\" fill-rule=\"nonzero\" fill-opacity=\"1\" /><path clip-path=\"url(#clip780)\" d=\"M2281.77 1517.37 Q2278.15 1517.37 2276.33 1520.93 Q2274.52 1524.47 2274.52 1531.6 Q2274.52 1538.71 2276.33 1542.27 Q2278.15 1545.82 2281.77 1545.82 Q2285.4 1545.82 2287.21 1542.27 Q2289.03 1538.71 2289.03 1531.6 Q2289.03 1524.47 2287.21 1520.93 Q2285.4 1517.37 2281.77 1517.37 M2281.77 1513.66 Q2287.58 1513.66 2290.63 1518.27 Q2293.71 1522.85 2293.71 1531.6 Q2293.71 1540.33 2290.63 1544.94 Q2287.58 1549.52 2281.77 1549.52 Q2275.96 1549.52 2272.88 1544.94 Q2269.82 1540.33 2269.82 1531.6 Q2269.82 1522.85 2272.88 1518.27 Q2275.96 1513.66 2281.77 1513.66 Z\" fill=\"#000000\" fill-rule=\"nonzero\" fill-opacity=\"1\" /><path clip-path=\"url(#clip780)\" d=\"M2301.93 1542.97 L2306.81 1542.97 L2306.81 1548.85 L2301.93 1548.85 L2301.93 1542.97 Z\" fill=\"#000000\" fill-rule=\"nonzero\" fill-opacity=\"1\" /><path clip-path=\"url(#clip780)\" d=\"M2327 1517.37 Q2323.39 1517.37 2321.56 1520.93 Q2319.75 1524.47 2319.75 1531.6 Q2319.75 1538.71 2321.56 1542.27 Q2323.39 1545.82 2327 1545.82 Q2330.63 1545.82 2332.44 1542.27 Q2334.27 1538.71 2334.27 1531.6 Q2334.27 1524.47 2332.44 1520.93 Q2330.63 1517.37 2327 1517.37 M2327 1513.66 Q2332.81 1513.66 2335.86 1518.27 Q2338.94 1522.85 2338.94 1531.6 Q2338.94 1540.33 2335.86 1544.94 Q2332.81 1549.52 2327 1549.52 Q2321.19 1549.52 2318.11 1544.94 Q2315.05 1540.33 2315.05 1531.6 Q2315.05 1522.85 2318.11 1518.27 Q2321.19 1513.66 2327 1513.66 Z\" fill=\"#000000\" fill-rule=\"nonzero\" fill-opacity=\"1\" /><polyline clip-path=\"url(#clip782)\" style=\"stroke:#000000; stroke-linecap:round; stroke-linejoin:round; stroke-width:2; stroke-opacity:0.1; fill:none\" points=\"147.478,1383.33 2352.76,1383.33 \"/>\n",
       "<polyline clip-path=\"url(#clip782)\" style=\"stroke:#000000; stroke-linecap:round; stroke-linejoin:round; stroke-width:2; stroke-opacity:0.1; fill:none\" points=\"147.478,1079.68 2352.76,1079.68 \"/>\n",
       "<polyline clip-path=\"url(#clip782)\" style=\"stroke:#000000; stroke-linecap:round; stroke-linejoin:round; stroke-width:2; stroke-opacity:0.1; fill:none\" points=\"147.478,776.027 2352.76,776.027 \"/>\n",
       "<polyline clip-path=\"url(#clip782)\" style=\"stroke:#000000; stroke-linecap:round; stroke-linejoin:round; stroke-width:2; stroke-opacity:0.1; fill:none\" points=\"147.478,472.375 2352.76,472.375 \"/>\n",
       "<polyline clip-path=\"url(#clip782)\" style=\"stroke:#000000; stroke-linecap:round; stroke-linejoin:round; stroke-width:2; stroke-opacity:0.1; fill:none\" points=\"147.478,168.722 2352.76,168.722 \"/>\n",
       "<polyline clip-path=\"url(#clip780)\" style=\"stroke:#000000; stroke-linecap:round; stroke-linejoin:round; stroke-width:4; stroke-opacity:1; fill:none\" points=\"147.478,1486.45 147.478,47.2441 \"/>\n",
       "<polyline clip-path=\"url(#clip780)\" style=\"stroke:#000000; stroke-linecap:round; stroke-linejoin:round; stroke-width:4; stroke-opacity:1; fill:none\" points=\"147.478,1383.33 166.376,1383.33 \"/>\n",
       "<polyline clip-path=\"url(#clip780)\" style=\"stroke:#000000; stroke-linecap:round; stroke-linejoin:round; stroke-width:4; stroke-opacity:1; fill:none\" points=\"147.478,1079.68 166.376,1079.68 \"/>\n",
       "<polyline clip-path=\"url(#clip780)\" style=\"stroke:#000000; stroke-linecap:round; stroke-linejoin:round; stroke-width:4; stroke-opacity:1; fill:none\" points=\"147.478,776.027 166.376,776.027 \"/>\n",
       "<polyline clip-path=\"url(#clip780)\" style=\"stroke:#000000; stroke-linecap:round; stroke-linejoin:round; stroke-width:4; stroke-opacity:1; fill:none\" points=\"147.478,472.375 166.376,472.375 \"/>\n",
       "<polyline clip-path=\"url(#clip780)\" style=\"stroke:#000000; stroke-linecap:round; stroke-linejoin:round; stroke-width:4; stroke-opacity:1; fill:none\" points=\"147.478,168.722 166.376,168.722 \"/>\n",
       "<path clip-path=\"url(#clip780)\" d=\"M51.3625 1383.78 L81.0383 1383.78 L81.0383 1387.72 L51.3625 1387.72 L51.3625 1383.78 Z\" fill=\"#000000\" fill-rule=\"nonzero\" fill-opacity=\"1\" /><path clip-path=\"url(#clip780)\" d=\"M95.1586 1396.68 L111.478 1396.68 L111.478 1400.61 L89.5336 1400.61 L89.5336 1396.68 Q92.1956 1393.92 96.7789 1389.29 Q101.385 1384.64 102.566 1383.3 Q104.811 1380.77 105.691 1379.04 Q106.594 1377.28 106.594 1375.59 Q106.594 1372.83 104.649 1371.1 Q102.728 1369.36 99.6261 1369.36 Q97.4271 1369.36 94.9734 1370.13 Q92.5428 1370.89 89.7651 1372.44 L89.7651 1367.72 Q92.5891 1366.58 95.0428 1366.01 Q97.4965 1365.43 99.5335 1365.43 Q104.904 1365.43 108.098 1368.11 Q111.293 1370.8 111.293 1375.29 Q111.293 1377.42 110.483 1379.34 Q109.696 1381.24 107.589 1383.83 Q107.01 1384.5 103.909 1387.72 Q100.807 1390.91 95.1586 1396.68 Z\" fill=\"#000000\" fill-rule=\"nonzero\" fill-opacity=\"1\" /><path clip-path=\"url(#clip780)\" d=\"M50.9921 1080.13 L80.6679 1080.13 L80.6679 1084.07 L50.9921 1084.07 L50.9921 1080.13 Z\" fill=\"#000000\" fill-rule=\"nonzero\" fill-opacity=\"1\" /><path clip-path=\"url(#clip780)\" d=\"M91.5706 1093.02 L99.2095 1093.02 L99.2095 1066.66 L90.8993 1068.33 L90.8993 1064.07 L99.1632 1062.4 L103.839 1062.4 L103.839 1093.02 L111.478 1093.02 L111.478 1096.96 L91.5706 1096.96 L91.5706 1093.02 Z\" fill=\"#000000\" fill-rule=\"nonzero\" fill-opacity=\"1\" /><path clip-path=\"url(#clip780)\" d=\"M99.5335 761.826 Q95.9224 761.826 94.0937 765.391 Q92.2882 768.932 92.2882 776.062 Q92.2882 783.168 94.0937 786.733 Q95.9224 790.275 99.5335 790.275 Q103.168 790.275 104.973 786.733 Q106.802 783.168 106.802 776.062 Q106.802 768.932 104.973 765.391 Q103.168 761.826 99.5335 761.826 M99.5335 758.122 Q105.344 758.122 108.399 762.729 Q111.478 767.312 111.478 776.062 Q111.478 784.789 108.399 789.395 Q105.344 793.979 99.5335 793.979 Q93.7234 793.979 90.6447 789.395 Q87.5892 784.789 87.5892 776.062 Q87.5892 767.312 90.6447 762.729 Q93.7234 758.122 99.5335 758.122 Z\" fill=\"#000000\" fill-rule=\"nonzero\" fill-opacity=\"1\" /><path clip-path=\"url(#clip780)\" d=\"M91.5706 485.72 L99.2095 485.72 L99.2095 459.354 L90.8993 461.021 L90.8993 456.761 L99.1632 455.095 L103.839 455.095 L103.839 485.72 L111.478 485.72 L111.478 489.655 L91.5706 489.655 L91.5706 485.72 Z\" fill=\"#000000\" fill-rule=\"nonzero\" fill-opacity=\"1\" /><path clip-path=\"url(#clip780)\" d=\"M95.1586 182.067 L111.478 182.067 L111.478 186.002 L89.5336 186.002 L89.5336 182.067 Q92.1956 179.313 96.7789 174.683 Q101.385 170.03 102.566 168.688 Q104.811 166.164 105.691 164.428 Q106.594 162.669 106.594 160.979 Q106.594 158.225 104.649 156.489 Q102.728 154.752 99.6261 154.752 Q97.4271 154.752 94.9734 155.516 Q92.5428 156.28 89.7651 157.831 L89.7651 153.109 Q92.5891 151.975 95.0428 151.396 Q97.4965 150.817 99.5335 150.817 Q104.904 150.817 108.098 153.502 Q111.293 156.188 111.293 160.678 Q111.293 162.808 110.483 164.729 Q109.696 166.627 107.589 169.22 Q107.01 169.891 103.909 173.109 Q100.807 176.303 95.1586 182.067 Z\" fill=\"#000000\" fill-rule=\"nonzero\" fill-opacity=\"1\" /><polyline clip-path=\"url(#clip782)\" style=\"stroke:#009af9; stroke-linecap:round; stroke-linejoin:round; stroke-width:4; stroke-opacity:1; fill:none\" points=\"209.891,1253 220.294,1255.03 230.696,1260.35 241.098,1267.72 251.5,1276.15 261.903,1284.88 272.305,1293.34 282.707,1301.14 293.109,1308.03 303.512,1313.86 313.914,1318.61 324.316,1322.26 334.718,1324.88 345.121,1326.55 355.523,1327.37 365.925,1327.46 376.328,1326.94 386.73,1325.93 397.132,1324.56 407.534,1322.95 417.937,1321.21 428.339,1319.46 438.741,1317.79 449.143,1316.29 459.546,1315.04 469.948,1314.11 480.35,1313.55 490.752,1313.41 501.155,1313.71 511.557,1314.48 521.959,1315.72 532.361,1317.42 542.764,1319.58 553.166,1322.16 563.568,1325.13 573.97,1328.46 584.373,1332.09 594.775,1335.97 605.177,1340.03 615.579,1344.24 625.982,1348.5 636.384,1352.78 646.786,1356.99 657.188,1361.08 667.591,1365 677.993,1368.68 688.395,1372.08 698.797,1375.14 709.2,1377.84 719.602,1380.12 730.004,1381.95 740.406,1383.33 750.809,1384.21 761.211,1384.61 771.613,1384.5 782.015,1383.89 792.418,1382.78 802.82,1381.2 813.222,1379.16 823.624,1376.69 834.027,1373.82 844.429,1370.59 854.831,1367.05 865.233,1363.23 875.636,1359.21 886.038,1355.02 896.44,1350.73 906.843,1346.41 917.245,1342.12 927.647,1337.91 938.049,1333.85 948.452,1329.99 958.854,1326.4 969.256,1323.11 979.658,1320.18 990.061,1317.62 1000.46,1315.48 1010.87,1313.76 1021.27,1312.48 1031.67,1311.62 1042.07,1311.2 1052.47,1311.19 1062.88,1311.57 1073.28,1312.31 1083.68,1313.39 1094.08,1314.77 1104.49,1316.42 1114.89,1318.32 1125.29,1320.42 1135.69,1322.71 1146.09,1325.17 1156.5,1327.77 1166.9,1330.51 1177.3,1333.4 1187.7,1336.42 1198.11,1339.61 1208.51,1342.99 1218.91,1346.58 1229.31,1350.41 1239.71,1354.54 1250.12,1358.98 1260.52,1363.77 1270.92,1368.92 1281.32,1374.43 1291.73,1380.27 1302.13,1386.38 1312.53,1392.7 1322.93,1399.1 1333.33,1405.47 1343.74,1411.64 1354.14,1417.45 1364.54,1422.74 1374.94,1427.33 1385.35,1431.08 1395.75,1433.84 1406.15,1435.5 1416.55,1435.96 1426.96,1435.15 1437.36,1433.05 1447.76,1429.63 1458.16,1424.91 1468.56,1418.95 1478.97,1411.8 1489.37,1403.56 1499.77,1394.35 1510.17,1384.29 1520.58,1373.54 1530.98,1362.26 1541.38,1350.62 1551.78,1338.79 1562.18,1326.95 1572.59,1315.26 1582.99,1303.89 1593.39,1292.99 1603.79,1282.67 1614.2,1273.06 1624.6,1264.27 1635,1256.39 1645.4,1249.54 1655.8,1243.82 1666.21,1239.32 1676.61,1236.16 1687.01,1234.45 1697.41,1234.27 1707.82,1235.71 1718.22,1238.81 1728.62,1243.57 1739.02,1249.97 1749.43,1257.9 1759.83,1267.25 1770.23,1277.84 1780.63,1289.47 1791.03,1301.9 1801.44,1314.9 1811.84,1328.2 1822.24,1341.55 1832.64,1354.72 1843.05,1367.49 1853.45,1379.63 1863.85,1390.99 1874.25,1401.41 1884.65,1410.78 1895.06,1419.01 1905.46,1426.07 1915.86,1431.94 1926.26,1436.65 1936.67,1440.25 1947.07,1442.83 1957.47,1444.5 1967.87,1445.42 1978.27,1445.72 1988.68,1445.57 1999.08,1445.12 2009.48,1444.51 2019.88,1443.81 2030.29,1443.06 2040.69,1442.19 2051.09,1441.06 2061.49,1439.44 2071.9,1437.05 2082.3,1433.58 2092.7,1428.72 2103.1,1422.2 2113.5,1413.83 2123.91,1403.51 2134.31,1391.23 2144.71,1377.09 2155.11,1361.28 2165.52,1344.06 2175.92,1325.74 2186.32,1306.7 2196.72,1287.31 2207.12,1267.98 2217.53,1249.14 2227.93,1231.21 2238.33,1214.65 2248.73,1199.93 2259.14,1187.62 2269.54,1178.32 2279.94,1172.74 2290.34,1171.64 \"/>\n",
       "<polyline clip-path=\"url(#clip782)\" style=\"stroke:#e26f46; stroke-linecap:round; stroke-linejoin:round; stroke-width:4; stroke-opacity:1; fill:none\" points=\"209.891,776.027 220.294,771.29 230.696,758.792 241.098,741.354 251.5,721.216 261.903,700.109 272.305,679.302 282.707,659.677 293.109,641.792 303.512,625.955 313.914,612.291 324.316,600.789 334.718,591.347 345.121,583.804 355.523,577.955 365.925,573.576 376.328,570.426 386.73,568.263 397.132,566.847 407.534,565.945 417.937,565.336 428.339,564.816 438.741,564.196 449.143,563.308 459.546,562.009 469.948,560.173 480.35,557.702 490.752,554.52 501.155,550.573 511.557,545.831 521.959,540.285 532.361,533.948 542.764,526.85 553.166,519.041 563.568,510.586 573.97,501.564 584.373,492.066 594.775,482.193 605.177,472.054 615.579,461.762 625.982,451.434 636.384,441.187 646.786,431.137 657.188,421.396 667.591,412.074 677.993,403.273 688.395,395.091 698.797,387.617 709.2,380.933 719.602,375.114 730.004,370.224 740.406,366.32 750.809,363.449 761.211,361.65 771.613,360.95 782.015,361.367 792.418,362.909 802.82,365.571 813.222,369.338 823.624,374.182 834.027,380.063 844.429,386.928 854.831,394.713 865.233,403.34 875.636,412.718 886.038,422.749 896.44,433.321 906.843,444.317 917.245,455.611 927.647,467.076 938.049,478.582 948.452,490 958.854,501.21 969.256,512.095 979.658,522.552 990.061,532.487 1000.46,541.822 1010.87,550.493 1021.27,558.452 1031.67,565.664 1042.07,572.11 1052.47,577.779 1062.88,582.674 1073.28,586.804 1083.68,590.184 1094.08,592.831 1104.49,594.763 1114.89,595.997 1125.29,596.543 1135.69,596.404 1146.09,595.574 1156.5,594.033 1166.9,591.747 1177.3,588.666 1187.7,584.722 1198.11,579.832 1208.51,573.893 1218.91,566.791 1229.31,558.401 1239.71,548.593 1250.12,537.243 1260.52,524.241 1270.92,509.501 1281.32,492.976 1291.73,474.666 1302.13,454.627 1312.53,432.975 1322.93,409.889 1333.33,385.6 1343.74,360.388 1354.14,334.568 1364.54,308.476 1374.94,282.462 1385.35,256.873 1395.75,232.054 1406.15,208.332 1416.55,186.021 1426.96,165.413 1437.36,146.776 1447.76,130.355 1458.16,116.365 1468.56,104.993 1478.97,96.3957 1489.37,90.6944 1499.77,87.9763 1510.17,88.2924 1520.58,91.6568 1530.98,98.0461 1541.38,107.4 1551.78,119.623 1562.18,134.584 1572.59,152.119 1582.99,172.034 1593.39,194.105 1603.79,218.08 1614.2,243.682 1624.6,270.608 1635,298.528 1645.4,327.09 1655.8,355.917 1666.21,384.615 1676.61,412.783 1687.01,440.02 1697.41,465.948 1707.82,490.227 1718.22,512.576 1728.62,532.787 1739.02,550.738 1749.43,566.391 1759.83,579.792 1770.23,591.056 1780.63,600.356 1791.03,607.906 1801.44,613.945 1811.84,618.722 1822.24,622.479 1832.64,625.446 1843.05,627.825 1853.45,629.782 1863.85,631.444 1874.25,632.894 1884.65,634.164 1895.06,635.237 1905.46,636.046 1915.86,636.472 1926.26,636.347 1936.67,635.456 1947.07,633.538 1957.47,630.294 1967.87,625.393 1978.27,618.485 1988.68,609.218 1999.08,597.269 2009.48,582.371 2019.88,564.357 2030.29,543.201 2040.69,519.048 2051.09,492.236 2061.49,463.291 2071.9,432.892 2082.3,401.825 2092.7,370.926 2103.1,341.029 2113.5,312.918 2123.91,287.303 2134.31,264.795 2144.71,245.897 2155.11,230.992 2165.52,220.34 2175.92,214.071 2186.32,212.182 2196.72,214.532 2207.12,220.829 2217.53,230.624 2227.93,243.291 2238.33,258.009 2248.73,273.734 2259.14,289.178 2269.54,302.791 2279.94,312.775 2290.34,317.143 \"/>\n",
       "<path clip-path=\"url(#clip780)\" d=\"M220.987 250.738 L493.945 250.738 L493.945 95.2176 L220.987 95.2176  Z\" fill=\"#ffffff\" fill-rule=\"evenodd\" fill-opacity=\"1\"/>\n",
       "<polyline clip-path=\"url(#clip780)\" style=\"stroke:#000000; stroke-linecap:round; stroke-linejoin:round; stroke-width:4; stroke-opacity:1; fill:none\" points=\"220.987,250.738 493.945,250.738 493.945,95.2176 220.987,95.2176 220.987,250.738 \"/>\n",
       "<polyline clip-path=\"url(#clip780)\" style=\"stroke:#009af9; stroke-linecap:round; stroke-linejoin:round; stroke-width:4; stroke-opacity:1; fill:none\" points=\"245.49,147.058 392.509,147.058 \"/>\n",
       "<path clip-path=\"url(#clip780)\" d=\"M430.854 166.745 Q429.049 171.375 427.336 172.787 Q425.623 174.199 422.753 174.199 L419.35 174.199 L419.35 170.634 L421.85 170.634 Q423.609 170.634 424.581 169.8 Q425.554 168.967 426.734 165.865 L427.498 163.921 L417.012 138.412 L421.526 138.412 L429.628 158.689 L437.729 138.412 L442.243 138.412 L430.854 166.745 Z\" fill=\"#000000\" fill-rule=\"nonzero\" fill-opacity=\"1\" /><path clip-path=\"url(#clip780)\" d=\"M449.535 160.402 L457.174 160.402 L457.174 134.037 L448.864 135.703 L448.864 131.444 L457.127 129.778 L461.803 129.778 L461.803 160.402 L469.442 160.402 L469.442 164.338 L449.535 164.338 L449.535 160.402 Z\" fill=\"#000000\" fill-rule=\"nonzero\" fill-opacity=\"1\" /><polyline clip-path=\"url(#clip780)\" style=\"stroke:#e26f46; stroke-linecap:round; stroke-linejoin:round; stroke-width:4; stroke-opacity:1; fill:none\" points=\"245.49,198.898 392.509,198.898 \"/>\n",
       "<path clip-path=\"url(#clip780)\" d=\"M430.854 218.585 Q429.049 223.215 427.336 224.627 Q425.623 226.039 422.753 226.039 L419.35 226.039 L419.35 222.474 L421.85 222.474 Q423.609 222.474 424.581 221.64 Q425.554 220.807 426.734 217.705 L427.498 215.761 L417.012 190.252 L421.526 190.252 L429.628 210.529 L437.729 190.252 L442.243 190.252 L430.854 218.585 Z\" fill=\"#000000\" fill-rule=\"nonzero\" fill-opacity=\"1\" /><path clip-path=\"url(#clip780)\" d=\"M452.752 212.242 L469.072 212.242 L469.072 216.178 L447.127 216.178 L447.127 212.242 Q449.789 209.488 454.373 204.858 Q458.979 200.205 460.16 198.863 Q462.405 196.34 463.285 194.604 Q464.188 192.844 464.188 191.155 Q464.188 188.4 462.243 186.664 Q460.322 184.928 457.22 184.928 Q455.021 184.928 452.567 185.692 Q450.137 186.455 447.359 188.006 L447.359 183.284 Q450.183 182.15 452.637 181.571 Q455.09 180.993 457.127 180.993 Q462.498 180.993 465.692 183.678 Q468.887 186.363 468.887 190.854 Q468.887 192.983 468.076 194.905 Q467.289 196.803 465.183 199.395 Q464.604 200.067 461.502 203.284 Q458.401 206.479 452.752 212.242 Z\" fill=\"#000000\" fill-rule=\"nonzero\" fill-opacity=\"1\" /></svg>\n"
      ]
     },
     "execution_count": 37,
     "metadata": {},
     "output_type": "execute_result"
    }
   ],
   "source": [
    "plot(thist,xtraj[1,:])\n",
    "plot!(thist,xtraj[2,:])"
   ]
  },
  {
   "cell_type": "code",
   "execution_count": 40,
   "id": "4c0c5599-c022-40ca-8cf5-7ccdc4e0b9ba",
   "metadata": {},
   "outputs": [
    {
     "data": {
      "text/plain": [
       "update_acro_pose! (generic function with 1 method)"
      ]
     },
     "execution_count": 40,
     "metadata": {},
     "output_type": "execute_result"
    }
   ],
   "source": [
    "# Acrobot (doublependulum)\n",
    "using Colors\n",
    "function build_acrobot!(vis, color=colorant\"blue\", thick=0.05)\n",
    "    l1,l2 = [1.,1.]\n",
    "    hinge = MeshCat.Cylinder(MeshCat.Point3f(-0.05,0,0), MeshCat.Point3f(0.05,0,0), 0.05f0)\n",
    "    dim1  = MeshCat.Vec(thick, thick, l1)\n",
    "    link1 = MeshCat.HyperRectangle(MeshCat.Vec(-thick/2,-thick/2,0),dim1)\n",
    "    dim2  = MeshCat.Vec(thick, thick, l2)\n",
    "    link2 = MeshCat.HyperRectangle(MeshCat.Vec(-thick/2,-thick/2,0),dim2)\n",
    "    mat1 = MeshPhongMaterial(color=colorant\"grey\")\n",
    "    mat2 = MeshPhongMaterial(color=color)\n",
    "    setobject!(vis[\"base\"], hinge, mat1) \n",
    "    setobject!(vis[\"link1\"], link1, mat2) \n",
    "    setobject!(vis[\"link1\",\"joint\"], hinge, mat1) \n",
    "    setobject!(vis[\"link1\",\"link2\"], link2, mat2) \n",
    "    settransform!(vis[\"link1\",\"link2\"], MeshCat.Translation(0,0,l1))\n",
    "    settransform!(vis[\"link1\",\"joint\"], MeshCat.Translation(0,0,l1))\n",
    "end\n",
    "\n",
    "function RotX(alpha)\n",
    "    c, s = cos(alpha), sin(alpha)\n",
    "    [1 0 0; 0 c -s; 0 s  c]\n",
    "end\n",
    "function update_acro_pose!(vis, x)\n",
    "    l1, l2 = [1, 1.]\n",
    "    settransform!(vis[\"robot\",\"link1\"], MeshCat.LinearMap(RotX(x[1]-pi/2)))\n",
    "    settransform!(vis[\"robot\",\"link1\",\"link2\"], MeshCat.compose(MeshCat.Translation(0,0,l1), MeshCat.LinearMap(RotX(x[2]))))\n",
    "end"
   ]
  },
  {
   "cell_type": "code",
   "execution_count": 41,
   "id": "a06f436b-3a2b-486a-a89d-304247cbf162",
   "metadata": {},
   "outputs": [
    {
     "name": "stderr",
     "output_type": "stream",
     "text": [
      "\u001b[36m\u001b[1m[ \u001b[22m\u001b[39m\u001b[36m\u001b[1mInfo: \u001b[22m\u001b[39mListening on: 127.0.0.1:8706, thread id: 1\n",
      "\u001b[36m\u001b[1m┌ \u001b[22m\u001b[39m\u001b[36m\u001b[1mInfo: \u001b[22m\u001b[39mMeshCat server started. You can open the visualizer by visiting the following URL in your browser:\n",
      "\u001b[36m\u001b[1m└ \u001b[22m\u001b[39mhttp://127.0.0.1:8706\n"
     ]
    },
    {
     "data": {
      "text/html": [
       "    <div style=\"height: 500px; width: 100%; overflow-x: auto; overflow-y: hidden; resize: both\">\n",
       "    <iframe src=\"http://127.0.0.1:8706\" style=\"width: 100%; height: 100%; border: none\"></iframe>\n",
       "    </div>\n"
      ],
      "text/plain": [
       "MeshCat.DisplayedVisualizer(MeshCat.CoreVisualizer(MeshCat.SceneTrees.SceneNode(nothing, nothing, Dict{String, Vector{UInt8}}(), UInt8[0x83, 0xa7, 0x6f, 0x70, 0x74, 0x69, 0x6f, 0x6e, 0x73, 0x82  …  0x5f, 0x61, 0x6e, 0x69, 0x6d, 0x61, 0x74, 0x69, 0x6f, 0x6e], Dict{String, MeshCat.SceneTrees.SceneNode}(\"meshcat\" => MeshCat.SceneTrees.SceneNode(nothing, nothing, Dict{String, Vector{UInt8}}(), nothing, Dict{String, MeshCat.SceneTrees.SceneNode}(\"robot\" => MeshCat.SceneTrees.SceneNode(nothing, nothing, Dict{String, Vector{UInt8}}(), nothing, Dict{String, MeshCat.SceneTrees.SceneNode}(\"base\" => MeshCat.SceneTrees.SceneNode(UInt8[0x83, 0xa6, 0x6f, 0x62, 0x6a, 0x65, 0x63, 0x74, 0x84, 0xaa  …  0x72, 0x6f, 0x62, 0x6f, 0x74, 0x2f, 0x62, 0x61, 0x73, 0x65], nothing, Dict{String, Vector{UInt8}}(), nothing, Dict{String, MeshCat.SceneTrees.SceneNode}()), \"link1\" => MeshCat.SceneTrees.SceneNode(UInt8[0x83, 0xa6, 0x6f, 0x62, 0x6a, 0x65, 0x63, 0x74, 0x84, 0xaa  …  0x6f, 0x62, 0x6f, 0x74, 0x2f, 0x6c, 0x69, 0x6e, 0x6b, 0x31], nothing, Dict{String, Vector{UInt8}}(), nothing, Dict{String, MeshCat.SceneTrees.SceneNode}(\"joint\" => MeshCat.SceneTrees.SceneNode(UInt8[0x83, 0xa6, 0x6f, 0x62, 0x6a, 0x65, 0x63, 0x74, 0x84, 0xaa  …  0x69, 0x6e, 0x6b, 0x31, 0x2f, 0x6a, 0x6f, 0x69, 0x6e, 0x74], UInt8[0x83, 0xa6, 0x6d, 0x61, 0x74, 0x72, 0x69, 0x78, 0xc7, 0x40  …  0x69, 0x6e, 0x6b, 0x31, 0x2f, 0x6a, 0x6f, 0x69, 0x6e, 0x74], Dict{String, Vector{UInt8}}(), nothing, Dict{String, MeshCat.SceneTrees.SceneNode}()), \"link2\" => MeshCat.SceneTrees.SceneNode(UInt8[0x83, 0xa6, 0x6f, 0x62, 0x6a, 0x65, 0x63, 0x74, 0x84, 0xaa  …  0x69, 0x6e, 0x6b, 0x31, 0x2f, 0x6c, 0x69, 0x6e, 0x6b, 0x32], UInt8[0x83, 0xa6, 0x6d, 0x61, 0x74, 0x72, 0x69, 0x78, 0xc7, 0x40  …  0x69, 0x6e, 0x6b, 0x31, 0x2f, 0x6c, 0x69, 0x6e, 0x6b, 0x32], Dict{String, Vector{UInt8}}(), nothing, Dict{String, MeshCat.SceneTrees.SceneNode}()))))))))), Set{HTTP.WebSockets.WebSocket}(), ip\"127.0.0.1\", 8706))"
      ]
     },
     "execution_count": 41,
     "metadata": {},
     "output_type": "execute_result"
    }
   ],
   "source": [
    "vis = Visualizer()\n",
    "build_acrobot!(vis[\"robot\"])\n",
    "anim = MeshCat.Animation(floor(Int, 1 / h))\n",
    "for k = 1:Nt\n",
    "    MeshCat.atframe(anim, k) do\n",
    "        update_acro_pose!(vis, xtraj[:,k])\n",
    "    end\n",
    "end\n",
    "MeshCat.setanimation!(vis, anim)\n",
    "render(vis)"
   ]
  }
 ],
 "metadata": {
  "kernelspec": {
   "display_name": "Julia 1.6.7",
   "language": "julia",
   "name": "julia-1.6"
  },
  "language_info": {
   "file_extension": ".jl",
   "mimetype": "application/julia",
   "name": "julia",
   "version": "1.6.7"
  }
 },
 "nbformat": 4,
 "nbformat_minor": 5
}
