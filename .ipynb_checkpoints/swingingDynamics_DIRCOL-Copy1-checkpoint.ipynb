{
 "cells": [
  {
   "cell_type": "code",
   "execution_count": 1,
   "id": "209fc7b1-832b-4902-9c6c-ca20a7152468",
   "metadata": {},
   "outputs": [
    {
     "name": "stderr",
     "output_type": "stream",
     "text": [
      "\u001b[32m\u001b[1m  Activating\u001b[22m\u001b[39m environment at `C:\\Users\\ameys\\Desktop\\Spring '24\\16-745_OptimalControlAndRL\\16-745_Flying_Acrobot\\Project.toml`\n"
     ]
    }
   ],
   "source": [
    "import Pkg\n",
    "Pkg.activate(@__DIR__)\n",
    "Pkg.instantiate()\n",
    "import MathOptInterface as MOI\n",
    "import Ipopt \n",
    "import FiniteDiff\n",
    "import ForwardDiff\n",
    "import Convex as cvx \n",
    "import ECOS\n",
    "using LinearAlgebra\n",
    "using Plots\n",
    "using Random\n",
    "using JLD2\n",
    "using Test\n",
    "import MeshCat as mc\n",
    "using MeshCat"
   ]
  },
  {
   "cell_type": "code",
   "execution_count": 2,
   "id": "9288ecfe-18fd-486b-b41e-59d605eeb170",
   "metadata": {},
   "outputs": [
    {
     "data": {
      "text/plain": [
       "animate_cartpole (generic function with 1 method)"
      ]
     },
     "execution_count": 2,
     "metadata": {},
     "output_type": "execute_result"
    }
   ],
   "source": [
    "include(joinpath(@__DIR__, \"utils\",\"fmincon.jl\"))\n",
    "include(joinpath(@__DIR__, \"utils\",\"cartpole_animation.jl\"))"
   ]
  },
  {
   "cell_type": "code",
   "execution_count": 3,
   "id": "e7593aa6-e6e8-4df1-b2da-e08b7f8dcb3d",
   "metadata": {},
   "outputs": [
    {
     "data": {
      "text/plain": [
       "hermite_simpson (generic function with 1 method)"
      ]
     },
     "execution_count": 3,
     "metadata": {},
     "output_type": "execute_result"
    }
   ],
   "source": [
    "#copied from RobotZoo src\n",
    "function swinging_dynamics(params, x, u)\n",
    "    g = 9.81\n",
    "    m1,m2 = [1.,1.]\n",
    "    l1,l2 = [1.,1.]\n",
    "    J1,J2 = [1.,1.]\n",
    "    θ1,    θ2    = x[3], x[4]\n",
    "    θ1dot, θ2dot = x[7], x[8]\n",
    "    s1,c1 = sincos(θ1)\n",
    "    s2,c2 = sincos(θ2)\n",
    "    c12 = cos(θ1 + θ2)\n",
    "\n",
    "    # mass matrix\n",
    "    m11 = m1*l1^2 + J1 + m2*(l1^2 + l2^2 + 2*l1*l2*c2) + J2\n",
    "    m12 = m2*(l2^2 + l1*l2*c2 + J2)\n",
    "    m22 = l2^2*m2 + J2\n",
    "    M = [m11 m12; m12 m22]\n",
    "\n",
    "    # bias term\n",
    "    tmp = l1*l2*m2*s2\n",
    "    b1 = -(2 * θ1dot * θ2dot + θ2dot^2)*tmp\n",
    "    b2 = tmp * θ1dot^2\n",
    "    B = [b1, b2]\n",
    "\n",
    "    # friction\n",
    "    c = 1.0\n",
    "    C = [c*θ1dot, c*θ2dot]\n",
    "\n",
    "    # gravity term\n",
    "    g1 = ((m1 + m2)*l2*c1 + m2*l2*c12) * g\n",
    "    g2 = m2*l2*c12*g\n",
    "    G = [g1, g2]\n",
    "\n",
    "    # equations of motion\n",
    "    τ = [0, u[1]]\n",
    "    θddot = M\\(τ - B - G - C)\n",
    "    return [0, 0, θ1dot, θ2dot, 0, 0, θddot[1], θddot[2]]\n",
    "end\n",
    "\n",
    "\n",
    "function f(params, q)\n",
    "    #= \n",
    "    this function returns a new state vector [x1, y1, x2, y2, θ1, θ2], good for calculating M(q)\n",
    "    x1, y1 = coordinates of C.O.M. of link 1\n",
    "    x2, y2 = coordinates of C.O.M. of link 2\n",
    "    θ1, θ2 = angle between axis of link and x-axis for links 1 and 2\n",
    "    =#\n",
    "    l1, l2 = params.l1, params.l2\n",
    "    x, y, θ1, θ2 = q[1], q[2], q[3], q[4]\n",
    "    s1,c1 = sincos(θ1)\n",
    "    s2,c2 = sincos(θ2)\n",
    "    s12, c12 = sincos(θ1 + θ2)\n",
    "    return [x + l1/2*c1, y + l1/2*s1, x + l1*c1 + l2/2*c12, y + l1*s1 + l2/2*s12, θ1, θ2] \n",
    "end\n",
    "\n",
    "function Mq(params, q)\n",
    "    # returns the M(q) matrix used for Euler Lagrange equation\n",
    "    m1,m2,I1,I2 = params.m1,params.m2,params.I1,params.I2\n",
    "    M = diagm([m1,m1,m2,m2,I1,I2])\n",
    "    δfδq = ForwardDiff.jacobian(dq -> f(params, dq), q)\n",
    "    Mq = δfδq'*M*δfδq\n",
    "    return Mq\n",
    "end\n",
    "\n",
    "function V(params, q)\n",
    "    # returns the P.E. of the two-link system, used for calculting the B term in Euler Lagrange equation\n",
    "    g = 9.81\n",
    "    m1,m2,l1,l2 = params.m1,params.m2,params.l1, params.l2\n",
    "    x, y, θ1, θ2 = q[1], q[2], q[3], q[4]\n",
    "    s1,c1 = sincos(θ1)\n",
    "    s2,c2 = sincos(θ2)\n",
    "    s12, c12 = sincos(θ1 + θ2)\n",
    "    V = m1*g*(y + l1/2*s1) + m2*g*(y + l1*s1 + l2/2*s12)\n",
    "    return V\n",
    "end\n",
    "\n",
    "function flight_dynamics(params, x, u)\n",
    "    #=\n",
    "    dynamics of the two-link system while air-borne\n",
    "    calculates qddot using Euler Lagrange equation\n",
    "    returns ẋ\n",
    "    =#\n",
    "    nx = params.nx\n",
    "    q = [x[i] for i = 1:4]\n",
    "    q̇ = [x[i] for i = 5:8]\n",
    "    \n",
    "    # mass matrix and its derivative wrt q\n",
    "    M_q = Mq(params, q)\n",
    "    δMqδq = ForwardDiff.jacobian(dq -> vec(Mq(params, dq)), q)\n",
    "\n",
    "    # N, C, τ terms\n",
    "    N = ForwardDiff.gradient(dq -> V(params, dq), q)\n",
    "    #size(kron(q̇', I(4)))\n",
    "    #size(δMqδq)\n",
    "    C = 1/2*(kron(q̇', I(4))*δMqδq*q̇)\n",
    "    τ = [0, 0, 0, u[1]]\n",
    "\n",
    "    #equations of motion\n",
    "    qddot = M_q \\ (τ - N - C)\n",
    "    return [q̇; qddot]\n",
    "end\n",
    "\n",
    "function hermite_simpson(params::NamedTuple, dynamics::Function, x1::Vector, x2::Vector, u, dt::Real)::Vector\n",
    "    # TODO: input hermite simpson implicit integrator residual \n",
    "    x_k_half = 0.5*(x1+x2) + (dt/8)*(dynamics(params, x1, u) - dynamics(params, x2, u))\n",
    "    return x1 + (dt/6)*(dynamics(params, x1, u) + 4*dynamics(params, x_k_half, u) + \n",
    "        dynamics(params, x2, u)) - x2\n",
    "end"
   ]
  },
  {
   "cell_type": "code",
   "execution_count": 4,
   "id": "9495f48b-00ce-4bca-8b5e-206357dec9fd",
   "metadata": {},
   "outputs": [
    {
     "data": {
      "text/plain": [
       "swinging_equality_constraint (generic function with 1 method)"
      ]
     },
     "execution_count": 4,
     "metadata": {},
     "output_type": "execute_result"
    }
   ],
   "source": [
    "function create_idx(nx,nu,N)\n",
    "    # This function creates some useful indexing tools for Z \n",
    "    # x_i = Z[idx.x[i]]\n",
    "    # u_i = Z[idx.u[i]]\n",
    "    \n",
    "    # our Z vector is [x0, u0, x1, u1, …, xN]\n",
    "    nz = (N-1) * nu + N * nx # length of Z \n",
    "    x = [(i - 1) * (nx + nu) .+ (1 : nx) for i = 1:N]\n",
    "    u = [(i - 1) * (nx + nu) .+ ((nx + 1):(nx + nu)) for i = 1:(N - 1)]\n",
    "    \n",
    "    # constraint indexing for the (N-1) dynamics constraints when stacked up\n",
    "    c = [(i - 1) * (nx) .+ (1 : nx) for i = 1:(N - 1)]\n",
    "    nc = (N - 1) * nx # (N-1)*nx \n",
    "    \n",
    "    return (nx=nx,nu=nu,N=N,nz=nz,nc=nc,x= x,u = u,c = c)\n",
    "end\n",
    "\n",
    "function swinging_cost(params::NamedTuple, Z::Vector)::Real\n",
    "    idx, N, xg = params.idx, params.N, params.xg\n",
    "    Q, R, Qf = params.Q, params.R, params.Qf\n",
    "    \n",
    "    # TODO: input cartpole LQR cost \n",
    "    \n",
    "    J = 0 \n",
    "    for i = 1:(N-1)\n",
    "        xi = Z[idx.x[i]]\n",
    "        ui = Z[idx.u[i]]\n",
    "        J += ui'*R*ui\n",
    "\n",
    "    end\n",
    "\n",
    "    # dont forget terminal cost \n",
    "    xn = Z[idx.x[N]]   \n",
    "    \n",
    "    return J \n",
    "end\n",
    "\n",
    "function swinging_dynamics_constraints(params::NamedTuple, Z::Vector)::Vector\n",
    "    idx, N, dt = params.idx, params.N, params.dt\n",
    "    \n",
    "    # TODO: create dynamics constraints using hermite simpson \n",
    "    \n",
    "    # create c in a ForwardDiff friendly way (check HW0)\n",
    "    c = zeros(eltype(Z), idx.nc)\n",
    "    \n",
    "    for i = 1:(N-1)\n",
    "        xi = Z[idx.x[i]]\n",
    "        ui = Z[idx.u[i]] \n",
    "        xip1 = Z[idx.x[i+1]]\n",
    "        \n",
    "        # TODO: hermite simpson \n",
    "        c[idx.c[i]] = hermite_simpson(params, swinging_dynamics, xi, xip1, ui, dt)\n",
    "    end\n",
    "    return c \n",
    "end\n",
    "\n",
    "function swinging_equality_constraint(params::NamedTuple, Z::Vector)::Vector\n",
    "    N, idx, xic, xg = params.N, params.idx, params.xic, params.xg \n",
    "\n",
    "    xN = Z[idx.x[N]]\n",
    "    v_cm = [ (-l1/2*xN[7]*sin(xN[3]) - l1*xN[7]*sin(xN[3]) - l2/2*xN[8]*sin(xN[3] + xN[4]))/2,\n",
    "             (l1/2*xN[7]*cos(xN[3]) + l1*xN[7]*cos(xN[3]) + l2/2*xN[8]*cos(xN[3] + xN[4]))/2 ]\n",
    "    p = [4.76*cos(pi/3), 4.76*sin(pi/3)]\n",
    "    # TODO: return all of the equality constraints \n",
    "    equality_constraints = [Z[idx.x[1]] - xic; v_cm - ; \n",
    "        swinging_dynamics_constraints(params, Z)]\n",
    "\n",
    "\n",
    "    return equality_constraints # 10 is an arbitrary number \n",
    "end"
   ]
  },
  {
   "cell_type": "code",
   "execution_count": 5,
   "id": "019aec57-8d98-4eab-8ca9-a3989b93f814",
   "metadata": {},
   "outputs": [
    {
     "data": {
      "text/plain": [
       "flight_equality_constraint (generic function with 1 method)"
      ]
     },
     "execution_count": 5,
     "metadata": {},
     "output_type": "execute_result"
    }
   ],
   "source": [
    "function flight_cost(params::NamedTuple, Z::Vector)::Real\n",
    "    idx, N, xg = params.idx, params.N, params.xg\n",
    "    Q, R, Qf = params.Q, params.R, params.Qf\n",
    "    \n",
    "    # TODO: input cartpole LQR cost \n",
    "    \n",
    "    J = 0 \n",
    "    for i = 1:(N-1)\n",
    "        xi = Z[idx.x[i]]\n",
    "        ui = Z[idx.u[i]]\n",
    "        J += 1/2*((xi - xg)'*Q*(xi - xg) + ui'*R*ui)\n",
    "\n",
    "    end\n",
    "\n",
    "    # dont forget terminal cost \n",
    "    xn = Z[idx.x[N]]\n",
    "    J += 1/2*(xn - xg)'*Qf*(xn - xg)    \n",
    "    \n",
    "    return J \n",
    "end\n",
    "\n",
    "function flight_dynamics_constraints(params::NamedTuple, Z::Vector)::Vector\n",
    "    idx, N, dt = params.idx, params.N, params.dt\n",
    "    \n",
    "    # TODO: create dynamics constraints using hermite simpson \n",
    "    \n",
    "    # create c in a ForwardDiff friendly way (check HW0)\n",
    "    c = zeros(eltype(Z), idx.nc)\n",
    "    \n",
    "    for i = 1:(N-1)\n",
    "        xi = Z[idx.x[i]]\n",
    "        ui = Z[idx.u[i]] \n",
    "        xip1 = Z[idx.x[i+1]]\n",
    "        \n",
    "        # TODO: hermite simpson \n",
    "        c[idx.c[i]] = hermite_simpson(params, flight_dynamics, xi, xip1, ui, dt)\n",
    "    end\n",
    "    return c \n",
    "end\n",
    "\n",
    "function flight_equality_constraint(params::NamedTuple, Z::Vector)::Vector\n",
    "    N, idx, xic, xg = params.N, params.idx, params.xic, params.xg \n",
    "    \n",
    "    # TODO: return all of the equality constraints \n",
    "    equality_constraints = [Z[idx.x[1]] - xic; Z[idx.x[N]] - xg; \n",
    "        flight_dynamics_constraints(params, Z)]\n",
    "    \n",
    "    return equality_constraints # 10 is an arbitrary number \n",
    "end"
   ]
  },
  {
   "cell_type": "code",
   "execution_count": 6,
   "id": "93dbc72c-5d8a-4932-800c-1dc2374e608e",
   "metadata": {},
   "outputs": [
    {
     "data": {
      "text/plain": [
       "solve_swingup (generic function with 1 method)"
      ]
     },
     "execution_count": 6,
     "metadata": {},
     "output_type": "execute_result"
    }
   ],
   "source": [
    "function solve_swingup(;verbose = true)\n",
    "    nx = 8\n",
    "    nu = 1\n",
    "    dt = 0.05\n",
    "    tf = 10\n",
    "    t_vec = 0:dt:tf \n",
    "    N = length(t_vec)\n",
    "\n",
    "    #LQR cost\n",
    "    Q = Diagonal([1.0*ones(2); 0.1*ones(2)]);\n",
    "    R = 0.01;\n",
    "    Qf = Array(10*I(nx));\n",
    "\n",
    "    # indexing \n",
    "    idx = create_idx(nx,nu,N)\n",
    "    \n",
    "    # initial and goal states \n",
    "    xic = [0, 0, -pi/2, 0, 0, 0, 0, 0]\n",
    "    xg = [0, 0, -pi/4, pi/2, 0, 0, 6.13, 4.93]\n",
    "\n",
    "    #load everything useful into params\n",
    "    params = (Q = Q, R = R, Qf = Qf, xic = xic, xg = xg, dt = dt, N = N, idx = idx,mc = 1.0, mp = 0.2, l = 0.5)\n",
    "\n",
    "    # TODO: primal bounds \n",
    "    x_l = -Inf*ones(idx.nz)\n",
    "    x_u = Inf*ones(idx.nz)\n",
    "\n",
    "    #=for i = 1:N-1\n",
    "        x_l[idx.u[i]] .= -1000\n",
    "        x_u[idx.u[i]] .= 1000\n",
    "    end=#\n",
    "\n",
    "    # inequality constraint bounds (this is what we do when we have no inequality constraints)\n",
    "    c_l = zeros(0)\n",
    "    c_u = zeros(0)\n",
    "    function inequality_constraint(params, Z)\n",
    "        return zeros(eltype(Z), 0)\n",
    "    end\n",
    "\n",
    "    # initial guess \n",
    "    z0 = 0.001*randn(idx.nz)\n",
    "\n",
    "    diff_type = :auto\n",
    "\n",
    "    Z = fmincon(swinging_cost, swinging_equality_constraint, inequality_constraint,\n",
    "                x_l,x_u,c_l,c_u,z0,params, diff_type;\n",
    "                tol = 1e-6, c_tol = 1e-6, max_iters = 10_000, verbose = verbose)\n",
    "    \n",
    "    # pull the X and U solutions out of Z \n",
    "    X = [Z[idx.x[i]] for i = 1:N]\n",
    "    U = [Z[idx.u[i]] for i = 1:(N-1)]\n",
    "    \n",
    "    return Z, X, U, t_vec, params \n",
    "end"
   ]
  },
  {
   "cell_type": "code",
   "execution_count": 7,
   "id": "75135b5e-ec44-43aa-8d90-d65f4608091a",
   "metadata": {},
   "outputs": [
    {
     "name": "stdout",
     "output_type": "stream",
     "text": [
      "v = ((d * 9.81) / (2 * sin(pi / 3) * cos(pi / 3))) ^ 0.5 = 4.759750472766499\n",
      "v * cos(pi / 3) = 2.37987523638325\n",
      "v * sin(pi / 3) = 4.12206482509078\n"
     ]
    },
    {
     "data": {
      "text/plain": [
       "4.12206482509078"
      ]
     },
     "execution_count": 7,
     "metadata": {},
     "output_type": "execute_result"
    }
   ],
   "source": [
    "d = 2 # distance between bars\n",
    "@show v = (d*9.81/(2*sin(pi/3)*cos(pi/3)))^0.5\n",
    "t = d/(v*cos(pi/3))\n",
    "@show v*cos(pi/3)\n",
    "@show v*sin(pi/3)"
   ]
  },
  {
   "cell_type": "code",
   "execution_count": 8,
   "id": "c20e0a33-8c2c-4586-a6f5-908a96a799dd",
   "metadata": {},
   "outputs": [
    {
     "data": {
      "text/plain": [
       "2-element Vector{Float64}:\n",
       " 6.130144388366576\n",
       " 4.927120051307863"
      ]
     },
     "execution_count": 8,
     "metadata": {},
     "output_type": "execute_result"
    }
   ],
   "source": [
    "M = [3 -1; 3 1]\n",
    "x = M\\[2.38, 4.122] .* (4*(2^0.5))"
   ]
  },
  {
   "cell_type": "code",
   "execution_count": 9,
   "id": "65b2d4a0-8089-4fce-aa50-a3eff23e6401",
   "metadata": {},
   "outputs": [
    {
     "data": {
      "text/plain": [
       "solve_flight (generic function with 1 method)"
      ]
     },
     "execution_count": 9,
     "metadata": {},
     "output_type": "execute_result"
    }
   ],
   "source": [
    "function solve_flight(;verbose = true)\n",
    "    d = 2 # distance between bars\n",
    "    v = (d*9.81/(2*sin(pi/3)*cos(pi/3)))^0.5\n",
    "    t = d/(v*cos(pi/3))\n",
    "    \n",
    "    nx = 8\n",
    "    nu = 1\n",
    "    dt = 0.05\n",
    "    tf = 0.85\n",
    "    t_vec = 0:dt:tf \n",
    "    N = length(t_vec)\n",
    "\n",
    "    #LQR cost\n",
    "    Q = Diagonal([1.0*ones(2); 0.1*ones(2)]);\n",
    "    R = 0.01;\n",
    "    Qf = Array(10*I(nx));\n",
    "\n",
    "    # indexing \n",
    "    idx = create_idx(nx,nu,N)\n",
    "    \n",
    "    # initial and goal states \n",
    "    xic = [0, 0, -pi/4, pi/2, v*cos(pi/3), v*sin(pi/3), 0, 0]\n",
    "    xg = [2, 0, -pi/4, pi/2, v*cos(pi/3), -v*sin(pi/3), 0, 0]\n",
    "\n",
    "    #load everything useful into params\n",
    "    params = (Q = Q, R = R, Qf = Qf, xic = xic, xg = xg, dt = dt, N = N, idx = idx, nx = nx, m1 = 1, m2 = 1, I1 = 1, I2 = 1, l1 = 1, l2 = 1)\n",
    "\n",
    "    # TODO: primal bounds \n",
    "    x_l = -Inf*ones(idx.nz)\n",
    "    x_u = Inf*ones(idx.nz)\n",
    "\n",
    "    for i = 1:N-1\n",
    "        x_l[idx.u[i]] .= -40\n",
    "        x_u[idx.u[i]] .= 40\n",
    "    end\n",
    "\n",
    "    # inequality constraint bounds (this is what we do when we have no inequality constraints)\n",
    "    c_l = zeros(0)\n",
    "    c_u = zeros(0)\n",
    "    function inequality_constraint(params, Z)\n",
    "        return zeros(eltype(Z), 0)\n",
    "    end\n",
    "\n",
    "    # initial guess \n",
    "    z0 = 0.001*randn(idx.nz)\n",
    "\n",
    "    diff_type = :auto\n",
    "\n",
    "    Z = fmincon(flight_cost, flight_equality_constraint, inequality_constraint,\n",
    "                x_l,x_u,c_l,c_u,z0,params, diff_type;\n",
    "                tol = 1e-3, c_tol = 1e-3, max_iters = 10_000, verbose = verbose)\n",
    "    \n",
    "    # pull the X and U solutions out of Z \n",
    "    X = [Z[idx.x[i]] for i = 1:N]\n",
    "    U = [Z[idx.u[i]] for i = 1:(N-1)]\n",
    "    \n",
    "    return Z, X, U, t_vec, params \n",
    "end"
   ]
  },
  {
   "cell_type": "code",
   "execution_count": null,
   "id": "4d6eb611-530d-405f-9cc0-506ce12bff9e",
   "metadata": {},
   "outputs": [
    {
     "name": "stdout",
     "output_type": "stream",
     "text": [
      "---------checking dimensions of everything----------\n",
      "---------all dimensions good------------------------\n",
      "---------diff type set to :auto (ForwardDiff.jl)----\n",
      "---------testing objective gradient-----------------\n",
      "---------testing constraint Jacobian----------------\n",
      "---------successfully compiled both derivatives-----"
     ]
    }
   ],
   "source": [
    "#@testset \"cartpole swingup\" begin \n",
    "    \n",
    "Z, X, U, t_vec = solve_swingup(verbose=true)\n",
    "\n",
    "\n",
    "# --------------testing------------------\n",
    "#@test isapprox(X[1],[-pi/2, 0, 0, 0], atol = 1e-4)\n",
    "#@test isapprox(X[end], [-pi/4, pi/2, 0, 0], atol = 1e-4)\n",
    "Xm = hcat(X...)\n",
    "Um = hcat(U...)\n",
    "\n",
    "# --------------plotting-----------------\n",
    "display(plot(t_vec, Xm', label = [\"p\" \"θ\" \"ṗ\" \"θ̇\"], xlabel = \"time (s)\", title = \"State Trajectory\"))\n",
    "display(plot(t_vec[1:end-1],Um',label=\"\",xlabel = \"time (s)\", ylabel = \"u\",title = \"Controls\"))\n",
    "\n",
    "# meshcat animation\n",
    "display(animate_cartpole(X, 0.05))\n",
    "    \n",
    "#end"
   ]
  },
  {
   "cell_type": "code",
   "execution_count": 13,
   "id": "37f540cc-49ea-4367-8ddc-8c72ddd894e2",
   "metadata": {},
   "outputs": [
    {
     "name": "stdout",
     "output_type": "stream",
     "text": [
      "---------checking dimensions of everything----------\n",
      "---------all dimensions good------------------------\n",
      "---------diff type set to :auto (ForwardDiff.jl)----\n",
      "---------testing objective gradient-----------------\n",
      "---------testing constraint Jacobian----------------\n",
      "---------successfully compiled both derivatives-----\n",
      "---------IPOPT beginning solve----------------------\n",
      "This is Ipopt version 3.14.4, running with linear solver MUMPS 5.4.1.\n",
      "\n",
      "Number of nonzeros in equality constraint Jacobian...:    24472\n",
      "Number of nonzeros in inequality constraint Jacobian.:        0\n",
      "Number of nonzeros in Lagrangian Hessian.............:        0\n",
      "\n",
      "Total number of variables............................:      161\n",
      "                     variables with only lower bounds:        0\n",
      "                variables with lower and upper bounds:       17\n",
      "                     variables with only upper bounds:        0\n",
      "Total number of equality constraints.................:      152\n",
      "Total number of inequality constraints...............:        0\n",
      "        inequality constraints with only lower bounds:        0\n",
      "   inequality constraints with lower and upper bounds:        0\n",
      "        inequality constraints with only upper bounds:        0\n",
      "\n",
      "iter    objective    inf_pr   inf_du lg(mu)  ||d||  lg(rg) alpha_du alpha_pr  ls\n",
      "   0  1.8531785e+02 4.12e+00 4.12e+01   0.0 0.00e+00    -  0.00e+00 0.00e+00   0\n",
      "   1  1.5852591e+01 5.17e-03 4.41e+04  -4.4 4.13e+00    -  9.81e-01 1.00e+00f  1\n",
      "   2  1.6342008e+01 4.69e-03 4.66e+04  -0.6 2.46e+01    -  1.00e+00 2.50e-01h  3\n",
      "   3  1.6341844e+01 4.69e-03 4.70e+04   1.4 1.61e+05    -  2.64e-04 9.36e-07f  9\n",
      "   4r 1.6341844e+01 4.69e-03 8.68e+01   1.4 0.00e+00    -  0.00e+00 4.28e-07R 10\n",
      "   5r 1.6376152e+01 4.16e-03 1.04e+01  -0.7 3.77e-01    -  1.00e+00 9.31e-01f  1\n",
      "   6r 1.6428078e+01 3.84e-03 1.76e+02  -0.8 7.61e-01    -  1.00e+00 7.46e-01f  1\n",
      "   7r 1.6297374e+01 4.60e-03 3.11e+00  -0.8 1.19e+00    -  1.00e+00 1.00e+00f  1\n",
      "   8r 1.6213841e+01 5.40e-03 3.20e+01  -1.8 9.87e-01    -  1.00e+00 8.75e-01f  1\n",
      "   9r 1.6066261e+01 5.29e-03 1.58e+01  -2.6 1.69e+00    -  1.00e+00 9.24e-01f  1\n",
      "iter    objective    inf_pr   inf_du lg(mu)  ||d||  lg(rg) alpha_du alpha_pr  ls\n",
      "  10r 1.5949300e+01 5.50e-03 2.52e+01  -3.6 1.77e+00    -  1.00e+00 8.36e-01f  1\n",
      "  11r 1.5892509e+01 6.95e-03 1.11e+01  -4.7 1.18e+00    -  1.00e+00 8.21e-01f  1\n",
      "  12r 1.5881359e+01 7.33e-03 4.46e+01  -4.9 7.37e-01    -  1.00e+00 7.73e-01f  1\n",
      "  13r 1.5871767e+01 8.13e-03 1.08e+00  -5.9 4.69e-01    -  1.00e+00 9.97e-01h  1\n",
      "  14r 1.5866341e+01 7.16e-03 7.37e-01  -6.1 2.50e-01    -  1.00e+00 1.00e+00h  1\n",
      "  15r 1.5864091e+01 7.96e-03 1.31e+02  -6.9 2.25e-01    -  1.00e+00 5.39e-01h  1\n",
      "  16r 1.5862384e+01 9.16e-03 3.27e+01  -7.6 2.24e-01    -  1.00e+00 6.61e-01h  1\n",
      "  17r 1.5860986e+01 9.78e-03 1.16e-01  -8.2 2.06e-01    -  1.00e+00 1.00e+00h  1\n",
      "  18r 1.5860505e+01 9.95e-03 2.53e-01  -9.0 1.52e-01    -  1.00e+00 1.00e+00h  1\n",
      "  19r 1.5860562e+01 9.96e-03 1.34e-01  -9.0 5.22e-02    -  1.00e+00 1.00e+00h  1\n",
      "iter    objective    inf_pr   inf_du lg(mu)  ||d||  lg(rg) alpha_du alpha_pr  ls\n",
      "  20r 1.5860511e+01 9.88e-03 1.57e-01  -8.7 4.85e-02    -  1.00e+00 1.00e+00h  1\n",
      "  21r 1.5860505e+01 9.79e-03 8.08e-02  -8.8 5.60e-02    -  1.00e+00 1.00e+00h  1\n",
      "  22r 1.5860542e+01 9.76e-03 3.83e-02  -9.0 3.39e-02    -  1.00e+00 4.90e-01h  1\n",
      "  23r 1.5860539e+01 9.74e-03 3.06e-02  -9.0 1.28e-02    -  1.00e+00 2.71e-01h  1\n",
      "  24r 1.5860584e+01 9.63e-03 1.92e-02  -9.0 2.69e-02    -  1.00e+00 1.00e+00h  1\n",
      "  25r 1.5860643e+01 9.60e-03 2.93e-02  -9.0 1.66e-02    -  1.00e+00 1.00e+00h  1\n",
      "  26r 1.5860679e+01 9.59e-03 2.33e-02  -9.0 8.91e-03    -  1.00e+00 5.00e-01h  2\n",
      "  27r 1.5860703e+01 9.57e-03 1.34e-02  -9.0 9.79e-03    -  1.00e+00 1.00e+00h  1\n",
      "  28r 1.5860724e+01 9.57e-03 9.86e-03  -9.0 3.44e-03    -  6.92e-01 1.00e+00h  1\n",
      "  29r 1.5860720e+01 9.57e-03 1.25e-03  -9.0 2.88e-03    -  1.00e+00 1.00e+00h  1\n",
      "iter    objective    inf_pr   inf_du lg(mu)  ||d||  lg(rg) alpha_du alpha_pr  ls\n",
      "  30r 1.5860741e+01 9.57e-03 2.05e-03  -9.0 1.39e-03    -  1.00e+00 1.00e+00h  1\n",
      "  31r 1.5860801e+01 9.55e-03 7.85e-03  -9.0 2.88e-03    -  1.00e+00 1.00e+00h  1\n",
      "  32r 1.5860774e+01 9.56e-03 9.21e-04  -9.0 2.32e-03    -  1.00e+00 1.00e+00h  1\n",
      "  33r 1.5860790e+01 9.56e-03 1.00e-03  -9.0 2.83e-04    -  1.00e+00 1.00e+00h  1\n",
      "  34r 1.5860793e+01 9.55e-03 2.87e-04  -9.0 1.60e-04    -  1.00e+00 1.00e+00h  1\n",
      "  35r 1.5860800e+01 9.55e-03 3.52e-04  -9.0 5.10e-05    -  1.00e+00 1.00e+00h  1\n",
      "\n",
      "Number of Iterations....: 35\n",
      "\n",
      "                                   (scaled)                 (unscaled)\n",
      "Objective...............:   1.5860804920145466e+01    1.5860804920145466e+01\n",
      "Dual infeasibility......:   2.0012701931121986e+00    2.0012701931121986e+00\n",
      "Constraint violation....:   9.5520747295472219e-03    9.5520747295472219e-03\n",
      "Variable bound violation:   0.0000000000000000e+00    0.0000000000000000e+00\n",
      "Complementarity.........:   9.9999999999999986e-10    9.9999999999999986e-10\n",
      "Overall NLP error.......:   5.0412891176711061e-01    2.0012701931121986e+00\n",
      "\n",
      "\n",
      "Number of objective function evaluations             = 62\n",
      "Number of objective gradient evaluations             = 6\n",
      "Number of equality constraint evaluations            = 62\n",
      "Number of inequality constraint evaluations          = 0\n",
      "Number of equality constraint Jacobian evaluations   = 38\n",
      "Number of inequality constraint Jacobian evaluations = 0\n",
      "Number of Lagrangian Hessian evaluations             = 0\n",
      "Total seconds in IPOPT                               = 56.830\n",
      "\n",
      "EXIT: Converged to a point of local infeasibility. Problem may be infeasible.\n"
     ]
    },
    {
     "data": {
      "text/plain": [
       "([[-0.0012702017071506435, -5.990957101105705e-22, -0.7853981633982564, 1.5707963267952616, 2.379875236383197, 4.127167905862548, 2.719735093730522e-12, 3.7524937202399483e-13], [0.11643926140296647, 0.1942338429797553, -0.78539835813503, 1.5707986004409344, 2.379893972116433, 3.642185303550348, -7.21889006437718e-6, 9.154740168760003e-5], [0.234142104051398, 0.36428349123940273, -0.7853978702290088, 1.570794479658255, 2.379820795588601, 3.1598024270342737, 2.472374478702928e-5, -0.000258516136488885], [0.3518786646225616, 0.5101129190155934, -0.7853977881620641, 1.5707919876702843, 2.3799105322646943, 2.67337269103987, -1.9219813002537915e-5, 0.0001612253722590948], [0.4696775440040432, 0.6316442436031916, -0.7853980176470035, 1.5707932932824, 2.37985261655843, 2.1878814364251777, 8.774343226223387e-6, -0.00011040777305288034], [0.5875280746015964, 0.7288712851193697, -0.7853983078014859, 1.5707949141730633, 2.3799132591170507, 1.701199198824527, -1.9261382109450916e-5, 0.00017656758062525754], [0.7053896382720596, 0.801770998104477, -0.7853987603112703, 1.57079932259864, 2.3798748721378455, 1.214789904689975, 5.280541758883953e-7, -1.0031221343487383e-6], [0.8232147089919561, 0.8503789421593775, -0.7853987333808062, 1.5707992677104563, 2.3798748308593245, 0.7295278570672294, 5.499331712163943e-7, -1.1928833296321572e-6], [0.9409733526115067, 0.8747685053143336, -0.7853987060528647, 1.570799211899826, 2.379874859885852, 0.24605466783020444, 5.448725831415126e-7, -1.0388210540223005e-6], [1.0586600398770785, 0.8749696044372499, -0.7853986997463396, 1.5707993815113188, 2.3798767222520447, -0.23801071504253682, -2.80827989753826e-7, 7.844873590482549e-6], [1.1763061824023495, 0.8509212821680087, -0.7853986948079633, 1.5707996033786011, 2.379875248398571, -0.7239221679426403, 4.716993836670863e-7, 1.0125508691523054e-6], [1.2939613388716718, 0.802525573410482, -0.7853982473825417, 1.5707954005675573, 2.3798391257927003, -1.2119061601849985, 1.7453713355863164e-5, -0.00016936370901046287], [1.411671406946652, 0.7297150482417625, -0.7853980315227547, 1.5707935297176943, 2.3798951584149326, -1.7005148293026537, -8.923828986931529e-6, 9.4850088291802e-5], [1.529458145825161, 0.6324751791772001, -0.7853981856403276, 1.5707952904355154, 2.3798698876434425, -2.18907999502292, 2.8700036428286345e-6, -2.4515555238233478e-5], [1.647315796697707, 0.5108190460262682, -0.7853981289317561, 1.5707949731887425, 2.3798775611471585, -2.67716529136224, -6.59580032306354e-7, 1.1833167178667765e-5], [1.7652231985785694, 0.3648033600715238, -0.7853979863135064, 1.5707938659211094, 2.3798630048150016, -3.1634622847188845, 6.5507375078637665e-6, -5.6089418552489676e-5], [1.883152720114348, 0.19450360644527837, -0.785397984744452, 1.5707943978836765, 2.3798913317478907, -3.6485275459041016, -6.902189223888968e-6, 7.724624705470814e-5], [2.0010784387101537, 1.981059025611169e-21, -0.7853981633966401, 1.5707963267945315, 2.37987523637813, -4.131616899820327, -5.833600704365262e-10, -6.243446770538519e-14]], [[0.0019963269291639303], [-0.007724583593014767], [0.009382144934619092], [-0.006061805210335773], [0.0063683664839039224], [-0.004000675484899935], [-3.884818452425225e-6], [3.743566170624487e-6], [0.0001963936264228875], [-0.00015341218258916619], [-0.0037733667290438793], [0.005885982857067474], [-0.0026594880087993157], [0.0008092091730064621], [-0.001512510508279884], [0.002969212170259598], [-0.0017119421927905803]], 0.0:0.05:0.85, (Q = [1.0 0.0 0.0 0.0; 0.0 1.0 0.0 0.0; 0.0 0.0 0.1 0.0; 0.0 0.0 0.0 0.1], R = 0.01, Qf = [10 0 … 0 0; 0 10 … 0 0; … ; 0 0 … 10 0; 0 0 … 0 10], xic = [0.0, 0.0, -0.7853981633974483, 1.5707963267948966, 2.37987523638325, 4.12206482509078, 0.0, 0.0], xg = [2.0, 0.0, -0.7853981633974483, 1.5707963267948966, 2.37987523638325, -4.12206482509078, 0.0, 0.0], dt = 0.05, N = 18, idx = (nx = 8, nu = 1, N = 18, nz = 161, nc = 136, x = UnitRange{Int64}[1:8, 10:17, 19:26, 28:35, 37:44, 46:53, 55:62, 64:71, 73:80, 82:89, 91:98, 100:107, 109:116, 118:125, 127:134, 136:143, 145:152, 154:161], u = UnitRange{Int64}[9:9, 18:18, 27:27, 36:36, 45:45, 54:54, 63:63, 72:72, 81:81, 90:90, 99:99, 108:108, 117:117, 126:126, 135:135, 144:144, 153:153], c = UnitRange{Int64}[1:8, 9:16, 17:24, 25:32, 33:40, 41:48, 49:56, 57:64, 65:72, 73:80, 81:88, 89:96, 97:104, 105:112, 113:120, 121:128, 129:136]), nx = 8, m1 = 1, m2 = 1, I1 = 1, I2 = 1, l1 = 1, l2 = 1))"
      ]
     },
     "execution_count": 13,
     "metadata": {},
     "output_type": "execute_result"
    }
   ],
   "source": [
    "#@testset \"cartpole swingup\" begin \n",
    "\n",
    "Z, X, U, t_vec = solve_flight(verbose=true)"
   ]
  },
  {
   "cell_type": "code",
   "execution_count": 31,
   "id": "ffdb2d72-ad33-41dd-befe-63fcc4e3090f",
   "metadata": {},
   "outputs": [
    {
     "data": {
      "image/svg+xml": [
       "<?xml version=\"1.0\" encoding=\"utf-8\"?>\n",
       "<svg xmlns=\"http://www.w3.org/2000/svg\" xmlns:xlink=\"http://www.w3.org/1999/xlink\" width=\"600\" height=\"400\" viewBox=\"0 0 2400 1600\">\n",
       "<defs>\n",
       "  <clipPath id=\"clip320\">\n",
       "    <rect x=\"0\" y=\"0\" width=\"2400\" height=\"1600\"/>\n",
       "  </clipPath>\n",
       "</defs>\n",
       "<path clip-path=\"url(#clip320)\" d=\"M0 1600 L2400 1600 L2400 0 L0 0  Z\" fill=\"#ffffff\" fill-rule=\"evenodd\" fill-opacity=\"1\"/>\n",
       "<defs>\n",
       "  <clipPath id=\"clip321\">\n",
       "    <rect x=\"480\" y=\"0\" width=\"1681\" height=\"1600\"/>\n",
       "  </clipPath>\n",
       "</defs>\n",
       "<path clip-path=\"url(#clip320)\" d=\"M147.108 1486.45 L2352.76 1486.45 L2352.76 47.2441 L147.108 47.2441  Z\" fill=\"#ffffff\" fill-rule=\"evenodd\" fill-opacity=\"1\"/>\n",
       "<defs>\n",
       "  <clipPath id=\"clip322\">\n",
       "    <rect x=\"147\" y=\"47\" width=\"2207\" height=\"1440\"/>\n",
       "  </clipPath>\n",
       "</defs>\n",
       "<polyline clip-path=\"url(#clip322)\" style=\"stroke:#000000; stroke-linecap:round; stroke-linejoin:round; stroke-width:2; stroke-opacity:0.1; fill:none\" points=\"209.532,1486.45 209.532,47.2441 \"/>\n",
       "<polyline clip-path=\"url(#clip322)\" style=\"stroke:#000000; stroke-linecap:round; stroke-linejoin:round; stroke-width:2; stroke-opacity:0.1; fill:none\" points=\"625.692,1486.45 625.692,47.2441 \"/>\n",
       "<polyline clip-path=\"url(#clip322)\" style=\"stroke:#000000; stroke-linecap:round; stroke-linejoin:round; stroke-width:2; stroke-opacity:0.1; fill:none\" points=\"1041.85,1486.45 1041.85,47.2441 \"/>\n",
       "<polyline clip-path=\"url(#clip322)\" style=\"stroke:#000000; stroke-linecap:round; stroke-linejoin:round; stroke-width:2; stroke-opacity:0.1; fill:none\" points=\"1458.01,1486.45 1458.01,47.2441 \"/>\n",
       "<polyline clip-path=\"url(#clip322)\" style=\"stroke:#000000; stroke-linecap:round; stroke-linejoin:round; stroke-width:2; stroke-opacity:0.1; fill:none\" points=\"1874.17,1486.45 1874.17,47.2441 \"/>\n",
       "<polyline clip-path=\"url(#clip322)\" style=\"stroke:#000000; stroke-linecap:round; stroke-linejoin:round; stroke-width:2; stroke-opacity:0.1; fill:none\" points=\"2290.33,1486.45 2290.33,47.2441 \"/>\n",
       "<polyline clip-path=\"url(#clip320)\" style=\"stroke:#000000; stroke-linecap:round; stroke-linejoin:round; stroke-width:4; stroke-opacity:1; fill:none\" points=\"147.108,1486.45 2352.76,1486.45 \"/>\n",
       "<polyline clip-path=\"url(#clip320)\" style=\"stroke:#000000; stroke-linecap:round; stroke-linejoin:round; stroke-width:4; stroke-opacity:1; fill:none\" points=\"209.532,1486.45 209.532,1467.55 \"/>\n",
       "<polyline clip-path=\"url(#clip320)\" style=\"stroke:#000000; stroke-linecap:round; stroke-linejoin:round; stroke-width:4; stroke-opacity:1; fill:none\" points=\"625.692,1486.45 625.692,1467.55 \"/>\n",
       "<polyline clip-path=\"url(#clip320)\" style=\"stroke:#000000; stroke-linecap:round; stroke-linejoin:round; stroke-width:4; stroke-opacity:1; fill:none\" points=\"1041.85,1486.45 1041.85,1467.55 \"/>\n",
       "<polyline clip-path=\"url(#clip320)\" style=\"stroke:#000000; stroke-linecap:round; stroke-linejoin:round; stroke-width:4; stroke-opacity:1; fill:none\" points=\"1458.01,1486.45 1458.01,1467.55 \"/>\n",
       "<polyline clip-path=\"url(#clip320)\" style=\"stroke:#000000; stroke-linecap:round; stroke-linejoin:round; stroke-width:4; stroke-opacity:1; fill:none\" points=\"1874.17,1486.45 1874.17,1467.55 \"/>\n",
       "<polyline clip-path=\"url(#clip320)\" style=\"stroke:#000000; stroke-linecap:round; stroke-linejoin:round; stroke-width:4; stroke-opacity:1; fill:none\" points=\"2290.33,1486.45 2290.33,1467.55 \"/>\n",
       "<path clip-path=\"url(#clip320)\" d=\"M209.532 1517.37 Q205.92 1517.37 204.092 1520.93 Q202.286 1524.47 202.286 1531.6 Q202.286 1538.71 204.092 1542.27 Q205.92 1545.82 209.532 1545.82 Q213.166 1545.82 214.971 1542.27 Q216.8 1538.71 216.8 1531.6 Q216.8 1524.47 214.971 1520.93 Q213.166 1517.37 209.532 1517.37 M209.532 1513.66 Q215.342 1513.66 218.397 1518.27 Q221.476 1522.85 221.476 1531.6 Q221.476 1540.33 218.397 1544.94 Q215.342 1549.52 209.532 1549.52 Q203.721 1549.52 200.643 1544.94 Q197.587 1540.33 197.587 1531.6 Q197.587 1522.85 200.643 1518.27 Q203.721 1513.66 209.532 1513.66 Z\" fill=\"#000000\" fill-rule=\"nonzero\" fill-opacity=\"1\" /><path clip-path=\"url(#clip320)\" d=\"M616.074 1544.91 L623.712 1544.91 L623.712 1518.55 L615.402 1520.21 L615.402 1515.95 L623.666 1514.29 L628.342 1514.29 L628.342 1544.91 L635.981 1544.91 L635.981 1548.85 L616.074 1548.85 L616.074 1544.91 Z\" fill=\"#000000\" fill-rule=\"nonzero\" fill-opacity=\"1\" /><path clip-path=\"url(#clip320)\" d=\"M1036.5 1544.91 L1052.82 1544.91 L1052.82 1548.85 L1030.88 1548.85 L1030.88 1544.91 Q1033.54 1542.16 1038.12 1537.53 Q1042.73 1532.88 1043.91 1531.53 Q1046.16 1529.01 1047.04 1527.27 Q1047.94 1525.51 1047.94 1523.82 Q1047.94 1521.07 1046 1519.33 Q1044.07 1517.6 1040.97 1517.6 Q1038.77 1517.6 1036.32 1518.36 Q1033.89 1519.13 1031.11 1520.68 L1031.11 1515.95 Q1033.94 1514.82 1036.39 1514.24 Q1038.84 1513.66 1040.88 1513.66 Q1046.25 1513.66 1049.44 1516.35 Q1052.64 1519.03 1052.64 1523.52 Q1052.64 1525.65 1051.83 1527.57 Q1051.04 1529.47 1048.93 1532.07 Q1048.36 1532.74 1045.25 1535.95 Q1042.15 1539.15 1036.5 1544.91 Z\" fill=\"#000000\" fill-rule=\"nonzero\" fill-opacity=\"1\" /><path clip-path=\"url(#clip320)\" d=\"M1462.26 1530.21 Q1465.62 1530.93 1467.49 1533.2 Q1469.39 1535.47 1469.39 1538.8 Q1469.39 1543.92 1465.87 1546.72 Q1462.35 1549.52 1455.87 1549.52 Q1453.69 1549.52 1451.38 1549.08 Q1449.09 1548.66 1446.63 1547.81 L1446.63 1543.29 Q1448.58 1544.43 1450.89 1545.01 Q1453.21 1545.58 1455.73 1545.58 Q1460.13 1545.58 1462.42 1543.85 Q1464.74 1542.11 1464.74 1538.8 Q1464.74 1535.75 1462.58 1534.03 Q1460.45 1532.3 1456.63 1532.3 L1452.61 1532.3 L1452.61 1528.45 L1456.82 1528.45 Q1460.27 1528.45 1462.1 1527.09 Q1463.93 1525.7 1463.93 1523.11 Q1463.93 1520.45 1462.03 1519.03 Q1460.15 1517.6 1456.63 1517.6 Q1454.71 1517.6 1452.51 1518.01 Q1450.32 1518.43 1447.68 1519.31 L1447.68 1515.14 Q1450.34 1514.4 1452.65 1514.03 Q1454.99 1513.66 1457.05 1513.66 Q1462.38 1513.66 1465.48 1516.09 Q1468.58 1518.5 1468.58 1522.62 Q1468.58 1525.49 1466.94 1527.48 Q1465.29 1529.45 1462.26 1530.21 Z\" fill=\"#000000\" fill-rule=\"nonzero\" fill-opacity=\"1\" /><path clip-path=\"url(#clip320)\" d=\"M1877.18 1518.36 L1865.38 1536.81 L1877.18 1536.81 L1877.18 1518.36 M1875.95 1514.29 L1881.83 1514.29 L1881.83 1536.81 L1886.76 1536.81 L1886.76 1540.7 L1881.83 1540.7 L1881.83 1548.85 L1877.18 1548.85 L1877.18 1540.7 L1861.58 1540.7 L1861.58 1536.19 L1875.95 1514.29 Z\" fill=\"#000000\" fill-rule=\"nonzero\" fill-opacity=\"1\" /><path clip-path=\"url(#clip320)\" d=\"M2280.61 1514.29 L2298.97 1514.29 L2298.97 1518.22 L2284.89 1518.22 L2284.89 1526.7 Q2285.91 1526.35 2286.93 1526.19 Q2287.95 1526 2288.97 1526 Q2294.75 1526 2298.13 1529.17 Q2301.51 1532.34 2301.51 1537.76 Q2301.51 1543.34 2298.04 1546.44 Q2294.57 1549.52 2288.25 1549.52 Q2286.07 1549.52 2283.8 1549.15 Q2281.56 1548.78 2279.15 1548.04 L2279.15 1543.34 Q2281.23 1544.47 2283.46 1545.03 Q2285.68 1545.58 2288.16 1545.58 Q2292.16 1545.58 2294.5 1543.48 Q2296.84 1541.37 2296.84 1537.76 Q2296.84 1534.15 2294.5 1532.04 Q2292.16 1529.94 2288.16 1529.94 Q2286.28 1529.94 2284.41 1530.35 Q2282.55 1530.77 2280.61 1531.65 L2280.61 1514.29 Z\" fill=\"#000000\" fill-rule=\"nonzero\" fill-opacity=\"1\" /><polyline clip-path=\"url(#clip322)\" style=\"stroke:#000000; stroke-linecap:round; stroke-linejoin:round; stroke-width:2; stroke-opacity:0.1; fill:none\" points=\"147.108,1189.85 2352.76,1189.85 \"/>\n",
       "<polyline clip-path=\"url(#clip322)\" style=\"stroke:#000000; stroke-linecap:round; stroke-linejoin:round; stroke-width:2; stroke-opacity:0.1; fill:none\" points=\"147.108,815.296 2352.76,815.296 \"/>\n",
       "<polyline clip-path=\"url(#clip322)\" style=\"stroke:#000000; stroke-linecap:round; stroke-linejoin:round; stroke-width:2; stroke-opacity:0.1; fill:none\" points=\"147.108,440.741 2352.76,440.741 \"/>\n",
       "<polyline clip-path=\"url(#clip322)\" style=\"stroke:#000000; stroke-linecap:round; stroke-linejoin:round; stroke-width:2; stroke-opacity:0.1; fill:none\" points=\"147.108,66.1871 2352.76,66.1871 \"/>\n",
       "<polyline clip-path=\"url(#clip320)\" style=\"stroke:#000000; stroke-linecap:round; stroke-linejoin:round; stroke-width:4; stroke-opacity:1; fill:none\" points=\"147.108,1486.45 147.108,47.2441 \"/>\n",
       "<polyline clip-path=\"url(#clip320)\" style=\"stroke:#000000; stroke-linecap:round; stroke-linejoin:round; stroke-width:4; stroke-opacity:1; fill:none\" points=\"147.108,1189.85 166.005,1189.85 \"/>\n",
       "<polyline clip-path=\"url(#clip320)\" style=\"stroke:#000000; stroke-linecap:round; stroke-linejoin:round; stroke-width:4; stroke-opacity:1; fill:none\" points=\"147.108,815.296 166.005,815.296 \"/>\n",
       "<polyline clip-path=\"url(#clip320)\" style=\"stroke:#000000; stroke-linecap:round; stroke-linejoin:round; stroke-width:4; stroke-opacity:1; fill:none\" points=\"147.108,440.741 166.005,440.741 \"/>\n",
       "<polyline clip-path=\"url(#clip320)\" style=\"stroke:#000000; stroke-linecap:round; stroke-linejoin:round; stroke-width:4; stroke-opacity:1; fill:none\" points=\"147.108,66.1871 166.005,66.1871 \"/>\n",
       "<path clip-path=\"url(#clip320)\" d=\"M50.9921 1190.3 L80.6679 1190.3 L80.6679 1194.24 L50.9921 1194.24 L50.9921 1190.3 Z\" fill=\"#000000\" fill-rule=\"nonzero\" fill-opacity=\"1\" /><path clip-path=\"url(#clip320)\" d=\"M94.7882 1203.19 L111.108 1203.19 L111.108 1207.13 L89.1632 1207.13 L89.1632 1203.19 Q91.8252 1200.44 96.4085 1195.81 Q101.015 1191.16 102.196 1189.82 Q104.441 1187.29 105.321 1185.56 Q106.223 1183.8 106.223 1182.11 Q106.223 1179.35 104.279 1177.62 Q102.358 1175.88 99.2558 1175.88 Q97.0567 1175.88 94.603 1176.64 Q92.1725 1177.41 89.3947 1178.96 L89.3947 1174.24 Q92.2188 1173.1 94.6724 1172.52 Q97.1261 1171.94 99.1632 1171.94 Q104.534 1171.94 107.728 1174.63 Q110.922 1177.32 110.922 1181.81 Q110.922 1183.94 110.112 1185.86 Q109.325 1187.76 107.219 1190.35 Q106.64 1191.02 103.538 1194.24 Q100.436 1197.43 94.7882 1203.19 Z\" fill=\"#000000\" fill-rule=\"nonzero\" fill-opacity=\"1\" /><path clip-path=\"url(#clip320)\" d=\"M99.1632 801.094 Q95.5521 801.094 93.7234 804.659 Q91.9178 808.201 91.9178 815.33 Q91.9178 822.437 93.7234 826.002 Q95.5521 829.543 99.1632 829.543 Q102.797 829.543 104.603 826.002 Q106.432 822.437 106.432 815.33 Q106.432 808.201 104.603 804.659 Q102.797 801.094 99.1632 801.094 M99.1632 797.391 Q104.973 797.391 108.029 801.997 Q111.108 806.58 111.108 815.33 Q111.108 824.057 108.029 828.664 Q104.973 833.247 99.1632 833.247 Q93.353 833.247 90.2743 828.664 Q87.2188 824.057 87.2188 815.33 Q87.2188 806.58 90.2743 801.997 Q93.353 797.391 99.1632 797.391 Z\" fill=\"#000000\" fill-rule=\"nonzero\" fill-opacity=\"1\" /><path clip-path=\"url(#clip320)\" d=\"M94.7882 454.086 L111.108 454.086 L111.108 458.021 L89.1632 458.021 L89.1632 454.086 Q91.8252 451.332 96.4085 446.702 Q101.015 442.049 102.196 440.707 Q104.441 438.184 105.321 436.447 Q106.223 434.688 106.223 432.998 Q106.223 430.244 104.279 428.508 Q102.358 426.772 99.2558 426.772 Q97.0567 426.772 94.603 427.535 Q92.1725 428.299 89.3947 429.85 L89.3947 425.128 Q92.2188 423.994 94.6724 423.415 Q97.1261 422.836 99.1632 422.836 Q104.534 422.836 107.728 425.522 Q110.922 428.207 110.922 432.697 Q110.922 434.827 110.112 436.748 Q109.325 438.646 107.219 441.239 Q106.64 441.91 103.538 445.128 Q100.436 448.322 94.7882 454.086 Z\" fill=\"#000000\" fill-rule=\"nonzero\" fill-opacity=\"1\" /><path clip-path=\"url(#clip320)\" d=\"M101.524 52.9812 L89.7188 71.4301 L101.524 71.4301 L101.524 52.9812 M100.297 48.9071 L106.177 48.9071 L106.177 71.4301 L111.108 71.4301 L111.108 75.319 L106.177 75.319 L106.177 83.4671 L101.524 83.4671 L101.524 75.319 L85.9225 75.319 L85.9225 70.8051 L100.297 48.9071 Z\" fill=\"#000000\" fill-rule=\"nonzero\" fill-opacity=\"1\" /><polyline clip-path=\"url(#clip322)\" style=\"stroke:#009af9; stroke-linecap:round; stroke-linejoin:round; stroke-width:4; stroke-opacity:1; fill:none\" points=\"209.532,1109.47 230.34,1110.39 251.148,1113.19 271.956,1117.93 292.764,1124.62 313.572,1133.12 334.38,1143.17 355.188,1154.38 375.996,1166.25 396.804,1178.26 417.612,1189.94 438.42,1200.89 459.228,1210.79 480.036,1219.43 500.844,1226.65 521.652,1232.34 542.46,1236.47 563.268,1239.01 584.076,1239.98 604.884,1239.42 625.692,1237.38 646.5,1233.96 667.308,1229.25 688.116,1223.36 708.924,1216.42 729.732,1208.57 750.54,1199.97 771.348,1190.76 792.156,1181.1 812.964,1171.14 833.772,1161.04 854.58,1150.9 875.388,1140.86 896.196,1130.98 917.004,1121.33 937.812,1111.93 958.62,1102.82 979.428,1093.98 1000.24,1085.41 1021.04,1077.09 1041.85,1069.05 1062.66,1061.31 1083.47,1053.96 1104.28,1047.12 1125.08,1040.98 1145.89,1035.77 1166.7,1031.72 1187.51,1029.08 1208.32,1028.02 1229.12,1028.69 1249.93,1031.13 1270.74,1035.36 1291.55,1041.29 1312.36,1048.82 1333.16,1057.77 1353.97,1067.93 1374.78,1079.07 1395.59,1090.93 1416.4,1103.25 1437.2,1115.78 1458.01,1128.28 1478.82,1140.53 1499.63,1152.35 1520.44,1163.59 1541.24,1174.13 1562.05,1183.91 1582.86,1192.9 1603.67,1201.13 1624.48,1208.65 1645.28,1215.59 1666.09,1222.08 1686.9,1228.29 1707.71,1234.38 1728.52,1240.45 1749.32,1246.5 1770.13,1252.33 1790.94,1257.55 1811.75,1261.63 1832.56,1263.94 1853.36,1263.92 1874.17,1261.11 1894.98,1255.23 1915.79,1246.15 1936.6,1233.94 1957.4,1218.82 1978.21,1201.17 1999.02,1181.45 2019.83,1160.22 2040.64,1138.04 2061.44,1115.5 2082.25,1093.12 2103.06,1071.41 2123.87,1050.82 2144.68,1031.72 2165.48,1014.43 2186.29,999.253 2207.1,986.411 2227.91,976.121 2248.72,968.574 2269.52,963.944 2290.33,962.383 \"/>\n",
       "<polyline clip-path=\"url(#clip322)\" style=\"stroke:#e26f46; stroke-linecap:round; stroke-linejoin:round; stroke-width:4; stroke-opacity:1; fill:none\" points=\"209.532,815.296 230.34,813.141 251.148,806.576 271.956,795.369 292.764,779.488 313.572,759.147 334.38,734.854 355.188,707.404 375.996,677.788 396.804,647.057 417.612,616.174 438.42,585.926 459.228,556.909 480.036,529.542 500.844,504.117 521.652,480.831 542.46,459.822 563.268,441.186 584.076,424.994 604.884,411.295 625.692,400.122 646.5,391.49 667.308,385.404 688.116,381.848 708.924,380.795 729.732,382.201 750.54,386.009 771.348,392.15 792.156,400.545 812.964,411.105 833.772,423.739 854.58,438.352 875.388,454.85 896.196,473.144 917.004,493.153 937.812,514.802 958.62,538.026 979.428,562.764 1000.24,588.952 1021.04,616.516 1041.85,645.349 1062.66,675.297 1083.47,706.129 1104.28,737.527 1125.08,769.071 1145.89,800.271 1166.7,830.597 1187.51,859.547 1208.32,886.679 1229.12,911.644 1249.93,934.181 1270.74,954.11 1291.55,971.32 1312.36,985.756 1333.16,997.413 1353.97,1006.33 1374.78,1012.59 1395.59,1016.31 1416.4,1017.63 1437.2,1016.73 1458.01,1013.78 1478.82,1008.96 1499.63,1002.44 1520.44,994.37 1541.24,984.851 1562.05,973.941 1582.86,961.634 1603.67,947.856 1624.48,932.456 1645.28,915.208 1666.09,895.819 1686.9,873.958 1707.71,849.307 1728.52,821.647 1749.32,790.978 1770.13,757.635 1790.94,722.327 1811.75,686.064 1832.56,649.972 1853.36,615.109 1874.17,582.368 1894.98,552.447 1915.79,525.867 1936.6,503.001 1957.4,484.085 1978.21,469.226 1999.02,458.409 2019.83,451.501 2040.64,448.261 2061.44,448.357 2082.25,451.372 2103.06,456.827 2123.87,464.192 2144.68,472.9 2165.48,482.357 2186.29,491.955 2207.1,501.08 2227.91,509.126 2248.72,515.506 2269.52,519.668 2290.33,521.121 \"/>\n",
       "<polyline clip-path=\"url(#clip322)\" style=\"stroke:#3da44d; stroke-linecap:round; stroke-linejoin:round; stroke-width:4; stroke-opacity:1; fill:none\" points=\"209.532,815.296 230.34,851.51 251.148,890.063 271.956,929.368 292.764,967.389 313.572,1001.58 334.38,1029.15 355.188,1047.7 375.996,1055.91 396.804,1053.91 417.612,1042.97 438.42,1024.9 459.228,1001.53 480.036,974.44 500.844,944.884 521.652,913.857 542.46,882.161 563.268,850.456 584.076,819.306 604.884,789.19 625.692,760.526 646.5,733.677 667.308,708.964 688.116,686.673 708.924,667.059 729.732,650.335 750.54,636.66 771.348,626.116 792.156,618.688 812.964,614.246 833.772,612.539 854.58,613.207 875.388,615.802 896.196,619.829 917.004,624.79 937.812,630.228 958.62,635.78 979.428,641.214 1000.24,646.478 1021.04,651.736 1041.85,657.411 1062.66,664.199 1083.47,673.05 1104.28,685.049 1125.08,701.196 1145.89,722.127 1166.7,747.895 1187.51,777.927 1208.32,811.181 1229.12,846.365 1249.93,882.132 1270.74,917.189 1291.55,950.355 1312.36,980.589 1333.16,1007.02 1353.97,1028.97 1374.78,1045.99 1395.59,1057.83 1416.4,1064.51 1437.2,1066.22 1458.01,1063.35 1478.82,1056.44 1499.63,1046.15 1520.44,1033.22 1541.24,1018.48 1562.05,1002.78 1582.86,987.046 1603.67,972.181 1624.48,959.087 1645.28,948.572 1666.09,941.238 1686.9,937.273 1707.71,936.135 1728.52,936.194 1749.32,934.505 1770.13,927.121 1790.94,910.167 1811.75,881.224 1832.56,840.085 1853.36,788.483 1874.17,729.323 1894.98,666.039 1915.79,602.213 1936.6,541.319 1957.4,486.469 1978.21,440.174 1999.02,404.194 2019.83,379.502 2040.64,366.359 2061.44,364.439 2082.25,372.983 2103.06,390.947 2123.87,417.153 2144.68,450.427 2165.48,489.717 2186.29,534.157 2207.1,583.096 2227.91,636.059 2248.72,692.672 2269.52,752.569 2290.33,815.296 \"/>\n",
       "<polyline clip-path=\"url(#clip322)\" style=\"stroke:#c271d2; stroke-linecap:round; stroke-linejoin:round; stroke-width:4; stroke-opacity:1; fill:none\" points=\"209.532,815.296 230.34,730.455 251.148,639.326 271.956,545.331 292.764,452.891 313.572,367.522 334.38,295.251 355.188,241.243 375.996,208.228 396.804,195.828 417.612,201.206 438.42,220.448 459.228,249.754 480.036,286.059 500.844,327.14 521.652,371.496 542.46,418.14 563.268,466.417 584.076,515.868 604.884,566.132 625.692,616.892 646.5,667.842 667.308,718.676 688.116,769.09 708.924,818.782 729.732,867.467 750.54,914.885 771.348,960.807 792.156,1005.05 812.964,1047.48 833.772,1088.03 854.58,1126.68 875.388,1163.49 896.196,1198.57 917.004,1232.09 937.812,1264.22 958.62,1295.07 979.428,1324.71 1000.24,1352.99 1021.04,1379.5 1041.85,1403.46 1062.66,1423.65 1083.47,1438.37 1104.28,1445.72 1125.08,1443.89 1145.89,1431.74 1166.7,1409.16 1187.51,1377.05 1208.32,1337.03 1229.12,1290.92 1249.93,1240.45 1270.74,1187.07 1291.55,1132.04 1312.36,1076.41 1333.16,1021.12 1353.97,967.048 1374.78,914.951 1395.59,865.501 1416.4,819.222 1437.2,776.46 1458.01,737.345 1478.82,701.772 1499.63,669.377 1520.44,639.539 1541.24,611.382 1562.05,583.792 1582.86,555.449 1603.67,524.881 1624.48,490.55 1645.28,450.997 1666.09,405.091 1686.9,352.445 1707.71,294.026 1728.52,232.886 1749.32,174.601 1770.13,126.647 1790.94,96.2944 1811.75,87.9763 1832.56,102.11 1853.36,136.058 1874.17,185.964 1894.98,248.055 1915.79,319.06 1936.6,396.133 1957.4,476.648 1978.21,558.088 1999.02,638.034 2019.83,714.228 2040.64,784.642 2061.44,847.528 2082.25,901.435 2103.06,945.205 2123.87,977.961 2144.68,999.075 2165.48,1008.14 2186.29,1004.97 2207.1,989.546 2227.91,962.121 2248.72,923.232 2269.52,873.814 2290.33,815.296 \"/>\n",
       "<path clip-path=\"url(#clip320)\" d=\"M2004.53 1438.47 L2279.23 1438.47 L2279.23 1179.27 L2004.53 1179.27  Z\" fill=\"#ffffff\" fill-rule=\"evenodd\" fill-opacity=\"1\"/>\n",
       "<polyline clip-path=\"url(#clip320)\" style=\"stroke:#000000; stroke-linecap:round; stroke-linejoin:round; stroke-width:4; stroke-opacity:1; fill:none\" points=\"2004.53,1438.47 2279.23,1438.47 2279.23,1179.27 2004.53,1179.27 2004.53,1438.47 \"/>\n",
       "<polyline clip-path=\"url(#clip320)\" style=\"stroke:#009af9; stroke-linecap:round; stroke-linejoin:round; stroke-width:4; stroke-opacity:1; fill:none\" points=\"2029.03,1231.11 2176.08,1231.11 \"/>\n",
       "<path clip-path=\"url(#clip320)\" d=\"M2214.43 1250.8 Q2212.62 1255.43 2210.91 1256.84 Q2209.19 1258.26 2206.32 1258.26 L2202.92 1258.26 L2202.92 1254.69 L2205.42 1254.69 Q2207.18 1254.69 2208.15 1253.86 Q2209.13 1253.02 2210.31 1249.92 L2211.07 1247.98 L2200.58 1222.47 L2205.1 1222.47 L2213.2 1242.75 L2221.3 1222.47 L2225.82 1222.47 L2214.43 1250.8 Z\" fill=\"#000000\" fill-rule=\"nonzero\" fill-opacity=\"1\" /><path clip-path=\"url(#clip320)\" d=\"M2233.11 1244.46 L2240.75 1244.46 L2240.75 1218.09 L2232.44 1219.76 L2232.44 1215.5 L2240.7 1213.83 L2245.38 1213.83 L2245.38 1244.46 L2253.01 1244.46 L2253.01 1248.39 L2233.11 1248.39 L2233.11 1244.46 Z\" fill=\"#000000\" fill-rule=\"nonzero\" fill-opacity=\"1\" /><polyline clip-path=\"url(#clip320)\" style=\"stroke:#e26f46; stroke-linecap:round; stroke-linejoin:round; stroke-width:4; stroke-opacity:1; fill:none\" points=\"2029.03,1282.95 2176.08,1282.95 \"/>\n",
       "<path clip-path=\"url(#clip320)\" d=\"M2214.43 1302.64 Q2212.62 1307.27 2210.91 1308.68 Q2209.19 1310.1 2206.32 1310.1 L2202.92 1310.1 L2202.92 1306.53 L2205.42 1306.53 Q2207.18 1306.53 2208.15 1305.7 Q2209.13 1304.86 2210.31 1301.76 L2211.07 1299.82 L2200.58 1274.31 L2205.1 1274.31 L2213.2 1294.59 L2221.3 1274.31 L2225.82 1274.31 L2214.43 1302.64 Z\" fill=\"#000000\" fill-rule=\"nonzero\" fill-opacity=\"1\" /><path clip-path=\"url(#clip320)\" d=\"M2236.32 1296.3 L2252.64 1296.3 L2252.64 1300.23 L2230.7 1300.23 L2230.7 1296.3 Q2233.36 1293.54 2237.94 1288.92 Q2242.55 1284.26 2243.73 1282.92 Q2245.98 1280.4 2246.86 1278.66 Q2247.76 1276.9 2247.76 1275.21 Q2247.76 1272.46 2245.82 1270.72 Q2243.89 1268.98 2240.79 1268.98 Q2238.59 1268.98 2236.14 1269.75 Q2233.71 1270.51 2230.93 1272.06 L2230.93 1267.34 Q2233.75 1266.21 2236.21 1265.63 Q2238.66 1265.05 2240.7 1265.05 Q2246.07 1265.05 2249.26 1267.73 Q2252.46 1270.42 2252.46 1274.91 Q2252.46 1277.04 2251.65 1278.96 Q2250.86 1280.86 2248.75 1283.45 Q2248.18 1284.12 2245.07 1287.34 Q2241.97 1290.54 2236.32 1296.3 Z\" fill=\"#000000\" fill-rule=\"nonzero\" fill-opacity=\"1\" /><polyline clip-path=\"url(#clip320)\" style=\"stroke:#3da44d; stroke-linecap:round; stroke-linejoin:round; stroke-width:4; stroke-opacity:1; fill:none\" points=\"2029.03,1334.79 2176.08,1334.79 \"/>\n",
       "<path clip-path=\"url(#clip320)\" d=\"M2214.43 1354.48 Q2212.62 1359.11 2210.91 1360.52 Q2209.19 1361.94 2206.32 1361.94 L2202.92 1361.94 L2202.92 1358.37 L2205.42 1358.37 Q2207.18 1358.37 2208.15 1357.54 Q2209.13 1356.7 2210.31 1353.6 L2211.07 1351.66 L2200.58 1326.15 L2205.1 1326.15 L2213.2 1346.43 L2221.3 1326.15 L2225.82 1326.15 L2214.43 1354.48 Z\" fill=\"#000000\" fill-rule=\"nonzero\" fill-opacity=\"1\" /><path clip-path=\"url(#clip320)\" d=\"M2246.46 1333.44 Q2249.82 1334.16 2251.69 1336.43 Q2253.59 1338.69 2253.59 1342.03 Q2253.59 1347.14 2250.07 1349.94 Q2246.56 1352.75 2240.07 1352.75 Q2237.9 1352.75 2235.58 1352.31 Q2233.29 1351.89 2230.84 1351.03 L2230.84 1346.52 Q2232.78 1347.65 2235.1 1348.23 Q2237.41 1348.81 2239.94 1348.81 Q2244.33 1348.81 2246.63 1347.07 Q2248.94 1345.34 2248.94 1342.03 Q2248.94 1338.97 2246.79 1337.26 Q2244.66 1335.52 2240.84 1335.52 L2236.81 1335.52 L2236.81 1331.68 L2241.02 1331.68 Q2244.47 1331.68 2246.3 1330.32 Q2248.13 1328.93 2248.13 1326.33 Q2248.13 1323.67 2246.23 1322.26 Q2244.36 1320.82 2240.84 1320.82 Q2238.92 1320.82 2236.72 1321.24 Q2234.52 1321.66 2231.88 1322.54 L2231.88 1318.37 Q2234.54 1317.63 2236.86 1317.26 Q2239.19 1316.89 2241.25 1316.89 Q2246.58 1316.89 2249.68 1319.32 Q2252.78 1321.73 2252.78 1325.85 Q2252.78 1328.72 2251.14 1330.71 Q2249.5 1332.68 2246.46 1333.44 Z\" fill=\"#000000\" fill-rule=\"nonzero\" fill-opacity=\"1\" /><polyline clip-path=\"url(#clip320)\" style=\"stroke:#c271d2; stroke-linecap:round; stroke-linejoin:round; stroke-width:4; stroke-opacity:1; fill:none\" points=\"2029.03,1386.63 2176.08,1386.63 \"/>\n",
       "<path clip-path=\"url(#clip320)\" d=\"M2214.43 1406.32 Q2212.62 1410.95 2210.91 1412.36 Q2209.19 1413.78 2206.32 1413.78 L2202.92 1413.78 L2202.92 1410.21 L2205.42 1410.21 Q2207.18 1410.21 2208.15 1409.38 Q2209.13 1408.54 2210.31 1405.44 L2211.07 1403.5 L2200.58 1377.99 L2205.1 1377.99 L2213.2 1398.27 L2221.3 1377.99 L2225.82 1377.99 L2214.43 1406.32 Z\" fill=\"#000000\" fill-rule=\"nonzero\" fill-opacity=\"1\" /><path clip-path=\"url(#clip320)\" d=\"M2245.14 1373.43 L2233.34 1391.88 L2245.14 1391.88 L2245.14 1373.43 M2243.92 1369.35 L2249.8 1369.35 L2249.8 1391.88 L2254.73 1391.88 L2254.73 1395.77 L2249.8 1395.77 L2249.8 1403.91 L2245.14 1403.91 L2245.14 1395.77 L2229.54 1395.77 L2229.54 1391.25 L2243.92 1369.35 Z\" fill=\"#000000\" fill-rule=\"nonzero\" fill-opacity=\"1\" /></svg>\n"
      ]
     },
     "execution_count": 31,
     "metadata": {},
     "output_type": "execute_result"
    }
   ],
   "source": [
    "Xm = [[X[i][3],X[i][4], X[i][7], X[i][8]] for i = 1:length(t_vec)]\n",
    "Xm = hcat(Xm...)\n",
    "plot(t_vec, Xm')"
   ]
  },
  {
   "cell_type": "code",
   "execution_count": 18,
   "id": "d50f2bca-cbc0-4959-9a49-77ccf467abc2",
   "metadata": {},
   "outputs": [
    {
     "data": {
      "text/plain": [
       "update_acro_pose! (generic function with 1 method)"
      ]
     },
     "execution_count": 18,
     "metadata": {},
     "output_type": "execute_result"
    }
   ],
   "source": [
    "# Acrobot (doublependulum)\n",
    "using Colors\n",
    "function build_acrobot!(vis, color=colorant\"blue\", thick=0.05)\n",
    "    l1,l2 = [1.,1.]\n",
    "    hinge = MeshCat.Cylinder(MeshCat.Point3f(-0.05,0,0), MeshCat.Point3f(0.05,0,0), 0.05f0)\n",
    "    dim1  = MeshCat.Vec(thick, thick, l1)\n",
    "    link1 = MeshCat.HyperRectangle(MeshCat.Vec(-thick/2,-thick/2,0),dim1)\n",
    "    dim2  = MeshCat.Vec(thick, thick, l2)\n",
    "    link2 = MeshCat.HyperRectangle(MeshCat.Vec(-thick/2,-thick/2,0),dim2)\n",
    "    mat1 = MeshPhongMaterial(color=colorant\"grey\")\n",
    "    mat2 = MeshPhongMaterial(color=color)\n",
    "    setobject!(vis[\"base\"], hinge, mat1)\n",
    "    setobject!(vis[\"link1\"], link1, mat2) \n",
    "    setobject!(vis[\"link1\",\"joint\"], hinge, mat1) \n",
    "    setobject!(vis[\"link1\",\"link2\"], link2, mat2) \n",
    "    settransform!(vis[\"link1\",\"link2\"], MeshCat.Translation(0,0,l1))\n",
    "    settransform!(vis[\"link1\",\"joint\"], MeshCat.Translation(0,0,l1))\n",
    "end\n",
    "\n",
    "function RotX(alpha)\n",
    "    c, s = cos(alpha), sin(alpha)\n",
    "    [1 0 0; 0 c -s; 0 s  c]\n",
    "end\n",
    "function update_acro_pose!(vis, x)\n",
    "    l1, l2 = [1, 1.]\n",
    "    settransform!(vis[\"robot\",\"link1\"], MeshCat.LinearMap(RotX(x[1]-pi/2)))\n",
    "    settransform!(vis[\"robot\",\"link1\",\"link2\"], MeshCat.compose(MeshCat.Translation(0,0,l1), MeshCat.LinearMap(RotX(x[2]))))\n",
    "end"
   ]
  },
  {
   "cell_type": "code",
   "execution_count": 19,
   "id": "61c3ab44-b8ce-4925-98cd-0dd693398560",
   "metadata": {},
   "outputs": [
    {
     "name": "stderr",
     "output_type": "stream",
     "text": [
      "\u001b[36m\u001b[1m[ \u001b[22m\u001b[39m\u001b[36m\u001b[1mInfo: \u001b[22m\u001b[39mListening on: 127.0.0.1:8723, thread id: 1\n",
      "\u001b[36m\u001b[1m┌ \u001b[22m\u001b[39m\u001b[36m\u001b[1mInfo: \u001b[22m\u001b[39mMeshCat server started. You can open the visualizer by visiting the following URL in your browser:\n",
      "\u001b[36m\u001b[1m└ \u001b[22m\u001b[39mhttp://127.0.0.1:8723\n"
     ]
    },
    {
     "data": {
      "text/html": [
       "    <div style=\"height: 500px; width: 100%; overflow-x: auto; overflow-y: hidden; resize: both\">\n",
       "    <iframe src=\"http://127.0.0.1:8723\" style=\"width: 100%; height: 100%; border: none\"></iframe>\n",
       "    </div>\n"
      ],
      "text/plain": [
       "MeshCat.DisplayedVisualizer(MeshCat.CoreVisualizer(MeshCat.SceneTrees.SceneNode(nothing, nothing, Dict{String, Vector{UInt8}}(), UInt8[0x83, 0xa7, 0x6f, 0x70, 0x74, 0x69, 0x6f, 0x6e, 0x73, 0x82  …  0x5f, 0x61, 0x6e, 0x69, 0x6d, 0x61, 0x74, 0x69, 0x6f, 0x6e], Dict{String, MeshCat.SceneTrees.SceneNode}(\"meshcat\" => MeshCat.SceneTrees.SceneNode(nothing, nothing, Dict{String, Vector{UInt8}}(), nothing, Dict{String, MeshCat.SceneTrees.SceneNode}(\"robot\" => MeshCat.SceneTrees.SceneNode(nothing, nothing, Dict{String, Vector{UInt8}}(), nothing, Dict{String, MeshCat.SceneTrees.SceneNode}(\"base\" => MeshCat.SceneTrees.SceneNode(UInt8[0x83, 0xa6, 0x6f, 0x62, 0x6a, 0x65, 0x63, 0x74, 0x84, 0xaa  …  0x72, 0x6f, 0x62, 0x6f, 0x74, 0x2f, 0x62, 0x61, 0x73, 0x65], nothing, Dict{String, Vector{UInt8}}(), nothing, Dict{String, MeshCat.SceneTrees.SceneNode}()), \"link1\" => MeshCat.SceneTrees.SceneNode(UInt8[0x83, 0xa6, 0x6f, 0x62, 0x6a, 0x65, 0x63, 0x74, 0x84, 0xaa  …  0x6f, 0x62, 0x6f, 0x74, 0x2f, 0x6c, 0x69, 0x6e, 0x6b, 0x31], nothing, Dict{String, Vector{UInt8}}(), nothing, Dict{String, MeshCat.SceneTrees.SceneNode}(\"joint\" => MeshCat.SceneTrees.SceneNode(UInt8[0x83, 0xa6, 0x6f, 0x62, 0x6a, 0x65, 0x63, 0x74, 0x84, 0xaa  …  0x69, 0x6e, 0x6b, 0x31, 0x2f, 0x6a, 0x6f, 0x69, 0x6e, 0x74], UInt8[0x83, 0xa6, 0x6d, 0x61, 0x74, 0x72, 0x69, 0x78, 0xc7, 0x40  …  0x69, 0x6e, 0x6b, 0x31, 0x2f, 0x6a, 0x6f, 0x69, 0x6e, 0x74], Dict{String, Vector{UInt8}}(), nothing, Dict{String, MeshCat.SceneTrees.SceneNode}()), \"link2\" => MeshCat.SceneTrees.SceneNode(UInt8[0x83, 0xa6, 0x6f, 0x62, 0x6a, 0x65, 0x63, 0x74, 0x84, 0xaa  …  0x69, 0x6e, 0x6b, 0x31, 0x2f, 0x6c, 0x69, 0x6e, 0x6b, 0x32], UInt8[0x83, 0xa6, 0x6d, 0x61, 0x74, 0x72, 0x69, 0x78, 0xc7, 0x40  …  0x69, 0x6e, 0x6b, 0x31, 0x2f, 0x6c, 0x69, 0x6e, 0x6b, 0x32], Dict{String, Vector{UInt8}}(), nothing, Dict{String, MeshCat.SceneTrees.SceneNode}()))))))))), Set{HTTP.WebSockets.WebSocket}(), ip\"127.0.0.1\", 8723))"
      ]
     },
     "execution_count": 19,
     "metadata": {},
     "output_type": "execute_result"
    }
   ],
   "source": [
    "dt = 0.05\n",
    "N = 80\n",
    "vis = Visualizer()\n",
    "build_acrobot!(vis[\"robot\"])\n",
    "anim = MeshCat.Animation(floor(Int, 1 / dt))\n",
    "\n",
    "for k = 1:N\n",
    "    MeshCat.atframe(anim, k) do\n",
    "        update_acro_pose!(vis, X[k][3:4])\n",
    "        \n",
    "    end\n",
    "end\n",
    "MeshCat.setanimation!(vis, anim)\n",
    "render(vis)"
   ]
  }
 ],
 "metadata": {
  "kernelspec": {
   "display_name": "Julia 1.6.7",
   "language": "julia",
   "name": "julia-1.6"
  },
  "language_info": {
   "file_extension": ".jl",
   "mimetype": "application/julia",
   "name": "julia",
   "version": "1.6.7"
  }
 },
 "nbformat": 4,
 "nbformat_minor": 5
}
