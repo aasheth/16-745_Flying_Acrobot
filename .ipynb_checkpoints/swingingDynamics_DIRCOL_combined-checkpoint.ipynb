{
 "cells": [
  {
   "cell_type": "code",
   "execution_count": 3,
   "id": "209fc7b1-832b-4902-9c6c-ca20a7152468",
   "metadata": {},
   "outputs": [
    {
     "name": "stderr",
     "output_type": "stream",
     "text": [
      "\u001b[32m\u001b[1m  Activating\u001b[22m\u001b[39m environment at `C:\\Users\\ameys\\Desktop\\Spring '24\\16-745_OptimalControlAndRL\\16-745_Flying_Acrobot\\Project.toml`\n"
     ]
    }
   ],
   "source": [
    "import Pkg\n",
    "Pkg.activate(@__DIR__)\n",
    "Pkg.instantiate()\n",
    "import MathOptInterface as MOI\n",
    "import Ipopt \n",
    "import FiniteDiff\n",
    "import ForwardDiff\n",
    "import Convex as cvx \n",
    "import ECOS\n",
    "using LinearAlgebra\n",
    "using Plots\n",
    "using Random\n",
    "using JLD2\n",
    "using Test\n",
    "import MeshCat as mc\n",
    "using MeshCat"
   ]
  },
  {
   "cell_type": "code",
   "execution_count": 4,
   "id": "9288ecfe-18fd-486b-b41e-59d605eeb170",
   "metadata": {},
   "outputs": [
    {
     "data": {
      "text/plain": [
       "animate_cartpole (generic function with 1 method)"
      ]
     },
     "execution_count": 4,
     "metadata": {},
     "output_type": "execute_result"
    }
   ],
   "source": [
    "include(joinpath(@__DIR__, \"utils\",\"fmincon.jl\"))\n",
    "include(joinpath(@__DIR__, \"utils\",\"cartpole_animation.jl\"))"
   ]
  },
  {
   "cell_type": "code",
   "execution_count": 5,
   "id": "e7593aa6-e6e8-4df1-b2da-e08b7f8dcb3d",
   "metadata": {},
   "outputs": [
    {
     "data": {
      "text/plain": [
       "hermite_simpson (generic function with 1 method)"
      ]
     },
     "execution_count": 5,
     "metadata": {},
     "output_type": "execute_result"
    }
   ],
   "source": [
    "#copied from RobotZoo src\n",
    "function swinging_dynamics(params, x, u)\n",
    "    g = 9.81\n",
    "    m1,m2 = [1.,1.]\n",
    "    l1,l2 = [1.,1.]\n",
    "    J1,J2 = [1.,1.]\n",
    "    θ1,    θ2    = x[3], x[4]\n",
    "    θ1dot, θ2dot = x[7], x[8]\n",
    "    s1,c1 = sincos(θ1)\n",
    "    s2,c2 = sincos(θ2)\n",
    "    c12 = cos(θ1 + θ2)\n",
    "\n",
    "    # mass matrix\n",
    "    m11 = m1*l1^2 + J1 + m2*(l1^2 + l2^2 + 2*l1*l2*c2) + J2\n",
    "    m12 = m2*(l2^2 + l1*l2*c2 + J2)\n",
    "    m22 = l2^2*m2 + J2\n",
    "    M = [m11 m12; m12 m22]\n",
    "\n",
    "    # bias term\n",
    "    tmp = l1*l2*m2*s2\n",
    "    b1 = -(2 * θ1dot * θ2dot + θ2dot^2)*tmp\n",
    "    b2 = tmp * θ1dot^2\n",
    "    B = [b1, b2]\n",
    "\n",
    "    # friction\n",
    "    c = 1.0\n",
    "    C = [c*θ1dot, c*θ2dot]\n",
    "\n",
    "    # gravity term\n",
    "    g1 = ((m1 + m2)*l2*c1 + m2*l2*c12) * g\n",
    "    g2 = m2*l2*c12*g\n",
    "    G = [g1, g2]\n",
    "\n",
    "    # equations of motion\n",
    "    τ = [0, u[1]]\n",
    "    θddot = M\\(τ - B - G - C)\n",
    "    return [0, 0, θ1dot, θ2dot, 0, 0, θddot[1], θddot[2]]\n",
    "end\n",
    "\n",
    "\n",
    "function f(params, q)\n",
    "    #= \n",
    "    this function returns a new state vector [x1, y1, x2, y2, θ1, θ2], good for calculating M(q)\n",
    "    x1, y1 = coordinates of C.O.M. of link 1\n",
    "    x2, y2 = coordinates of C.O.M. of link 2\n",
    "    θ1, θ2 = angle between axis of link and x-axis for links 1 and 2\n",
    "    =#\n",
    "    l1, l2 = params.l1, params.l2\n",
    "    x, y, θ1, θ2 = q[1], q[2], q[3], q[4]\n",
    "    s1,c1 = sincos(θ1)\n",
    "    s2,c2 = sincos(θ2)\n",
    "    s12, c12 = sincos(θ1 + θ2)\n",
    "    return [x + l1/2*c1, y + l1/2*s1, x + l1*c1 + l2/2*c12, y + l1*s1 + l2/2*s12, θ1, θ2] \n",
    "end\n",
    "\n",
    "function Mq(params, q)\n",
    "    # returns the M(q) matrix used for Euler Lagrange equation\n",
    "    m1,m2,I1,I2 = params.m1,params.m2,params.I1,params.I2\n",
    "    M = diagm([m1,m1,m2,m2,I1,I2])\n",
    "    δfδq = ForwardDiff.jacobian(dq -> f(params, dq), q)\n",
    "    Mq = δfδq'*M*δfδq\n",
    "    return Mq\n",
    "end\n",
    "\n",
    "function V(params, q)\n",
    "    # returns the P.E. of the two-link system, used for calculting the B term in Euler Lagrange equation\n",
    "    g = 9.81\n",
    "    m1,m2,l1,l2 = params.m1,params.m2,params.l1, params.l2\n",
    "    x, y, θ1, θ2 = q[1], q[2], q[3], q[4]\n",
    "    s1,c1 = sincos(θ1)\n",
    "    s2,c2 = sincos(θ2)\n",
    "    s12, c12 = sincos(θ1 + θ2)\n",
    "    V = m1*g*(y + l1/2*s1) + m2*g*(y + l1*s1 + l2/2*s12)\n",
    "    return V\n",
    "end\n",
    "\n",
    "function flight_dynamics(params, x, u)\n",
    "    #=\n",
    "    dynamics of the two-link system while air-borne\n",
    "    calculates qddot using Euler Lagrange equation\n",
    "    returns ẋ\n",
    "    =#\n",
    "    nx = params.nx\n",
    "    q = [x[i] for i = 1:4]\n",
    "    q̇ = [x[i] for i = 5:8]\n",
    "    \n",
    "    # mass matrix and its derivative wrt q\n",
    "    M_q = Mq(params, q)\n",
    "    δMqδq = ForwardDiff.jacobian(dq -> vec(Mq(params, dq)), q)\n",
    "\n",
    "    # N, C, τ terms\n",
    "    N = ForwardDiff.gradient(dq -> V(params, dq), q)\n",
    "    #size(kron(q̇', I(4)))\n",
    "    #size(δMqδq)\n",
    "    C = 1/2*(kron(q̇', I(4))*δMqδq*q̇)\n",
    "    τ = [0, 0, 0, u[1]]\n",
    "\n",
    "    #equations of motion\n",
    "    qddot = M_q \\ (τ - N - C)\n",
    "    return [q̇; qddot]\n",
    "end\n",
    "\n",
    "function hermite_simpson(params::NamedTuple, dynamics::Function, x1::Vector, x2::Vector, u, dt::Real)::Vector\n",
    "    # TODO: input hermite simpson implicit integrator residual \n",
    "    x_k_half = 0.5*(x1+x2) + (dt/8)*(dynamics(params, x1, u) - dynamics(params, x2, u))\n",
    "    return x1 + (dt/6)*(dynamics(params, x1, u) + 4*dynamics(params, x_k_half, u) + \n",
    "        dynamics(params, x2, u)) - x2\n",
    "end"
   ]
  },
  {
   "cell_type": "code",
   "execution_count": 6,
   "id": "9495f48b-00ce-4bca-8b5e-206357dec9fd",
   "metadata": {},
   "outputs": [
    {
     "data": {
      "text/plain": [
       "swinging_equality_constraint (generic function with 1 method)"
      ]
     },
     "execution_count": 6,
     "metadata": {},
     "output_type": "execute_result"
    }
   ],
   "source": [
    "function create_idx(nx,nu,N)\n",
    "    # This function creates some useful indexing tools for Z \n",
    "    # x_i = Z[idx.x[i]]\n",
    "    # u_i = Z[idx.u[i]]\n",
    "    \n",
    "    # our Z vector is [x0, u0, x1, u1, …, xN]\n",
    "    nz = (N-1) * nu + (N) * nx # length of Z \n",
    "    x = [(i - 1) * (nx + nu) .+ (1 : nx) for i = 1:N]\n",
    "    u = [(i - 1) * (nx + nu) .+ ((nx + 1):(nx + nu)) for i = 1:(N - 1)]\n",
    "    \n",
    "    # constraint indexing for the (N-1) dynamics constraints when stacked up\n",
    "    c = [(i - 1) * (nx) .+ (1 : nx) for i = 1:(N - 1)]\n",
    "    nc = (N - 1) * nx # (N-1)*nx \n",
    "    \n",
    "    return (nx=nx,nu=nu,N=N,nz=nz,nc=nc,x= x,u = u,c = c)\n",
    "end\n",
    "\n",
    "function swinging_cost(params::NamedTuple, Z::Vector)::Real\n",
    "    idx, N, xg, N1 = params.idx, params.N, params.xg, params.N1\n",
    "    Q, R, Qf = params.Q, params.R, params.Qf\n",
    "    \n",
    "    # TODO: input cartpole LQR cost \n",
    "    \n",
    "    J = 0 \n",
    "    for i = 1:(N1-1)\n",
    "        xi = Z[idx.x[i]]\n",
    "        ui = Z[idx.u[i]]\n",
    "        J += 1/2*(ui'*R*ui)\n",
    "    end\n",
    "\n",
    "    # dont forget terminal cost\n",
    "    # xn = Z[idx.x[N]]\n",
    "    # J += 1/2*(xn - xg)'*Qf*(xn - xg)    \n",
    "    \n",
    "    return J \n",
    "end\n",
    "\n",
    "function swinging_dynamics_constraints(params::NamedTuple, Z::Vector)::Vector\n",
    "    idx, N, dt, N1 = params.idx, params.N, params.dt, params.N1\n",
    "    \n",
    "    # TODO: create dynamics constraints using hermite simpson \n",
    "    \n",
    "    # create c in a ForwardDiff friendly way (check HW0)\n",
    "    c = zeros(eltype(Z), idx.nc)\n",
    "    \n",
    "    for i = 1:(N-1)\n",
    "        xi = Z[idx.x[i]]\n",
    "        ui = Z[idx.u[i]] \n",
    "        xip1 = Z[idx.x[i+1]]\n",
    "        \n",
    "        # TODO: hermite simpson \n",
    "        c[idx.c[i]] = hermite_simpson(params, swinging_dynamics, xi, xip1, ui, dt)\n",
    "    end\n",
    "\n",
    "    for i = N:N1-1\n",
    "        xi = Z[idx.x[i]]\n",
    "        ui = Z[idx.u[i]] \n",
    "        xip1 = Z[idx.x[i+1]]\n",
    "        \n",
    "        # TODO: hermite simpson \n",
    "        c[idx.c[i]] = hermite_simpson(params, flight_dynamics, xi, xip1, ui, dt)\n",
    "    end\n",
    "        \n",
    "    return c \n",
    "end\n",
    "\n",
    "function swinging_equality_constraint(params::NamedTuple, Z::Vector)::Vector\n",
    "    N, idx, xic, xg = params.N, params.idx, params.xic, params.xg \n",
    "    \n",
    "    # TODO: return all of the equality constraints \n",
    "    equality_constraints = [Z[idx.x[1]] - xic;  \n",
    "        swinging_dynamics_constraints(params, Z)]\n",
    "    \n",
    "    return equality_constraints # 10 is an arbitrary number \n",
    "end"
   ]
  },
  {
   "cell_type": "code",
   "execution_count": 7,
   "id": "3b42c03b-9813-43d3-bff5-d3259e2df2a8",
   "metadata": {},
   "outputs": [
    {
     "data": {
      "text/plain": [
       "0.8403801886015861"
      ]
     },
     "execution_count": 7,
     "metadata": {},
     "output_type": "execute_result"
    }
   ],
   "source": [
    "d = 2 # distance between bars\n",
    "v = (d*9.81/(2*sin(pi/3)*cos(pi/3)))^0.5\n",
    "t = d/(v*cos(pi/3))"
   ]
  },
  {
   "cell_type": "code",
   "execution_count": 8,
   "id": "65b2d4a0-8089-4fce-aa50-a3eff23e6401",
   "metadata": {},
   "outputs": [
    {
     "data": {
      "text/plain": [
       "solve_flight (generic function with 1 method)"
      ]
     },
     "execution_count": 8,
     "metadata": {},
     "output_type": "execute_result"
    }
   ],
   "source": [
    "function solve_flight(;verbose = true)\n",
    "    d = 2 # distance between bars\n",
    "    v = (d*9.81/(2*sin(pi/3)*cos(pi/3)))^0.5\n",
    "    t = d/(v*cos(pi/3))\n",
    "    \n",
    "    nx = 8\n",
    "    nu = 1\n",
    "    dt = 0.05\n",
    "    tf = 5\n",
    "    t_vec = 0:dt:tf \n",
    "    N = length(0:dt:tf-1)\n",
    "    N1 = length(t_vec)\n",
    "\n",
    "    #LQR cost\n",
    "    Q = Diagonal([1.0*ones(2); 0.1*ones(2)]);\n",
    "    R = 0.01;\n",
    "    Qf = Array(10*I(nx));\n",
    "\n",
    "    # indexing \n",
    "    idx = create_idx(nx,nu,N1)\n",
    "    \n",
    "    # initial and goal states \n",
    "    xic = [0, 0, 0, 0, 0, 0, 0, 0]\n",
    "    xg = [2, 0, -pi/3, pi/3, v*cos(pi/3), -v*sin(pi/3), 0, 0]\n",
    "\n",
    "    #load everything useful into params\n",
    "    params = (Q = Q, R = R, Qf = Qf, xic = xic, xg = xg, dt = dt, N = N, N1 = N1, idx = idx, nx = nx, m1 = 1, m2 = 1, I1 = 1, I2 = 1, l1 = 1, l2 = 1)\n",
    "\n",
    "    # TODO: primal bounds \n",
    "    x_l = -Inf*ones(idx.nz)\n",
    "    x_u = Inf*ones(idx.nz)\n",
    "\n",
    "    #=for i = 1:N-1\n",
    "        x_l[idx.u[i]] .= -100\n",
    "        x_u[idx.u[i]] .= 100\n",
    "    end=#\n",
    "    #x_l[idx.x[N1]] .= [1.9, -0.1, -Inf, -Inf, -Inf, -Inf, -Inf, -Inf]\n",
    "    #x_u[idx.x[N1]] .= [2.1, 0.1, Inf, Inf, Inf, Inf, Inf, Inf]\n",
    "    x_l[idx.x[N1][1]] .= 1.9\n",
    "    x_l[idx.x[N1][2]] .= -0.1\n",
    "    x_u[idx.x[N1][1]] .= 2.1\n",
    "    x_u[idx.x[N1][2]] .= 0.1\n",
    "    # inequality constraint bounds (this is what we do when we have no inequality constraints)  \n",
    "    c_l = zeros(0)\n",
    "    c_u = zeros(0)\n",
    "    function inequality_constraint(params, Z)\n",
    "        return zeros(eltype(Z), 0)\n",
    "    end\n",
    "\n",
    "\n",
    "    # initial guess \n",
    "    z0 = 0.001*randn(idx.nz)\n",
    "\n",
    "    diff_type = :auto\n",
    "\n",
    "    Z = fmincon(swinging_cost, swinging_equality_constraint, inequality_constraint,\n",
    "                x_l,x_u,c_l,c_u,z0,params, diff_type;\n",
    "                tol = 1e-3, c_tol = 1e-3, max_iters = 10_000, verbose = verbose)\n",
    "    \n",
    "    # pull the X and U solutions out of Z \n",
    "    X = [Z[idx.x[i]] for i = 1:N]\n",
    "    U = [Z[idx.u[i]] for i = 1:(N-1)]\n",
    "    \n",
    "    return X, U, t_vec, params \n",
    "end"
   ]
  },
  {
   "cell_type": "code",
   "execution_count": 9,
   "id": "4d6eb611-530d-405f-9cc0-506ce12bff9e",
   "metadata": {},
   "outputs": [],
   "source": [
    "#@testset \"cartpole swingup\" begin \n",
    "    \n",
    "#=X, U, t_vec = solve_swingup(verbose=true)\n",
    "\n",
    "\n",
    "# --------------testing------------------\n",
    "@test isapprox(X[1],[-pi/2, 0, 0, 0], atol = 1e-4)\n",
    "@test isapprox(X[end], [-pi/4, pi/2, 0, 0], atol = 1e-4)\n",
    "Xm = hcat(X...)\n",
    "Um = hcat(U...)\n",
    "\n",
    "# --------------plotting-----------------\n",
    "display(plot(t_vec, Xm', label = [\"p\" \"θ\" \"ṗ\" \"θ̇\"], xlabel = \"time (s)\", title = \"State Trajectory\"))\n",
    "display(plot(t_vec[1:end-1],Um',label=\"\",xlabel = \"time (s)\", ylabel = \"u\",title = \"Controls\"))\n",
    "\n",
    "# meshcat animation\n",
    "display(animate_cartpole(X, 0.05))\n",
    "    \n",
    "#end+=#"
   ]
  },
  {
   "cell_type": "code",
   "execution_count": 10,
   "id": "37f540cc-49ea-4367-8ddc-8c72ddd894e2",
   "metadata": {},
   "outputs": [
    {
     "name": "stdout",
     "output_type": "stream",
     "text": [
      "---------checking dimensions of everything----------\n"
     ]
    },
    {
     "ename": "LoadError",
     "evalue": "AssertionError: maximum(x_l) <= minimum(x_u)",
     "output_type": "error",
     "traceback": [
      "AssertionError: maximum(x_l) <= minimum(x_u)",
      "",
      "Stacktrace:",
      " [1] fmincon(cost::typeof(swinging_cost), equality_constraint::typeof(swinging_equality_constraint), inequality_constraint::var\"#inequality_constraint#41\", x_l::Vector{Float64}, x_u::Vector{Float64}, c_l::Vector{Float64}, c_u::Vector{Float64}, x0::Vector{Float64}, params::NamedTuple{(:Q, :R, :Qf, :xic, :xg, :dt, :N, :N1, :idx, :nx, :m1, :m2, :I1, :I2, :l1, :l2), Tuple{Diagonal{Float64, Vector{Float64}}, Float64, Matrix{Int64}, Vector{Int64}, Vector{Float64}, Float64, Int64, Int64, NamedTuple{(:nx, :nu, :N, :nz, :nc, :x, :u, :c), Tuple{Int64, Int64, Int64, Int64, Int64, Vector{UnitRange{Int64}}, Vector{UnitRange{Int64}}, Vector{UnitRange{Int64}}}}, Int64, Int64, Int64, Int64, Int64, Int64, Int64}}, diff_type::Symbol; tol::Float64, c_tol::Float64, max_iters::Int64, verbose::Bool)",
      "   @ Main C:\\Users\\ameys\\Desktop\\Spring '24\\16-745_OptimalControlAndRL\\16-745_Flying_Acrobot\\utils\\fmincon.jl:187",
      " [2] solve_flight(; verbose::Bool)",
      "   @ Main .\\In[8]:53",
      " [3] top-level scope",
      "   @ In[10]:3"
     ]
    }
   ],
   "source": [
    "#@testset \"cartpole swingup\" begin \n",
    "\n",
    "X, U, t_vec = solve_flight(verbose=true)"
   ]
  },
  {
   "cell_type": "code",
   "execution_count": 11,
   "id": "d50f2bca-cbc0-4959-9a49-77ccf467abc2",
   "metadata": {},
   "outputs": [
    {
     "data": {
      "text/plain": [
       "update_acro_pose! (generic function with 1 method)"
      ]
     },
     "execution_count": 11,
     "metadata": {},
     "output_type": "execute_result"
    }
   ],
   "source": [
    "# Acrobot (doublependulum)\n",
    "using Colors\n",
    "function build_acrobot!(vis, color=colorant\"blue\", thick=0.05)\n",
    "    l1,l2 = [1.,1.]\n",
    "    hinge = MeshCat.Cylinder(MeshCat.Point3f(-0.05,0,0), MeshCat.Point3f(0.05,0,0), 0.05f0)\n",
    "    dim1  = MeshCat.Vec(thick, thick, l1)\n",
    "    link1 = MeshCat.HyperRectangle(MeshCat.Vec(-thick/2,-thick/2,0),dim1)\n",
    "    dim2  = MeshCat.Vec(thick, thick, l2)\n",
    "    link2 = MeshCat.HyperRectangle(MeshCat.Vec(-thick/2,-thick/2,0),dim2)\n",
    "    mat1 = MeshPhongMaterial(color=colorant\"grey\")\n",
    "    mat2 = MeshPhongMaterial(color=color)\n",
    "    setobject!(vis[\"base\"], hinge, mat1)\n",
    "    setobject!(vis[\"link1\"], link1, mat2) \n",
    "    setobject!(vis[\"link1\",\"joint\"], hinge, mat1) \n",
    "    setobject!(vis[\"link1\",\"link2\"], link2, mat2) \n",
    "    settransform!(vis[\"link1\",\"link2\"], MeshCat.Translation(0,0,l1))\n",
    "    settransform!(vis[\"link1\",\"joint\"], MeshCat.Translation(0,0,l1))\n",
    "end\n",
    "\n",
    "function RotX(alpha)\n",
    "    c, s = cos(alpha), sin(alpha)\n",
    "    [1 0 0; 0 c -s; 0 s  c]\n",
    "end\n",
    "function update_acro_pose!(vis, x)\n",
    "    l1, l2 = [1, 1.]\n",
    "    settransform!(vis[\"robot\",\"link1\"], MeshCat.LinearMap(RotX(x[1]-pi/2)))\n",
    "    settransform!(vis[\"robot\",\"link1\",\"link2\"], MeshCat.compose(MeshCat.Translation(0,0,l1), MeshCat.LinearMap(RotX(x[2]))))\n",
    "end"
   ]
  },
  {
   "cell_type": "code",
   "execution_count": 12,
   "id": "61c3ab44-b8ce-4925-98cd-0dd693398560",
   "metadata": {},
   "outputs": [
    {
     "name": "stderr",
     "output_type": "stream",
     "text": [
      "\u001b[36m\u001b[1m[ \u001b[22m\u001b[39m\u001b[36m\u001b[1mInfo: \u001b[22m\u001b[39mListening on: 127.0.0.1:8709, thread id: 1\n",
      "\u001b[36m\u001b[1m┌ \u001b[22m\u001b[39m\u001b[36m\u001b[1mInfo: \u001b[22m\u001b[39mMeshCat server started. You can open the visualizer by visiting the following URL in your browser:\n",
      "\u001b[36m\u001b[1m└ \u001b[22m\u001b[39mhttp://127.0.0.1:8709\n"
     ]
    },
    {
     "ename": "LoadError",
     "evalue": "UndefVarError: X not defined",
     "output_type": "error",
     "traceback": [
      "UndefVarError: X not defined",
      "",
      "Stacktrace:",
      " [1] (::var\"",
      "   @ .\\In[12]:9 [inlined]",
      " [2] overdub",
      "   @ .\\In[12]:9 [inlined]",
      " [3] overdub(overdub_context#283::Cassette.Context{MeshCat.var\"##AnimationCtx#Name\", Tuple{MeshCat.Animation, Int64}, Nothing, Cassette.var\"##PassType#285\", Nothing, Nothing}, overdub_arguments#284::var\"#44#45\"{Int64})",
      "   @ Cassette C:\\Users\\ameys\\.julia\\packages\\Cassette\\4UsSX\\src\\overdub.jl:0",
      " [4] atframe(f::Function, animation::MeshCat.Animation, frame::Int64)",
      "   @ MeshCat C:\\Users\\ameys\\.julia\\packages\\MeshCat\\I6NTX\\src\\atframe.jl:100",
      " [5] top-level scope",
      "   @ In[12]:8"
     ]
    }
   ],
   "source": [
    "dt = 0.05\n",
    "N = 11\n",
    "vis = Visualizer()\n",
    "build_acrobot!(vis[\"robot\"])\n",
    "anim = MeshCat.Animation(floor(Int, 1 / dt))\n",
    "\n",
    "for k = 1:N\n",
    "    MeshCat.atframe(anim, k) do\n",
    "        update_acro_pose!(vis, X[k][3:4])\n",
    "        \n",
    "    end\n",
    "end\n",
    "MeshCat.setanimation!(vis, anim)\n",
    "render(vis)"
   ]
  }
 ],
 "metadata": {
  "kernelspec": {
   "display_name": "Julia 1.6.7",
   "language": "julia",
   "name": "julia-1.6"
  },
  "language_info": {
   "file_extension": ".jl",
   "mimetype": "application/julia",
   "name": "julia",
   "version": "1.6.7"
  }
 },
 "nbformat": 4,
 "nbformat_minor": 5
}
